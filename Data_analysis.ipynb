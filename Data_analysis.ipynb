{
 "cells": [
  {
   "cell_type": "markdown",
   "metadata": {},
   "source": [
    "# Data Analysis"
   ]
  },
  {
   "cell_type": "markdown",
   "metadata": {},
   "source": [
    "Ideas for anaysis:\n",
    "- Boxplots for rentprices per city\n",
    "- ...\n",
    "- ...\n",
    "- \n",
    "- \n",
    "- "
   ]
  },
  {
   "cell_type": "markdown",
   "metadata": {},
   "source": [
    "### 1. Reading in the Data "
   ]
  },
  {
   "cell_type": "code",
   "execution_count": 3,
   "metadata": {},
   "outputs": [],
   "source": [
    "#Initialising the needed libaries\n",
    "import pandas as pd\n",
    "import numpy as np\n"
   ]
  },
  {
   "cell_type": "code",
   "execution_count": 7,
   "metadata": {},
   "outputs": [],
   "source": [
    "#Data from the Main-Dataset\n",
    "Uni4U_Data = pd.read_csv(r\"data/Uni4U_final.csv\")"
   ]
  },
  {
   "cell_type": "code",
   "execution_count": 5,
   "metadata": {},
   "outputs": [],
   "source": [
    "#Data with just the University information\n",
    "#data = pd.read_csv(r\"\\Users\\jaho3\\OneDrive\\Documents\\group-3\\archive\\cwurData.csv\")#, usecols = ['world_rank',\"institution\",\"country\", \"national_rank\", \"quality_of_education\", \"quality_of_faculty\", \"year\"])   \n",
    "\n",
    "uni_only_data = pd.read_csv(r\"data\\cwurData.csv\", usecols = ['world_rank',\"institution\",\"country\", \"national_rank\", \"quality_of_education\", \"quality_of_faculty\", \"year\"])   "
   ]
  },
  {
   "cell_type": "code",
   "execution_count": 8,
   "metadata": {},
   "outputs": [],
   "source": [
    "#Data with just Appartment information\n",
    "#appartments = pd.read_csv(r\"\\Users\\jaho3\\Downloads\\archive (3)\\immo_data.csv\", usecols = ['regio1','serviceCharge','balcony','telekomUploadSpeed','totalRent', \"yearConstructed\", \"hasKitchen\",\"cellar\", \"baseRent\",\"livingSpace\",\"petsAllowed\", \"lift\",\"noRooms\", \"garden\", \"regio2\", \"regio3\" ])\n",
    "appartments_only_data = pd.read_csv(r\"data/immo_data.csv\", usecols = ['regio1','serviceCharge','balcony','telekomUploadSpeed','totalRent', \"yearConstructed\", \"hasKitchen\",\"cellar\", \"baseRent\",\"livingSpace\",\"petsAllowed\", \"lift\",\"noRooms\", \"garden\", \"regio2\", \"regio3\" ])"
   ]
  },
  {
   "cell_type": "code",
   "execution_count": 9,
   "metadata": {},
   "outputs": [],
   "source": [
    "#Data with only the Population information\n",
    "population_only_data=pd.read_csv(\"data/Deutschland_Cities.csv\")\n",
    "#population_data=pd.read_csv(r\"\\Users\\jaho3\\Downloads\\TechLabs\\TechLabs\\Deutschland_Cities.csv\")"
   ]
  }
 ],
 "metadata": {
  "interpreter": {
   "hash": "45429065500bda149a16f7a19db94ab43fc4cf018270aded57a9293b54a45b66"
  },
  "kernelspec": {
   "display_name": "Python 3.9.7 ('base')",
   "language": "python",
   "name": "python3"
  },
  "language_info": {
   "codemirror_mode": {
    "name": "ipython",
    "version": 3
   },
   "file_extension": ".py",
   "mimetype": "text/x-python",
   "name": "python",
   "nbconvert_exporter": "python",
   "pygments_lexer": "ipython3",
   "version": "3.9.7"
  },
  "orig_nbformat": 4
 },
 "nbformat": 4,
 "nbformat_minor": 2
}
