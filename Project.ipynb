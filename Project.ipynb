{
 "cells": [
  {
   "cell_type": "code",
   "execution_count": null,
   "metadata": {},
   "outputs": [],
   "source": [
    "import pandas as pd"
   ]
  },
  {
   "cell_type": "code",
   "execution_count": 2,
   "metadata": {},
   "outputs": [],
   "source": [
    "import pandas as pd"
   ]
  },
  {
   "cell_type": "code",
   "execution_count": 5,
   "metadata": {},
   "outputs": [],
   "source": [
    "data = pd.read_csv(r\"C:\\Users\\jaho3\\OneDrive\\Documents\\GitHub\\group-3\\archive\\cwurData.csv\")\n",
    "# data = pd.read_csv(\"cwurData.csv\")\n",
    "data = data[data[\"country\"] == \"Germany\"]"
   ]
  },
  {
   "cell_type": "code",
   "execution_count": 28,
   "metadata": {},
   "outputs": [],
   "source": [
    "regex = \"(University of [a-zA-ZüäöÖÄÜ]+)\"\n",
    "data[\"city\"] = data[\"institution\"].str.extract(regex)\n",
    "data[\"city\"] = data[\"city\"].str.replace(\"University of \", \"\")\n",
    "data.loc[data[\"city\"].str.contains(\"technology\", case = False, na = False), \"city\"] = pd.NA"
   ]
  },
  {
   "cell_type": "code",
   "execution_count": 30,
   "metadata": {},
   "outputs": [
    {
     "data": {
      "text/plain": [
       "NaN           30\n",
       "Munich         7\n",
       "Berlin         6\n",
       "Heidelberg     4\n",
       "Halle          2\n",
       "Düsseldorf     2\n",
       "Göttingen      2\n",
       "Hohenheim      2\n",
       "Potsdam        2\n",
       "Regensburg     2\n",
       "Würzburg       2\n",
       "Kiel           2\n",
       "Marburg        2\n",
       "Münster        2\n",
       "Hanover        2\n",
       "Dortmund       2\n",
       "Siegen         2\n",
       "Tübingen       2\n",
       "Oldenburg      2\n",
       "Stuttgart      2\n",
       "Bayreuth       2\n",
       "Rostock        2\n",
       "Ulm            2\n",
       "Konstanz       2\n",
       "Bonn           2\n",
       "Freiburg       2\n",
       "Augsburg       2\n",
       "Duisburg       2\n",
       "Lübeck         2\n",
       "Bremen         2\n",
       "Greifswald     2\n",
       "Cologne        2\n",
       "Osnabrück      2\n",
       "Hamburg        2\n",
       "Mainz          2\n",
       "Mannheim       2\n",
       "Jena           2\n",
       "Erlangen       2\n",
       "Name: city, dtype: int64"
      ]
     },
     "execution_count": 30,
     "metadata": {},
     "output_type": "execute_result"
    }
   ],
   "source": [
    "data[\"city\"].value_counts(dropna = False)"
   ]
  },
  {
   "cell_type": "code",
   "execution_count": 24,
   "metadata": {},
   "outputs": [
    {
     "data": {
      "text/html": [
       "<div>\n",
       "<style scoped>\n",
       "    .dataframe tbody tr th:only-of-type {\n",
       "        vertical-align: middle;\n",
       "    }\n",
       "\n",
       "    .dataframe tbody tr th {\n",
       "        vertical-align: top;\n",
       "    }\n",
       "\n",
       "    .dataframe thead th {\n",
       "        text-align: right;\n",
       "    }\n",
       "</style>\n",
       "<table border=\"1\" class=\"dataframe\">\n",
       "  <thead>\n",
       "    <tr style=\"text-align: right;\">\n",
       "      <th></th>\n",
       "      <th>world_rank</th>\n",
       "      <th>institution</th>\n",
       "      <th>country</th>\n",
       "      <th>national_rank</th>\n",
       "      <th>quality_of_education</th>\n",
       "      <th>alumni_employment</th>\n",
       "      <th>quality_of_faculty</th>\n",
       "      <th>publications</th>\n",
       "      <th>influence</th>\n",
       "      <th>citations</th>\n",
       "      <th>broad_impact</th>\n",
       "      <th>patents</th>\n",
       "      <th>score</th>\n",
       "      <th>year</th>\n",
       "      <th>city</th>\n",
       "    </tr>\n",
       "  </thead>\n",
       "  <tbody>\n",
       "    <tr>\n",
       "      <th>1108</th>\n",
       "      <td>909</td>\n",
       "      <td>University of Osnabrück</td>\n",
       "      <td>Germany</td>\n",
       "      <td>53</td>\n",
       "      <td>355</td>\n",
       "      <td>478</td>\n",
       "      <td>210</td>\n",
       "      <td>841</td>\n",
       "      <td>628</td>\n",
       "      <td>800</td>\n",
       "      <td>849.0</td>\n",
       "      <td>737</td>\n",
       "      <td>44.38</td>\n",
       "      <td>2014</td>\n",
       "      <td>Osnabr</td>\n",
       "    </tr>\n",
       "    <tr>\n",
       "      <th>2075</th>\n",
       "      <td>876</td>\n",
       "      <td>University of Osnabrück</td>\n",
       "      <td>Germany</td>\n",
       "      <td>54</td>\n",
       "      <td>367</td>\n",
       "      <td>567</td>\n",
       "      <td>218</td>\n",
       "      <td>844</td>\n",
       "      <td>654</td>\n",
       "      <td>511</td>\n",
       "      <td>826.0</td>\n",
       "      <td>871</td>\n",
       "      <td>44.15</td>\n",
       "      <td>2015</td>\n",
       "      <td>Osnabr</td>\n",
       "    </tr>\n",
       "  </tbody>\n",
       "</table>\n",
       "</div>"
      ],
      "text/plain": [
       "      world_rank              institution  country  national_rank  \\\n",
       "1108         909  University of Osnabrück  Germany             53   \n",
       "2075         876  University of Osnabrück  Germany             54   \n",
       "\n",
       "      quality_of_education  alumni_employment  quality_of_faculty  \\\n",
       "1108                   355                478                 210   \n",
       "2075                   367                567                 218   \n",
       "\n",
       "      publications  influence  citations  broad_impact  patents  score  year  \\\n",
       "1108           841        628        800         849.0      737  44.38  2014   \n",
       "2075           844        654        511         826.0      871  44.15  2015   \n",
       "\n",
       "        city  \n",
       "1108  Osnabr  \n",
       "2075  Osnabr  "
      ]
     },
     "execution_count": 24,
     "metadata": {},
     "output_type": "execute_result"
    }
   ],
   "source": [
    "data[data[\"institution\"].str.contains(\"Osnabr\")]"
   ]
  },
  {
   "cell_type": "code",
   "execution_count": null,
   "metadata": {},
   "outputs": [],
   "source": [
    "\n",
    "filt.describe()\n"
   ]
  },
  {
   "cell_type": "code",
   "execution_count": null,
   "metadata": {},
   "outputs": [],
   "source": [
    "filt = data[(data[\"country\"] == \"Germany\") & (data[\"year\"] <= 2014)]\n",
    "filt"
   ]
  },
  {
   "cell_type": "code",
   "execution_count": null,
   "metadata": {},
   "outputs": [],
   "source": [
    "filt.describe()"
   ]
  }
 ],
 "metadata": {
  "interpreter": {
   "hash": "b9826790a917c0c71f6b0ff199b056045db8c19c3dcfe36ab0ba14f3e27bf938"
  },
  "kernelspec": {
   "display_name": "Python 3.8.8 64-bit ('base': conda)",
   "language": "python",
   "name": "python3"
  },
  "language_info": {
   "codemirror_mode": {
    "name": "ipython",
    "version": 3
   },
   "file_extension": ".py",
   "mimetype": "text/x-python",
   "name": "python",
   "nbconvert_exporter": "python",
   "pygments_lexer": "ipython3",
   "version": "3.8.8"
  },
  "orig_nbformat": 4
 },
 "nbformat": 4,
 "nbformat_minor": 2
}
