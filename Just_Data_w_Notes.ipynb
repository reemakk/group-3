{
 "cells": [
  {
   "cell_type": "markdown",
   "metadata": {},
   "source": [
    "# Data Creation \n"
   ]
  },
  {
   "cell_type": "markdown",
   "metadata": {},
   "source": []
  },
  {
   "cell_type": "markdown",
   "metadata": {},
   "source": [
    "### 1. Reading in the Data\n",
    "\n",
    "\n"
   ]
  },
  {
   "cell_type": "code",
   "execution_count": 1,
   "metadata": {},
   "outputs": [],
   "source": [
    "import pandas as pd           #Initialising the needed libaries"
   ]
  },
  {
   "cell_type": "code",
   "execution_count": 2,
   "metadata": {},
   "outputs": [],
   "source": [
    "#Data with the Universities\n",
    "# data = pd.read_csv(r\"\\Users\\jaho3\\OneDrive\\Documents\\group-3\\archive\\cwurData.csv\")#, usecols = ['world_rank',\"institution\",\"country\", \"national_rank\", \"quality_of_education\", \"quality_of_faculty\", \"year\"])   \n",
    "data = pd.read_csv(r\"cwurData.csv\")"
   ]
  },
  {
   "cell_type": "code",
   "execution_count": 4,
   "metadata": {},
   "outputs": [],
   "source": [
    "data[\"has_u\"] = data[\"institution\"].str.contains(\"u\")"
   ]
  },
  {
   "cell_type": "code",
   "execution_count": 32,
   "metadata": {},
   "outputs": [],
   "source": [
    "def get_balcony_percentage_by_city(city_entries: pd.Series) -> float:\n",
    "    vc = city_entries.value_counts(normalize = True)\n",
    "    if True in vc:\n",
    "        return vc[True]\n",
    "    else:\n",
    "        return 1 - vc[False]\n",
    "\n",
    "placeholder = data.groupby(\"country\")[\"has_u\"].apply(get_balcony_percentage_by_city)"
   ]
  },
  {
   "cell_type": "code",
   "execution_count": 34,
   "metadata": {},
   "outputs": [
    {
     "data": {
      "text/html": [
       "<div>\n",
       "<style scoped>\n",
       "    .dataframe tbody tr th:only-of-type {\n",
       "        vertical-align: middle;\n",
       "    }\n",
       "\n",
       "    .dataframe tbody tr th {\n",
       "        vertical-align: top;\n",
       "    }\n",
       "\n",
       "    .dataframe thead th {\n",
       "        text-align: right;\n",
       "    }\n",
       "</style>\n",
       "<table border=\"1\" class=\"dataframe\">\n",
       "  <thead>\n",
       "    <tr style=\"text-align: right;\">\n",
       "      <th></th>\n",
       "      <th>country</th>\n",
       "      <th>has_u</th>\n",
       "    </tr>\n",
       "  </thead>\n",
       "  <tbody>\n",
       "    <tr>\n",
       "      <th>0</th>\n",
       "      <td>Argentina</td>\n",
       "      <td>0.285714</td>\n",
       "    </tr>\n",
       "    <tr>\n",
       "      <th>1</th>\n",
       "      <td>Australia</td>\n",
       "      <td>0.448276</td>\n",
       "    </tr>\n",
       "    <tr>\n",
       "      <th>2</th>\n",
       "      <td>Austria</td>\n",
       "      <td>0.333333</td>\n",
       "    </tr>\n",
       "    <tr>\n",
       "      <th>3</th>\n",
       "      <td>Belgium</td>\n",
       "      <td>0.500000</td>\n",
       "    </tr>\n",
       "    <tr>\n",
       "      <th>4</th>\n",
       "      <td>Brazil</td>\n",
       "      <td>0.333333</td>\n",
       "    </tr>\n",
       "    <tr>\n",
       "      <th>5</th>\n",
       "      <td>Bulgaria</td>\n",
       "      <td>0.000000</td>\n",
       "    </tr>\n",
       "    <tr>\n",
       "      <th>6</th>\n",
       "      <td>Canada</td>\n",
       "      <td>0.277778</td>\n",
       "    </tr>\n",
       "    <tr>\n",
       "      <th>7</th>\n",
       "      <td>Chile</td>\n",
       "      <td>0.000000</td>\n",
       "    </tr>\n",
       "    <tr>\n",
       "      <th>8</th>\n",
       "      <td>China</td>\n",
       "      <td>0.389222</td>\n",
       "    </tr>\n",
       "    <tr>\n",
       "      <th>9</th>\n",
       "      <td>Colombia</td>\n",
       "      <td>0.000000</td>\n",
       "    </tr>\n",
       "    <tr>\n",
       "      <th>10</th>\n",
       "      <td>Croatia</td>\n",
       "      <td>0.000000</td>\n",
       "    </tr>\n",
       "    <tr>\n",
       "      <th>11</th>\n",
       "      <td>Cyprus</td>\n",
       "      <td>1.000000</td>\n",
       "    </tr>\n",
       "    <tr>\n",
       "      <th>12</th>\n",
       "      <td>Czech Republic</td>\n",
       "      <td>0.800000</td>\n",
       "    </tr>\n",
       "    <tr>\n",
       "      <th>13</th>\n",
       "      <td>Denmark</td>\n",
       "      <td>0.333333</td>\n",
       "    </tr>\n",
       "    <tr>\n",
       "      <th>14</th>\n",
       "      <td>Egypt</td>\n",
       "      <td>0.250000</td>\n",
       "    </tr>\n",
       "    <tr>\n",
       "      <th>15</th>\n",
       "      <td>Estonia</td>\n",
       "      <td>1.000000</td>\n",
       "    </tr>\n",
       "    <tr>\n",
       "      <th>16</th>\n",
       "      <td>Finland</td>\n",
       "      <td>0.200000</td>\n",
       "    </tr>\n",
       "    <tr>\n",
       "      <th>17</th>\n",
       "      <td>France</td>\n",
       "      <td>0.477064</td>\n",
       "    </tr>\n",
       "    <tr>\n",
       "      <th>18</th>\n",
       "      <td>Germany</td>\n",
       "      <td>0.478261</td>\n",
       "    </tr>\n",
       "    <tr>\n",
       "      <th>19</th>\n",
       "      <td>Greece</td>\n",
       "      <td>0.000000</td>\n",
       "    </tr>\n",
       "    <tr>\n",
       "      <th>20</th>\n",
       "      <td>Hong Kong</td>\n",
       "      <td>0.000000</td>\n",
       "    </tr>\n",
       "    <tr>\n",
       "      <th>21</th>\n",
       "      <td>Hungary</td>\n",
       "      <td>0.166667</td>\n",
       "    </tr>\n",
       "    <tr>\n",
       "      <th>22</th>\n",
       "      <td>Iceland</td>\n",
       "      <td>0.000000</td>\n",
       "    </tr>\n",
       "    <tr>\n",
       "      <th>23</th>\n",
       "      <td>India</td>\n",
       "      <td>0.806452</td>\n",
       "    </tr>\n",
       "    <tr>\n",
       "      <th>24</th>\n",
       "      <td>Iran</td>\n",
       "      <td>0.000000</td>\n",
       "    </tr>\n",
       "    <tr>\n",
       "      <th>25</th>\n",
       "      <td>Ireland</td>\n",
       "      <td>0.500000</td>\n",
       "    </tr>\n",
       "    <tr>\n",
       "      <th>26</th>\n",
       "      <td>Israel</td>\n",
       "      <td>0.636364</td>\n",
       "    </tr>\n",
       "    <tr>\n",
       "      <th>27</th>\n",
       "      <td>Italy</td>\n",
       "      <td>0.208333</td>\n",
       "    </tr>\n",
       "    <tr>\n",
       "      <th>28</th>\n",
       "      <td>Japan</td>\n",
       "      <td>0.339623</td>\n",
       "    </tr>\n",
       "    <tr>\n",
       "      <th>29</th>\n",
       "      <td>Lebanon</td>\n",
       "      <td>1.000000</td>\n",
       "    </tr>\n",
       "    <tr>\n",
       "      <th>30</th>\n",
       "      <td>Lithuania</td>\n",
       "      <td>1.000000</td>\n",
       "    </tr>\n",
       "    <tr>\n",
       "      <th>31</th>\n",
       "      <td>Malaysia</td>\n",
       "      <td>0.333333</td>\n",
       "    </tr>\n",
       "    <tr>\n",
       "      <th>32</th>\n",
       "      <td>Mexico</td>\n",
       "      <td>1.000000</td>\n",
       "    </tr>\n",
       "    <tr>\n",
       "      <th>33</th>\n",
       "      <td>Netherlands</td>\n",
       "      <td>0.206897</td>\n",
       "    </tr>\n",
       "    <tr>\n",
       "      <th>34</th>\n",
       "      <td>New Zealand</td>\n",
       "      <td>0.333333</td>\n",
       "    </tr>\n",
       "    <tr>\n",
       "      <th>35</th>\n",
       "      <td>Norway</td>\n",
       "      <td>0.000000</td>\n",
       "    </tr>\n",
       "    <tr>\n",
       "      <th>36</th>\n",
       "      <td>Poland</td>\n",
       "      <td>0.111111</td>\n",
       "    </tr>\n",
       "    <tr>\n",
       "      <th>37</th>\n",
       "      <td>Portugal</td>\n",
       "      <td>0.000000</td>\n",
       "    </tr>\n",
       "    <tr>\n",
       "      <th>38</th>\n",
       "      <td>Puerto Rico</td>\n",
       "      <td>1.000000</td>\n",
       "    </tr>\n",
       "    <tr>\n",
       "      <th>39</th>\n",
       "      <td>Romania</td>\n",
       "      <td>0.666667</td>\n",
       "    </tr>\n",
       "    <tr>\n",
       "      <th>40</th>\n",
       "      <td>Russia</td>\n",
       "      <td>0.444444</td>\n",
       "    </tr>\n",
       "    <tr>\n",
       "      <th>41</th>\n",
       "      <td>Saudi Arabia</td>\n",
       "      <td>1.000000</td>\n",
       "    </tr>\n",
       "    <tr>\n",
       "      <th>42</th>\n",
       "      <td>Serbia</td>\n",
       "      <td>0.000000</td>\n",
       "    </tr>\n",
       "    <tr>\n",
       "      <th>43</th>\n",
       "      <td>Singapore</td>\n",
       "      <td>0.000000</td>\n",
       "    </tr>\n",
       "    <tr>\n",
       "      <th>44</th>\n",
       "      <td>Slovak Republic</td>\n",
       "      <td>1.000000</td>\n",
       "    </tr>\n",
       "    <tr>\n",
       "      <th>45</th>\n",
       "      <td>Slovenia</td>\n",
       "      <td>0.500000</td>\n",
       "    </tr>\n",
       "    <tr>\n",
       "      <th>46</th>\n",
       "      <td>South Africa</td>\n",
       "      <td>0.200000</td>\n",
       "    </tr>\n",
       "    <tr>\n",
       "      <th>47</th>\n",
       "      <td>South Korea</td>\n",
       "      <td>0.541667</td>\n",
       "    </tr>\n",
       "    <tr>\n",
       "      <th>48</th>\n",
       "      <td>Spain</td>\n",
       "      <td>0.308642</td>\n",
       "    </tr>\n",
       "    <tr>\n",
       "      <th>49</th>\n",
       "      <td>Sweden</td>\n",
       "      <td>0.500000</td>\n",
       "    </tr>\n",
       "    <tr>\n",
       "      <th>50</th>\n",
       "      <td>Switzerland</td>\n",
       "      <td>0.692308</td>\n",
       "    </tr>\n",
       "    <tr>\n",
       "      <th>51</th>\n",
       "      <td>Taiwan</td>\n",
       "      <td>0.543478</td>\n",
       "    </tr>\n",
       "    <tr>\n",
       "      <th>52</th>\n",
       "      <td>Thailand</td>\n",
       "      <td>0.333333</td>\n",
       "    </tr>\n",
       "    <tr>\n",
       "      <th>53</th>\n",
       "      <td>Turkey</td>\n",
       "      <td>0.300000</td>\n",
       "    </tr>\n",
       "    <tr>\n",
       "      <th>54</th>\n",
       "      <td>USA</td>\n",
       "      <td>0.287958</td>\n",
       "    </tr>\n",
       "    <tr>\n",
       "      <th>55</th>\n",
       "      <td>Uganda</td>\n",
       "      <td>0.000000</td>\n",
       "    </tr>\n",
       "    <tr>\n",
       "      <th>56</th>\n",
       "      <td>United Arab Emirates</td>\n",
       "      <td>0.000000</td>\n",
       "    </tr>\n",
       "    <tr>\n",
       "      <th>57</th>\n",
       "      <td>United Kingdom</td>\n",
       "      <td>0.194444</td>\n",
       "    </tr>\n",
       "    <tr>\n",
       "      <th>58</th>\n",
       "      <td>Uruguay</td>\n",
       "      <td>1.000000</td>\n",
       "    </tr>\n",
       "  </tbody>\n",
       "</table>\n",
       "</div>"
      ],
      "text/plain": [
       "                 country     has_u\n",
       "0              Argentina  0.285714\n",
       "1              Australia  0.448276\n",
       "2                Austria  0.333333\n",
       "3                Belgium  0.500000\n",
       "4                 Brazil  0.333333\n",
       "5               Bulgaria  0.000000\n",
       "6                 Canada  0.277778\n",
       "7                  Chile  0.000000\n",
       "8                  China  0.389222\n",
       "9               Colombia  0.000000\n",
       "10               Croatia  0.000000\n",
       "11                Cyprus  1.000000\n",
       "12        Czech Republic  0.800000\n",
       "13               Denmark  0.333333\n",
       "14                 Egypt  0.250000\n",
       "15               Estonia  1.000000\n",
       "16               Finland  0.200000\n",
       "17                France  0.477064\n",
       "18               Germany  0.478261\n",
       "19                Greece  0.000000\n",
       "20             Hong Kong  0.000000\n",
       "21               Hungary  0.166667\n",
       "22               Iceland  0.000000\n",
       "23                 India  0.806452\n",
       "24                  Iran  0.000000\n",
       "25               Ireland  0.500000\n",
       "26                Israel  0.636364\n",
       "27                 Italy  0.208333\n",
       "28                 Japan  0.339623\n",
       "29               Lebanon  1.000000\n",
       "30             Lithuania  1.000000\n",
       "31              Malaysia  0.333333\n",
       "32                Mexico  1.000000\n",
       "33           Netherlands  0.206897\n",
       "34           New Zealand  0.333333\n",
       "35                Norway  0.000000\n",
       "36                Poland  0.111111\n",
       "37              Portugal  0.000000\n",
       "38           Puerto Rico  1.000000\n",
       "39               Romania  0.666667\n",
       "40                Russia  0.444444\n",
       "41          Saudi Arabia  1.000000\n",
       "42                Serbia  0.000000\n",
       "43             Singapore  0.000000\n",
       "44       Slovak Republic  1.000000\n",
       "45              Slovenia  0.500000\n",
       "46          South Africa  0.200000\n",
       "47           South Korea  0.541667\n",
       "48                 Spain  0.308642\n",
       "49                Sweden  0.500000\n",
       "50           Switzerland  0.692308\n",
       "51                Taiwan  0.543478\n",
       "52              Thailand  0.333333\n",
       "53                Turkey  0.300000\n",
       "54                   USA  0.287958\n",
       "55                Uganda  0.000000\n",
       "56  United Arab Emirates  0.000000\n",
       "57        United Kingdom  0.194444\n",
       "58               Uruguay  1.000000"
      ]
     },
     "execution_count": 34,
     "metadata": {},
     "output_type": "execute_result"
    }
   ],
   "source": [
    "data.groupby(\"country\")[\"has_u\"].apply(get_balcony_percentage_by_city).reset_index()"
   ]
  },
  {
   "cell_type": "code",
   "execution_count": 3,
   "metadata": {},
   "outputs": [],
   "source": [
    "#Data with Appartment Info\n",
    "appartments = pd.read_csv(r\"\\Users\\jaho3\\Downloads\\archive (3)\\immo_data.csv\", usecols = ['regio1','serviceCharge','balcony','telekomUploadSpeed','totalRent', \"yearConstructed\", \"hasKitchen\",\"cellar\", \"baseRent\",\"livingSpace\",\"petsAllowed\", \"lift\",\"noRooms\", \"garden\", \"regio2\", \"regio3\" ])\n",
    "#appartments = pd.read_csv(r\"data/immo_data.csv\", usecols = ['regio1','serviceCharge','balcony','telekomUploadSpeed','totalRent', \"yearConstructed\", \"hasKitchen\",\"cellar\", \"baseRent\",\"livingSpace\",\"petsAllowed\", \"lift\",\"noRooms\", \"garden\", \"regio2\", \"regio3\" ])"
   ]
  },
  {
   "cell_type": "code",
   "execution_count": 4,
   "metadata": {},
   "outputs": [],
   "source": [
    "#Data with Population Info\n",
    "#population_data=pd.read_csv(\"data/Deutschland_Cities.csv\")\n",
    "population_data=pd.read_csv(r\"\\Users\\jaho3\\Downloads\\TechLabs\\TechLabs\\Deutschland_Cities.csv\")"
   ]
  },
  {
   "cell_type": "code",
   "execution_count": 5,
   "metadata": {},
   "outputs": [
    {
     "data": {
      "text/html": [
       "<div>\n",
       "<style scoped>\n",
       "    .dataframe tbody tr th:only-of-type {\n",
       "        vertical-align: middle;\n",
       "    }\n",
       "\n",
       "    .dataframe tbody tr th {\n",
       "        vertical-align: top;\n",
       "    }\n",
       "\n",
       "    .dataframe thead th {\n",
       "        text-align: right;\n",
       "    }\n",
       "</style>\n",
       "<table border=\"1\" class=\"dataframe\">\n",
       "  <thead>\n",
       "    <tr style=\"text-align: right;\">\n",
       "      <th></th>\n",
       "      <th>world_rank</th>\n",
       "      <th>institution</th>\n",
       "      <th>country</th>\n",
       "      <th>national_rank</th>\n",
       "      <th>quality_of_education</th>\n",
       "      <th>alumni_employment</th>\n",
       "      <th>quality_of_faculty</th>\n",
       "      <th>publications</th>\n",
       "      <th>influence</th>\n",
       "      <th>citations</th>\n",
       "      <th>broad_impact</th>\n",
       "      <th>patents</th>\n",
       "      <th>score</th>\n",
       "      <th>year</th>\n",
       "    </tr>\n",
       "  </thead>\n",
       "  <tbody>\n",
       "    <tr>\n",
       "      <th>0</th>\n",
       "      <td>1</td>\n",
       "      <td>Harvard University</td>\n",
       "      <td>USA</td>\n",
       "      <td>1</td>\n",
       "      <td>7</td>\n",
       "      <td>9</td>\n",
       "      <td>1</td>\n",
       "      <td>1</td>\n",
       "      <td>1</td>\n",
       "      <td>1</td>\n",
       "      <td>NaN</td>\n",
       "      <td>5</td>\n",
       "      <td>100.00</td>\n",
       "      <td>2012</td>\n",
       "    </tr>\n",
       "    <tr>\n",
       "      <th>1</th>\n",
       "      <td>2</td>\n",
       "      <td>Massachusetts Institute of Technology</td>\n",
       "      <td>USA</td>\n",
       "      <td>2</td>\n",
       "      <td>9</td>\n",
       "      <td>17</td>\n",
       "      <td>3</td>\n",
       "      <td>12</td>\n",
       "      <td>4</td>\n",
       "      <td>4</td>\n",
       "      <td>NaN</td>\n",
       "      <td>1</td>\n",
       "      <td>91.67</td>\n",
       "      <td>2012</td>\n",
       "    </tr>\n",
       "    <tr>\n",
       "      <th>2</th>\n",
       "      <td>3</td>\n",
       "      <td>Stanford University</td>\n",
       "      <td>USA</td>\n",
       "      <td>3</td>\n",
       "      <td>17</td>\n",
       "      <td>11</td>\n",
       "      <td>5</td>\n",
       "      <td>4</td>\n",
       "      <td>2</td>\n",
       "      <td>2</td>\n",
       "      <td>NaN</td>\n",
       "      <td>15</td>\n",
       "      <td>89.50</td>\n",
       "      <td>2012</td>\n",
       "    </tr>\n",
       "    <tr>\n",
       "      <th>3</th>\n",
       "      <td>4</td>\n",
       "      <td>University of Cambridge</td>\n",
       "      <td>United Kingdom</td>\n",
       "      <td>1</td>\n",
       "      <td>10</td>\n",
       "      <td>24</td>\n",
       "      <td>4</td>\n",
       "      <td>16</td>\n",
       "      <td>16</td>\n",
       "      <td>11</td>\n",
       "      <td>NaN</td>\n",
       "      <td>50</td>\n",
       "      <td>86.17</td>\n",
       "      <td>2012</td>\n",
       "    </tr>\n",
       "    <tr>\n",
       "      <th>4</th>\n",
       "      <td>5</td>\n",
       "      <td>California Institute of Technology</td>\n",
       "      <td>USA</td>\n",
       "      <td>4</td>\n",
       "      <td>2</td>\n",
       "      <td>29</td>\n",
       "      <td>7</td>\n",
       "      <td>37</td>\n",
       "      <td>22</td>\n",
       "      <td>22</td>\n",
       "      <td>NaN</td>\n",
       "      <td>18</td>\n",
       "      <td>85.21</td>\n",
       "      <td>2012</td>\n",
       "    </tr>\n",
       "  </tbody>\n",
       "</table>\n",
       "</div>"
      ],
      "text/plain": [
       "   world_rank                            institution         country  \\\n",
       "0           1                     Harvard University             USA   \n",
       "1           2  Massachusetts Institute of Technology             USA   \n",
       "2           3                    Stanford University             USA   \n",
       "3           4                University of Cambridge  United Kingdom   \n",
       "4           5     California Institute of Technology             USA   \n",
       "\n",
       "   national_rank  quality_of_education  alumni_employment  quality_of_faculty  \\\n",
       "0              1                     7                  9                   1   \n",
       "1              2                     9                 17                   3   \n",
       "2              3                    17                 11                   5   \n",
       "3              1                    10                 24                   4   \n",
       "4              4                     2                 29                   7   \n",
       "\n",
       "   publications  influence  citations  broad_impact  patents   score  year  \n",
       "0             1          1          1           NaN        5  100.00  2012  \n",
       "1            12          4          4           NaN        1   91.67  2012  \n",
       "2             4          2          2           NaN       15   89.50  2012  \n",
       "3            16         16         11           NaN       50   86.17  2012  \n",
       "4            37         22         22           NaN       18   85.21  2012  "
      ]
     },
     "execution_count": 5,
     "metadata": {},
     "output_type": "execute_result"
    }
   ],
   "source": [
    "data.head()"
   ]
  },
  {
   "cell_type": "code",
   "execution_count": 14,
   "metadata": {},
   "outputs": [
    {
     "data": {
      "text/html": [
       "<div>\n",
       "<style scoped>\n",
       "    .dataframe tbody tr th:only-of-type {\n",
       "        vertical-align: middle;\n",
       "    }\n",
       "\n",
       "    .dataframe tbody tr th {\n",
       "        vertical-align: top;\n",
       "    }\n",
       "\n",
       "    .dataframe thead th {\n",
       "        text-align: right;\n",
       "    }\n",
       "</style>\n",
       "<table border=\"1\" class=\"dataframe\">\n",
       "  <thead>\n",
       "    <tr style=\"text-align: right;\">\n",
       "      <th></th>\n",
       "      <th>regio1</th>\n",
       "      <th>serviceCharge</th>\n",
       "      <th>balcony</th>\n",
       "      <th>telekomUploadSpeed</th>\n",
       "      <th>totalRent</th>\n",
       "      <th>yearConstructed</th>\n",
       "      <th>hasKitchen</th>\n",
       "      <th>cellar</th>\n",
       "      <th>baseRent</th>\n",
       "      <th>livingSpace</th>\n",
       "      <th>petsAllowed</th>\n",
       "      <th>lift</th>\n",
       "      <th>noRooms</th>\n",
       "      <th>garden</th>\n",
       "      <th>regio2</th>\n",
       "      <th>regio3</th>\n",
       "    </tr>\n",
       "  </thead>\n",
       "  <tbody>\n",
       "    <tr>\n",
       "      <th>0</th>\n",
       "      <td>Nordrhein_Westfalen</td>\n",
       "      <td>245.00</td>\n",
       "      <td>False</td>\n",
       "      <td>10.0</td>\n",
       "      <td>840.0</td>\n",
       "      <td>1965.0</td>\n",
       "      <td>False</td>\n",
       "      <td>True</td>\n",
       "      <td>595.0</td>\n",
       "      <td>86.00</td>\n",
       "      <td>NaN</td>\n",
       "      <td>False</td>\n",
       "      <td>4.0</td>\n",
       "      <td>True</td>\n",
       "      <td>Dortmund</td>\n",
       "      <td>Schüren</td>\n",
       "    </tr>\n",
       "    <tr>\n",
       "      <th>1</th>\n",
       "      <td>Rheinland_Pfalz</td>\n",
       "      <td>134.00</td>\n",
       "      <td>True</td>\n",
       "      <td>10.0</td>\n",
       "      <td>NaN</td>\n",
       "      <td>1871.0</td>\n",
       "      <td>False</td>\n",
       "      <td>False</td>\n",
       "      <td>800.0</td>\n",
       "      <td>89.00</td>\n",
       "      <td>no</td>\n",
       "      <td>False</td>\n",
       "      <td>3.0</td>\n",
       "      <td>False</td>\n",
       "      <td>Rhein_Pfalz_Kreis</td>\n",
       "      <td>Böhl_Iggelheim</td>\n",
       "    </tr>\n",
       "    <tr>\n",
       "      <th>2</th>\n",
       "      <td>Sachsen</td>\n",
       "      <td>255.00</td>\n",
       "      <td>True</td>\n",
       "      <td>2.4</td>\n",
       "      <td>1300.0</td>\n",
       "      <td>2019.0</td>\n",
       "      <td>False</td>\n",
       "      <td>True</td>\n",
       "      <td>965.0</td>\n",
       "      <td>83.80</td>\n",
       "      <td>NaN</td>\n",
       "      <td>True</td>\n",
       "      <td>3.0</td>\n",
       "      <td>False</td>\n",
       "      <td>Dresden</td>\n",
       "      <td>Äußere_Neustadt_Antonstadt</td>\n",
       "    </tr>\n",
       "    <tr>\n",
       "      <th>3</th>\n",
       "      <td>Sachsen</td>\n",
       "      <td>58.15</td>\n",
       "      <td>True</td>\n",
       "      <td>40.0</td>\n",
       "      <td>NaN</td>\n",
       "      <td>1964.0</td>\n",
       "      <td>False</td>\n",
       "      <td>False</td>\n",
       "      <td>343.0</td>\n",
       "      <td>58.15</td>\n",
       "      <td>NaN</td>\n",
       "      <td>False</td>\n",
       "      <td>3.0</td>\n",
       "      <td>False</td>\n",
       "      <td>Mittelsachsen_Kreis</td>\n",
       "      <td>Freiberg</td>\n",
       "    </tr>\n",
       "    <tr>\n",
       "      <th>4</th>\n",
       "      <td>Bremen</td>\n",
       "      <td>138.00</td>\n",
       "      <td>True</td>\n",
       "      <td>NaN</td>\n",
       "      <td>903.0</td>\n",
       "      <td>1950.0</td>\n",
       "      <td>False</td>\n",
       "      <td>False</td>\n",
       "      <td>765.0</td>\n",
       "      <td>84.97</td>\n",
       "      <td>NaN</td>\n",
       "      <td>False</td>\n",
       "      <td>3.0</td>\n",
       "      <td>False</td>\n",
       "      <td>Bremen</td>\n",
       "      <td>Neu_Schwachhausen</td>\n",
       "    </tr>\n",
       "  </tbody>\n",
       "</table>\n",
       "</div>"
      ],
      "text/plain": [
       "                regio1  serviceCharge  balcony  telekomUploadSpeed  totalRent  \\\n",
       "0  Nordrhein_Westfalen         245.00    False                10.0      840.0   \n",
       "1      Rheinland_Pfalz         134.00     True                10.0        NaN   \n",
       "2              Sachsen         255.00     True                 2.4     1300.0   \n",
       "3              Sachsen          58.15     True                40.0        NaN   \n",
       "4               Bremen         138.00     True                 NaN      903.0   \n",
       "\n",
       "   yearConstructed  hasKitchen  cellar  baseRent  livingSpace petsAllowed  \\\n",
       "0           1965.0       False    True     595.0        86.00         NaN   \n",
       "1           1871.0       False   False     800.0        89.00          no   \n",
       "2           2019.0       False    True     965.0        83.80         NaN   \n",
       "3           1964.0       False   False     343.0        58.15         NaN   \n",
       "4           1950.0       False   False     765.0        84.97         NaN   \n",
       "\n",
       "    lift  noRooms  garden               regio2                      regio3  \n",
       "0  False      4.0    True             Dortmund                     Schüren  \n",
       "1  False      3.0   False    Rhein_Pfalz_Kreis              Böhl_Iggelheim  \n",
       "2   True      3.0   False              Dresden  Äußere_Neustadt_Antonstadt  \n",
       "3  False      3.0   False  Mittelsachsen_Kreis                    Freiberg  \n",
       "4  False      3.0   False               Bremen           Neu_Schwachhausen  "
      ]
     },
     "execution_count": 14,
     "metadata": {},
     "output_type": "execute_result"
    }
   ],
   "source": [
    "appartments.head()"
   ]
  },
  {
   "cell_type": "code",
   "execution_count": 15,
   "metadata": {},
   "outputs": [
    {
     "data": {
      "text/html": [
       "<div>\n",
       "<style scoped>\n",
       "    .dataframe tbody tr th:only-of-type {\n",
       "        vertical-align: middle;\n",
       "    }\n",
       "\n",
       "    .dataframe tbody tr th {\n",
       "        vertical-align: top;\n",
       "    }\n",
       "\n",
       "    .dataframe thead th {\n",
       "        text-align: right;\n",
       "    }\n",
       "</style>\n",
       "<table border=\"1\" class=\"dataframe\">\n",
       "  <thead>\n",
       "    <tr style=\"text-align: right;\">\n",
       "      <th></th>\n",
       "      <th>city</th>\n",
       "      <th>lat</th>\n",
       "      <th>lng</th>\n",
       "      <th>country</th>\n",
       "      <th>iso2</th>\n",
       "      <th>admin_name</th>\n",
       "      <th>capital</th>\n",
       "      <th>population</th>\n",
       "      <th>population_proper</th>\n",
       "    </tr>\n",
       "  </thead>\n",
       "  <tbody>\n",
       "    <tr>\n",
       "      <th>0</th>\n",
       "      <td>Berlin</td>\n",
       "      <td>52.5167</td>\n",
       "      <td>13.3833</td>\n",
       "      <td>Germany</td>\n",
       "      <td>DE</td>\n",
       "      <td>Berlin</td>\n",
       "      <td>primary</td>\n",
       "      <td>3644826.0</td>\n",
       "      <td>3644826.0</td>\n",
       "    </tr>\n",
       "    <tr>\n",
       "      <th>1</th>\n",
       "      <td>Hamburg</td>\n",
       "      <td>53.5500</td>\n",
       "      <td>10.0000</td>\n",
       "      <td>Germany</td>\n",
       "      <td>DE</td>\n",
       "      <td>Hamburg</td>\n",
       "      <td>admin</td>\n",
       "      <td>1841179.0</td>\n",
       "      <td>1841179.0</td>\n",
       "    </tr>\n",
       "    <tr>\n",
       "      <th>2</th>\n",
       "      <td>Munich</td>\n",
       "      <td>48.1372</td>\n",
       "      <td>11.5755</td>\n",
       "      <td>Germany</td>\n",
       "      <td>DE</td>\n",
       "      <td>Bavaria</td>\n",
       "      <td>admin</td>\n",
       "      <td>1471508.0</td>\n",
       "      <td>1471508.0</td>\n",
       "    </tr>\n",
       "    <tr>\n",
       "      <th>3</th>\n",
       "      <td>Cologne</td>\n",
       "      <td>50.9422</td>\n",
       "      <td>6.9578</td>\n",
       "      <td>Germany</td>\n",
       "      <td>DE</td>\n",
       "      <td>North Rhine-Westphalia</td>\n",
       "      <td>NaN</td>\n",
       "      <td>1085664.0</td>\n",
       "      <td>1085664.0</td>\n",
       "    </tr>\n",
       "    <tr>\n",
       "      <th>4</th>\n",
       "      <td>Frankfurt</td>\n",
       "      <td>50.1136</td>\n",
       "      <td>8.6797</td>\n",
       "      <td>Germany</td>\n",
       "      <td>DE</td>\n",
       "      <td>Hesse</td>\n",
       "      <td>minor</td>\n",
       "      <td>753056.0</td>\n",
       "      <td>753056.0</td>\n",
       "    </tr>\n",
       "  </tbody>\n",
       "</table>\n",
       "</div>"
      ],
      "text/plain": [
       "        city      lat      lng  country iso2              admin_name  capital  \\\n",
       "0     Berlin  52.5167  13.3833  Germany   DE                  Berlin  primary   \n",
       "1    Hamburg  53.5500  10.0000  Germany   DE                 Hamburg    admin   \n",
       "2     Munich  48.1372  11.5755  Germany   DE                 Bavaria    admin   \n",
       "3    Cologne  50.9422   6.9578  Germany   DE  North Rhine-Westphalia      NaN   \n",
       "4  Frankfurt  50.1136   8.6797  Germany   DE                   Hesse    minor   \n",
       "\n",
       "   population  population_proper  \n",
       "0   3644826.0          3644826.0  \n",
       "1   1841179.0          1841179.0  \n",
       "2   1471508.0          1471508.0  \n",
       "3   1085664.0          1085664.0  \n",
       "4    753056.0           753056.0  "
      ]
     },
     "execution_count": 15,
     "metadata": {},
     "output_type": "execute_result"
    }
   ],
   "source": [
    "population_data.head()\n",
    "\n",
    "importnumpy\n",
    "pd.DataFrame()"
   ]
  },
  {
   "cell_type": "markdown",
   "metadata": {},
   "source": [
    "### 2. Preparing the Data"
   ]
  },
  {
   "cell_type": "markdown",
   "metadata": {},
   "source": [
    "##### 2.1. Universities"
   ]
  },
  {
   "cell_type": "code",
   "execution_count": 6,
   "metadata": {},
   "outputs": [],
   "source": [
    "#Shrinking the Dataset to just Universities from Germany\n",
    "data = data[data[\"country\"] == \"Germany\"]  "
   ]
  },
  {
   "cell_type": "code",
   "execution_count": 7,
   "metadata": {},
   "outputs": [],
   "source": [
    "#Creating a \"city\"-column via the city names inside the institution names\n",
    "regex = \"(University of [a-zA-ZüäöÖÄÜ]+)\"\n",
    "data[\"city\"] = data[\"institution\"].str.extract(regex)\n",
    "data[\"city\"] = data[\"city\"].str.replace(\"University of \", \"\")\n",
    "data.loc[data[\"city\"].str.contains(\"technology\", case = False, na = False), \"city\"] = pd.NA"
   ]
  },
  {
   "cell_type": "code",
   "execution_count": 8,
   "metadata": {},
   "outputs": [
    {
     "data": {
      "text/plain": [
       "NaN           30\n",
       "Munich         7\n",
       "Berlin         6\n",
       "Heidelberg     4\n",
       "Erlangen       2\n",
       "Würzburg       2\n",
       "Oldenburg      2\n",
       "Hanover        2\n",
       "Mainz          2\n",
       "Düsseldorf     2\n",
       "Bayreuth       2\n",
       "Augsburg       2\n",
       "Ulm            2\n",
       "Duisburg       2\n",
       "Dortmund       2\n",
       "Göttingen      2\n",
       "Konstanz       2\n",
       "Siegen         2\n",
       "Münster        2\n",
       "Mannheim       2\n",
       "Hohenheim      2\n",
       "Kiel           2\n",
       "Halle          2\n",
       "Marburg        2\n",
       "Potsdam        2\n",
       "Greifswald     2\n",
       "Hamburg        2\n",
       "Bremen         2\n",
       "Osnabrück      2\n",
       "Tübingen       2\n",
       "Cologne        2\n",
       "Regensburg     2\n",
       "Jena           2\n",
       "Stuttgart      2\n",
       "Lübeck         2\n",
       "Bonn           2\n",
       "Rostock        2\n",
       "Freiburg       2\n",
       "Name: city, dtype: int64"
      ]
     },
     "execution_count": 8,
     "metadata": {},
     "output_type": "execute_result"
    }
   ],
   "source": [
    "#Problem: There are still NaN Values, but only 30 \n",
    "data[\"city\"].value_counts(dropna = False)"
   ]
  },
  {
   "cell_type": "code",
   "execution_count": 9,
   "metadata": {},
   "outputs": [
    {
     "ename": "FileNotFoundError",
     "evalue": "[Errno 2] No such file or directory: 'data/city.xlsx'",
     "output_type": "error",
     "traceback": [
      "\u001b[1;31m---------------------------------------------------------------------------\u001b[0m",
      "\u001b[1;31mFileNotFoundError\u001b[0m                         Traceback (most recent call last)",
      "\u001b[1;32m<ipython-input-9-108a10a5d0bd>\u001b[0m in \u001b[0;36m<module>\u001b[1;34m\u001b[0m\n\u001b[0;32m      1\u001b[0m \u001b[1;31m#So we added the missing Values just manually (Manually because of names like \"Dresden University of Technology\" or \"Justus Liebig University Giessen\" which are to different to use the other method )\u001b[0m\u001b[1;33m\u001b[0m\u001b[1;33m\u001b[0m\u001b[1;33m\u001b[0m\u001b[0m\n\u001b[1;32m----> 2\u001b[1;33m \u001b[0mdata\u001b[0m\u001b[1;33m.\u001b[0m\u001b[0mto_excel\u001b[0m\u001b[1;33m(\u001b[0m\u001b[1;34m\"data/city.xlsx\"\u001b[0m\u001b[1;33m)\u001b[0m\u001b[1;33m\u001b[0m\u001b[1;33m\u001b[0m\u001b[0m\n\u001b[0m",
      "\u001b[1;32m~\\anaconda3\\lib\\site-packages\\pandas\\core\\generic.py\u001b[0m in \u001b[0;36mto_excel\u001b[1;34m(self, excel_writer, sheet_name, na_rep, float_format, columns, header, index, index_label, startrow, startcol, engine, merge_cells, encoding, inf_rep, verbose, freeze_panes, storage_options)\u001b[0m\n\u001b[0;32m   2187\u001b[0m             \u001b[0minf_rep\u001b[0m\u001b[1;33m=\u001b[0m\u001b[0minf_rep\u001b[0m\u001b[1;33m,\u001b[0m\u001b[1;33m\u001b[0m\u001b[1;33m\u001b[0m\u001b[0m\n\u001b[0;32m   2188\u001b[0m         )\n\u001b[1;32m-> 2189\u001b[1;33m         formatter.write(\n\u001b[0m\u001b[0;32m   2190\u001b[0m             \u001b[0mexcel_writer\u001b[0m\u001b[1;33m,\u001b[0m\u001b[1;33m\u001b[0m\u001b[1;33m\u001b[0m\u001b[0m\n\u001b[0;32m   2191\u001b[0m             \u001b[0msheet_name\u001b[0m\u001b[1;33m=\u001b[0m\u001b[0msheet_name\u001b[0m\u001b[1;33m,\u001b[0m\u001b[1;33m\u001b[0m\u001b[1;33m\u001b[0m\u001b[0m\n",
      "\u001b[1;32m~\\anaconda3\\lib\\site-packages\\pandas\\io\\formats\\excel.py\u001b[0m in \u001b[0;36mwrite\u001b[1;34m(self, writer, sheet_name, startrow, startcol, freeze_panes, engine, storage_options)\u001b[0m\n\u001b[0;32m    813\u001b[0m             \u001b[1;31m# abstract class 'ExcelWriter' with abstract attributes 'engine',\u001b[0m\u001b[1;33m\u001b[0m\u001b[1;33m\u001b[0m\u001b[1;33m\u001b[0m\u001b[0m\n\u001b[0;32m    814\u001b[0m             \u001b[1;31m# 'save', 'supported_extensions' and 'write_cells'  [abstract]\u001b[0m\u001b[1;33m\u001b[0m\u001b[1;33m\u001b[0m\u001b[1;33m\u001b[0m\u001b[0m\n\u001b[1;32m--> 815\u001b[1;33m             writer = ExcelWriter(  # type: ignore[abstract]\n\u001b[0m\u001b[0;32m    816\u001b[0m                 \u001b[0mwriter\u001b[0m\u001b[1;33m,\u001b[0m \u001b[0mengine\u001b[0m\u001b[1;33m=\u001b[0m\u001b[0mengine\u001b[0m\u001b[1;33m,\u001b[0m \u001b[0mstorage_options\u001b[0m\u001b[1;33m=\u001b[0m\u001b[0mstorage_options\u001b[0m\u001b[1;33m\u001b[0m\u001b[1;33m\u001b[0m\u001b[0m\n\u001b[0;32m    817\u001b[0m             )\n",
      "\u001b[1;32m~\\anaconda3\\lib\\site-packages\\pandas\\io\\excel\\_xlsxwriter.py\u001b[0m in \u001b[0;36m__init__\u001b[1;34m(self, path, engine, date_format, datetime_format, mode, storage_options, **engine_kwargs)\u001b[0m\n\u001b[0;32m    180\u001b[0m             \u001b[1;32mraise\u001b[0m \u001b[0mValueError\u001b[0m\u001b[1;33m(\u001b[0m\u001b[1;34m\"Append mode is not supported with xlsxwriter!\"\u001b[0m\u001b[1;33m)\u001b[0m\u001b[1;33m\u001b[0m\u001b[1;33m\u001b[0m\u001b[0m\n\u001b[0;32m    181\u001b[0m \u001b[1;33m\u001b[0m\u001b[0m\n\u001b[1;32m--> 182\u001b[1;33m         super().__init__(\n\u001b[0m\u001b[0;32m    183\u001b[0m             \u001b[0mpath\u001b[0m\u001b[1;33m,\u001b[0m\u001b[1;33m\u001b[0m\u001b[1;33m\u001b[0m\u001b[0m\n\u001b[0;32m    184\u001b[0m             \u001b[0mengine\u001b[0m\u001b[1;33m=\u001b[0m\u001b[0mengine\u001b[0m\u001b[1;33m,\u001b[0m\u001b[1;33m\u001b[0m\u001b[1;33m\u001b[0m\u001b[0m\n",
      "\u001b[1;32m~\\anaconda3\\lib\\site-packages\\pandas\\io\\excel\\_base.py\u001b[0m in \u001b[0;36m__init__\u001b[1;34m(self, path, engine, date_format, datetime_format, mode, storage_options, **engine_kwargs)\u001b[0m\n\u001b[0;32m    808\u001b[0m         \u001b[0mself\u001b[0m\u001b[1;33m.\u001b[0m\u001b[0mhandles\u001b[0m \u001b[1;33m=\u001b[0m \u001b[0mIOHandles\u001b[0m\u001b[1;33m(\u001b[0m\u001b[0mcast\u001b[0m\u001b[1;33m(\u001b[0m\u001b[0mBuffer\u001b[0m\u001b[1;33m,\u001b[0m \u001b[0mpath\u001b[0m\u001b[1;33m)\u001b[0m\u001b[1;33m,\u001b[0m \u001b[0mcompression\u001b[0m\u001b[1;33m=\u001b[0m\u001b[1;33m{\u001b[0m\u001b[1;34m\"copression\"\u001b[0m\u001b[1;33m:\u001b[0m \u001b[1;32mNone\u001b[0m\u001b[1;33m}\u001b[0m\u001b[1;33m)\u001b[0m\u001b[1;33m\u001b[0m\u001b[1;33m\u001b[0m\u001b[0m\n\u001b[0;32m    809\u001b[0m         \u001b[1;32mif\u001b[0m \u001b[1;32mnot\u001b[0m \u001b[0misinstance\u001b[0m\u001b[1;33m(\u001b[0m\u001b[0mpath\u001b[0m\u001b[1;33m,\u001b[0m \u001b[0mExcelWriter\u001b[0m\u001b[1;33m)\u001b[0m\u001b[1;33m:\u001b[0m\u001b[1;33m\u001b[0m\u001b[1;33m\u001b[0m\u001b[0m\n\u001b[1;32m--> 810\u001b[1;33m             self.handles = get_handle(\n\u001b[0m\u001b[0;32m    811\u001b[0m                 \u001b[0mpath\u001b[0m\u001b[1;33m,\u001b[0m \u001b[0mmode\u001b[0m\u001b[1;33m,\u001b[0m \u001b[0mstorage_options\u001b[0m\u001b[1;33m=\u001b[0m\u001b[0mstorage_options\u001b[0m\u001b[1;33m,\u001b[0m \u001b[0mis_text\u001b[0m\u001b[1;33m=\u001b[0m\u001b[1;32mFalse\u001b[0m\u001b[1;33m\u001b[0m\u001b[1;33m\u001b[0m\u001b[0m\n\u001b[0;32m    812\u001b[0m             )\n",
      "\u001b[1;32m~\\anaconda3\\lib\\site-packages\\pandas\\io\\common.py\u001b[0m in \u001b[0;36mget_handle\u001b[1;34m(path_or_buf, mode, encoding, compression, memory_map, is_text, errors, storage_options)\u001b[0m\n\u001b[0;32m    649\u001b[0m         \u001b[1;32melse\u001b[0m\u001b[1;33m:\u001b[0m\u001b[1;33m\u001b[0m\u001b[1;33m\u001b[0m\u001b[0m\n\u001b[0;32m    650\u001b[0m             \u001b[1;31m# Binary mode\u001b[0m\u001b[1;33m\u001b[0m\u001b[1;33m\u001b[0m\u001b[1;33m\u001b[0m\u001b[0m\n\u001b[1;32m--> 651\u001b[1;33m             \u001b[0mhandle\u001b[0m \u001b[1;33m=\u001b[0m \u001b[0mopen\u001b[0m\u001b[1;33m(\u001b[0m\u001b[0mhandle\u001b[0m\u001b[1;33m,\u001b[0m \u001b[0mioargs\u001b[0m\u001b[1;33m.\u001b[0m\u001b[0mmode\u001b[0m\u001b[1;33m)\u001b[0m\u001b[1;33m\u001b[0m\u001b[1;33m\u001b[0m\u001b[0m\n\u001b[0m\u001b[0;32m    652\u001b[0m         \u001b[0mhandles\u001b[0m\u001b[1;33m.\u001b[0m\u001b[0mappend\u001b[0m\u001b[1;33m(\u001b[0m\u001b[0mhandle\u001b[0m\u001b[1;33m)\u001b[0m\u001b[1;33m\u001b[0m\u001b[1;33m\u001b[0m\u001b[0m\n\u001b[0;32m    653\u001b[0m \u001b[1;33m\u001b[0m\u001b[0m\n",
      "\u001b[1;31mFileNotFoundError\u001b[0m: [Errno 2] No such file or directory: 'data/city.xlsx'"
     ]
    }
   ],
   "source": [
    "#So we added the missing Values just manually (Manually because of names like \"Dresden University of Technology\" or \"Justus Liebig University Giessen\" which are to different to use the other method )\n",
    "data.to_excel(\"data/city.xlsx\")"
   ]
  },
  {
   "cell_type": "markdown",
   "metadata": {},
   "source": [
    "After manually adding the values, we have renamed the city file into city_complete so that our manuall changes will not be overwritten."
   ]
  },
  {
   "cell_type": "code",
   "execution_count": 13,
   "metadata": {},
   "outputs": [],
   "source": [
    "#Now we just read in the data again with the name uni_cities\n",
    "uni_cities=pd.read_excel(r\"data/city_complete.xlsx\")"
   ]
  },
  {
   "cell_type": "code",
   "execution_count": 14,
   "metadata": {},
   "outputs": [
    {
     "data": {
      "text/plain": [
       "Munich            7\n",
       "Berlin            6\n",
       "Heidelberg        4\n",
       "Bremen            3\n",
       "Kiel              3\n",
       "Mannheim          2\n",
       "Halle             2\n",
       "Jena              2\n",
       "Giessen           2\n",
       "Saarbrücken       2\n",
       "Dortmund          2\n",
       "Konstanz          2\n",
       "Rostock           2\n",
       "Bielefeld         2\n",
       "Hanover           2\n",
       "Magdeburg         2\n",
       "Potsdam           2\n",
       "Osnabrück         2\n",
       "Marburg           2\n",
       "Braunschweig      2\n",
       "Kaiserslautern    2\n",
       "Augsburg          2\n",
       "Lübeck            2\n",
       "Hohenheim         2\n",
       "Greifswald        2\n",
       "Siegen            2\n",
       "Bayreuth          2\n",
       "Regensburg        2\n",
       "Darmstadt         2\n",
       "Bochum            2\n",
       "Bonn              2\n",
       "Freiburg          2\n",
       "Tübingen          2\n",
       "Frankfurt         2\n",
       "Göttingen         2\n",
       "Hamburg           2\n",
       "Cologne           2\n",
       "Münster           2\n",
       "Erlangen          2\n",
       "Karlsruhe         2\n",
       "Würzburg          2\n",
       "Dresden           2\n",
       "Mainz             2\n",
       "Düsseldorf        2\n",
       "Ulm               2\n",
       "Hannover          2\n",
       "Leipzig           2\n",
       "Stuttgart         2\n",
       "Duisburg          2\n",
       "Oldenburg         2\n",
       "Aachen            1\n",
       "Chemnitz          1\n",
       "Name: city, dtype: int64"
      ]
     },
     "execution_count": 14,
     "metadata": {},
     "output_type": "execute_result"
    }
   ],
   "source": [
    "uni_cities[\"city\"].value_counts(dropna = False)"
   ]
  },
  {
   "cell_type": "code",
   "execution_count": 15,
   "metadata": {},
   "outputs": [
    {
     "data": {
      "text/html": [
       "<div>\n",
       "<style scoped>\n",
       "    .dataframe tbody tr th:only-of-type {\n",
       "        vertical-align: middle;\n",
       "    }\n",
       "\n",
       "    .dataframe tbody tr th {\n",
       "        vertical-align: top;\n",
       "    }\n",
       "\n",
       "    .dataframe thead th {\n",
       "        text-align: right;\n",
       "    }\n",
       "</style>\n",
       "<table border=\"1\" class=\"dataframe\">\n",
       "  <thead>\n",
       "    <tr style=\"text-align: right;\">\n",
       "      <th></th>\n",
       "      <th>Unnamed: 0</th>\n",
       "      <th>world_rank</th>\n",
       "      <th>institution</th>\n",
       "      <th>country</th>\n",
       "      <th>national_rank</th>\n",
       "      <th>quality_of_education</th>\n",
       "      <th>quality_of_faculty</th>\n",
       "      <th>year</th>\n",
       "      <th>city</th>\n",
       "    </tr>\n",
       "  </thead>\n",
       "  <tbody>\n",
       "    <tr>\n",
       "      <th>0</th>\n",
       "      <td>81</td>\n",
       "      <td>82</td>\n",
       "      <td>Ruprecht Karl University of Heidelberg</td>\n",
       "      <td>Germany</td>\n",
       "      <td>1</td>\n",
       "      <td>87</td>\n",
       "      <td>52</td>\n",
       "      <td>2012</td>\n",
       "      <td>Heidelberg</td>\n",
       "    </tr>\n",
       "    <tr>\n",
       "      <th>1</th>\n",
       "      <td>82</td>\n",
       "      <td>83</td>\n",
       "      <td>Ludwig Maximilian University of Munich</td>\n",
       "      <td>Germany</td>\n",
       "      <td>2</td>\n",
       "      <td>90</td>\n",
       "      <td>90</td>\n",
       "      <td>2012</td>\n",
       "      <td>Munich</td>\n",
       "    </tr>\n",
       "    <tr>\n",
       "      <th>2</th>\n",
       "      <td>89</td>\n",
       "      <td>90</td>\n",
       "      <td>Technical University of Munich</td>\n",
       "      <td>Germany</td>\n",
       "      <td>3</td>\n",
       "      <td>52</td>\n",
       "      <td>101</td>\n",
       "      <td>2012</td>\n",
       "      <td>Munich</td>\n",
       "    </tr>\n",
       "    <tr>\n",
       "      <th>3</th>\n",
       "      <td>166</td>\n",
       "      <td>67</td>\n",
       "      <td>Ludwig Maximilian University of Munich</td>\n",
       "      <td>Germany</td>\n",
       "      <td>1</td>\n",
       "      <td>62</td>\n",
       "      <td>92</td>\n",
       "      <td>2013</td>\n",
       "      <td>Munich</td>\n",
       "    </tr>\n",
       "    <tr>\n",
       "      <th>4</th>\n",
       "      <td>178</td>\n",
       "      <td>79</td>\n",
       "      <td>Ruprecht Karl University of Heidelberg</td>\n",
       "      <td>Germany</td>\n",
       "      <td>2</td>\n",
       "      <td>73</td>\n",
       "      <td>55</td>\n",
       "      <td>2013</td>\n",
       "      <td>Heidelberg</td>\n",
       "    </tr>\n",
       "  </tbody>\n",
       "</table>\n",
       "</div>"
      ],
      "text/plain": [
       "   Unnamed: 0  world_rank                             institution  country  \\\n",
       "0          81          82  Ruprecht Karl University of Heidelberg  Germany   \n",
       "1          82          83  Ludwig Maximilian University of Munich  Germany   \n",
       "2          89          90          Technical University of Munich  Germany   \n",
       "3         166          67  Ludwig Maximilian University of Munich  Germany   \n",
       "4         178          79  Ruprecht Karl University of Heidelberg  Germany   \n",
       "\n",
       "   national_rank  quality_of_education  quality_of_faculty  year        city  \n",
       "0              1                    87                  52  2012  Heidelberg  \n",
       "1              2                    90                  90  2012      Munich  \n",
       "2              3                    52                 101  2012      Munich  \n",
       "3              1                    62                  92  2013      Munich  \n",
       "4              2                    73                  55  2013  Heidelberg  "
      ]
     },
     "execution_count": 15,
     "metadata": {},
     "output_type": "execute_result"
    }
   ],
   "source": [
    "uni_cities.head()"
   ]
  },
  {
   "cell_type": "code",
   "execution_count": 16,
   "metadata": {},
   "outputs": [],
   "source": [
    "#Just rename the old index column if we maybe need it later to compare something\n",
    "uni_cities.rename(columns={\"Unnamed: 0\":\"old_index\"}, inplace=True)"
   ]
  },
  {
   "cell_type": "code",
   "execution_count": 17,
   "metadata": {},
   "outputs": [],
   "source": [
    "#Replace \"Munich\" with \"München\" so that all cities are there with their german name \n",
    "uni_cities[\"city\"]=uni_cities[\"city\"].str.replace(\"Munich\", \"München\")"
   ]
  },
  {
   "cell_type": "code",
   "execution_count": 18,
   "metadata": {},
   "outputs": [],
   "source": [
    "#Replace \"Cologne\" with \"Köln\" so that all cities are there with their german name \n",
    "uni_cities[\"city\"]=uni_cities[\"city\"].str.replace(\"Cologne\", \"Köln\")"
   ]
  },
  {
   "cell_type": "code",
   "execution_count": 19,
   "metadata": {},
   "outputs": [],
   "source": [
    "#Replace \"Hanover\" with \"Hannover\" so that all cities are there with their german name \n",
    "uni_cities[\"city\"]=uni_cities[\"city\"].str.replace(\"Hanover\", \"Hannover\")\n"
   ]
  },
  {
   "cell_type": "code",
   "execution_count": 20,
   "metadata": {},
   "outputs": [],
   "source": [
    "#Replace \"Frankfurt\" with \"Frankfurt am Main\" so that the cities in both sets are matching\n",
    "uni_cities[\"city\"]=uni_cities[\"city\"].str.replace(\"Frankfurt\", \"Frankfurt am Main\")"
   ]
  },
  {
   "cell_type": "code",
   "execution_count": 21,
   "metadata": {},
   "outputs": [],
   "source": [
    "#Replace \"Marburg\" with \"Marburg Biedenkopf\" so that the cities in both sets are matching\n",
    "uni_cities[\"city\"]=uni_cities[\"city\"].str.replace(\"Marburg\", \"Marburg Biedenkopf\")"
   ]
  },
  {
   "cell_type": "code",
   "execution_count": 22,
   "metadata": {},
   "outputs": [],
   "source": [
    "#Replace \"Siegen\" with \"Siegen Wittgenstein\" so that the cities in both sets are matching\n",
    "uni_cities[\"city\"]=uni_cities[\"city\"].str.replace(\"Siegen\", \"Siegen Wittgenstein\")"
   ]
  },
  {
   "cell_type": "code",
   "execution_count": 23,
   "metadata": {},
   "outputs": [],
   "source": [
    "#Replace \"Hohenheim\" with \"Stuttgart\" because the University of Hohenheim is in Stuttgart\n",
    "uni_cities[\"city\"]=uni_cities[\"city\"].str.replace(\"Hohenheim\", \"Stuttgart\")\n"
   ]
  },
  {
   "cell_type": "code",
   "execution_count": 24,
   "metadata": {},
   "outputs": [
    {
     "data": {
      "text/html": [
       "<div>\n",
       "<style scoped>\n",
       "    .dataframe tbody tr th:only-of-type {\n",
       "        vertical-align: middle;\n",
       "    }\n",
       "\n",
       "    .dataframe tbody tr th {\n",
       "        vertical-align: top;\n",
       "    }\n",
       "\n",
       "    .dataframe thead th {\n",
       "        text-align: right;\n",
       "    }\n",
       "</style>\n",
       "<table border=\"1\" class=\"dataframe\">\n",
       "  <thead>\n",
       "    <tr style=\"text-align: right;\">\n",
       "      <th></th>\n",
       "      <th>old_index</th>\n",
       "      <th>world_rank</th>\n",
       "      <th>institution</th>\n",
       "      <th>country</th>\n",
       "      <th>national_rank</th>\n",
       "      <th>quality_of_education</th>\n",
       "      <th>quality_of_faculty</th>\n",
       "      <th>year</th>\n",
       "      <th>city</th>\n",
       "    </tr>\n",
       "  </thead>\n",
       "  <tbody>\n",
       "    <tr>\n",
       "      <th>0</th>\n",
       "      <td>81</td>\n",
       "      <td>82</td>\n",
       "      <td>Ruprecht Karl University of Heidelberg</td>\n",
       "      <td>Germany</td>\n",
       "      <td>1</td>\n",
       "      <td>87</td>\n",
       "      <td>52</td>\n",
       "      <td>2012</td>\n",
       "      <td>Heidelberg</td>\n",
       "    </tr>\n",
       "    <tr>\n",
       "      <th>1</th>\n",
       "      <td>82</td>\n",
       "      <td>83</td>\n",
       "      <td>Ludwig Maximilian University of Munich</td>\n",
       "      <td>Germany</td>\n",
       "      <td>2</td>\n",
       "      <td>90</td>\n",
       "      <td>90</td>\n",
       "      <td>2012</td>\n",
       "      <td>München</td>\n",
       "    </tr>\n",
       "    <tr>\n",
       "      <th>2</th>\n",
       "      <td>89</td>\n",
       "      <td>90</td>\n",
       "      <td>Technical University of Munich</td>\n",
       "      <td>Germany</td>\n",
       "      <td>3</td>\n",
       "      <td>52</td>\n",
       "      <td>101</td>\n",
       "      <td>2012</td>\n",
       "      <td>München</td>\n",
       "    </tr>\n",
       "    <tr>\n",
       "      <th>3</th>\n",
       "      <td>166</td>\n",
       "      <td>67</td>\n",
       "      <td>Ludwig Maximilian University of Munich</td>\n",
       "      <td>Germany</td>\n",
       "      <td>1</td>\n",
       "      <td>62</td>\n",
       "      <td>92</td>\n",
       "      <td>2013</td>\n",
       "      <td>München</td>\n",
       "    </tr>\n",
       "    <tr>\n",
       "      <th>4</th>\n",
       "      <td>178</td>\n",
       "      <td>79</td>\n",
       "      <td>Ruprecht Karl University of Heidelberg</td>\n",
       "      <td>Germany</td>\n",
       "      <td>2</td>\n",
       "      <td>73</td>\n",
       "      <td>55</td>\n",
       "      <td>2013</td>\n",
       "      <td>Heidelberg</td>\n",
       "    </tr>\n",
       "    <tr>\n",
       "      <th>...</th>\n",
       "      <td>...</td>\n",
       "      <td>...</td>\n",
       "      <td>...</td>\n",
       "      <td>...</td>\n",
       "      <td>...</td>\n",
       "      <td>...</td>\n",
       "      <td>...</td>\n",
       "      <td>...</td>\n",
       "      <td>...</td>\n",
       "    </tr>\n",
       "    <tr>\n",
       "      <th>110</th>\n",
       "      <td>1992</td>\n",
       "      <td>793</td>\n",
       "      <td>University of Hohenheim</td>\n",
       "      <td>Germany</td>\n",
       "      <td>51</td>\n",
       "      <td>367</td>\n",
       "      <td>218</td>\n",
       "      <td>2015</td>\n",
       "      <td>Stuttgart</td>\n",
       "    </tr>\n",
       "    <tr>\n",
       "      <th>111</th>\n",
       "      <td>2000</td>\n",
       "      <td>801</td>\n",
       "      <td>University of Oldenburg</td>\n",
       "      <td>Germany</td>\n",
       "      <td>52</td>\n",
       "      <td>367</td>\n",
       "      <td>218</td>\n",
       "      <td>2015</td>\n",
       "      <td>Oldenburg</td>\n",
       "    </tr>\n",
       "    <tr>\n",
       "      <th>112</th>\n",
       "      <td>2056</td>\n",
       "      <td>857</td>\n",
       "      <td>University of Siegen</td>\n",
       "      <td>Germany</td>\n",
       "      <td>53</td>\n",
       "      <td>367</td>\n",
       "      <td>218</td>\n",
       "      <td>2015</td>\n",
       "      <td>Siegen Wittgenstein</td>\n",
       "    </tr>\n",
       "    <tr>\n",
       "      <th>113</th>\n",
       "      <td>2075</td>\n",
       "      <td>876</td>\n",
       "      <td>University of Osnabrück</td>\n",
       "      <td>Germany</td>\n",
       "      <td>54</td>\n",
       "      <td>367</td>\n",
       "      <td>218</td>\n",
       "      <td>2015</td>\n",
       "      <td>Osnabrück</td>\n",
       "    </tr>\n",
       "    <tr>\n",
       "      <th>114</th>\n",
       "      <td>2101</td>\n",
       "      <td>902</td>\n",
       "      <td>University of Mannheim</td>\n",
       "      <td>Germany</td>\n",
       "      <td>55</td>\n",
       "      <td>367</td>\n",
       "      <td>218</td>\n",
       "      <td>2015</td>\n",
       "      <td>Mannheim</td>\n",
       "    </tr>\n",
       "  </tbody>\n",
       "</table>\n",
       "<p>115 rows × 9 columns</p>\n",
       "</div>"
      ],
      "text/plain": [
       "     old_index  world_rank                             institution  country  \\\n",
       "0           81          82  Ruprecht Karl University of Heidelberg  Germany   \n",
       "1           82          83  Ludwig Maximilian University of Munich  Germany   \n",
       "2           89          90          Technical University of Munich  Germany   \n",
       "3          166          67  Ludwig Maximilian University of Munich  Germany   \n",
       "4          178          79  Ruprecht Karl University of Heidelberg  Germany   \n",
       "..         ...         ...                                     ...      ...   \n",
       "110       1992         793                 University of Hohenheim  Germany   \n",
       "111       2000         801                 University of Oldenburg  Germany   \n",
       "112       2056         857                    University of Siegen  Germany   \n",
       "113       2075         876                 University of Osnabrück  Germany   \n",
       "114       2101         902                  University of Mannheim  Germany   \n",
       "\n",
       "     national_rank  quality_of_education  quality_of_faculty  year  \\\n",
       "0                1                    87                  52  2012   \n",
       "1                2                    90                  90  2012   \n",
       "2                3                    52                 101  2012   \n",
       "3                1                    62                  92  2013   \n",
       "4                2                    73                  55  2013   \n",
       "..             ...                   ...                 ...   ...   \n",
       "110             51                   367                 218  2015   \n",
       "111             52                   367                 218  2015   \n",
       "112             53                   367                 218  2015   \n",
       "113             54                   367                 218  2015   \n",
       "114             55                   367                 218  2015   \n",
       "\n",
       "                    city  \n",
       "0             Heidelberg  \n",
       "1                München  \n",
       "2                München  \n",
       "3                München  \n",
       "4             Heidelberg  \n",
       "..                   ...  \n",
       "110            Stuttgart  \n",
       "111            Oldenburg  \n",
       "112  Siegen Wittgenstein  \n",
       "113            Osnabrück  \n",
       "114             Mannheim  \n",
       "\n",
       "[115 rows x 9 columns]"
      ]
     },
     "execution_count": 24,
     "metadata": {},
     "output_type": "execute_result"
    }
   ],
   "source": [
    "uni_cities"
   ]
  },
  {
   "cell_type": "markdown",
   "metadata": {},
   "source": [
    "##### 2.2. Appartment Data"
   ]
  },
  {
   "cell_type": "code",
   "execution_count": 16,
   "metadata": {},
   "outputs": [
    {
     "data": {
      "text/html": [
       "<div>\n",
       "<style scoped>\n",
       "    .dataframe tbody tr th:only-of-type {\n",
       "        vertical-align: middle;\n",
       "    }\n",
       "\n",
       "    .dataframe tbody tr th {\n",
       "        vertical-align: top;\n",
       "    }\n",
       "\n",
       "    .dataframe thead th {\n",
       "        text-align: right;\n",
       "    }\n",
       "</style>\n",
       "<table border=\"1\" class=\"dataframe\">\n",
       "  <thead>\n",
       "    <tr style=\"text-align: right;\">\n",
       "      <th></th>\n",
       "      <th>regio1</th>\n",
       "      <th>serviceCharge</th>\n",
       "      <th>balcony</th>\n",
       "      <th>telekomUploadSpeed</th>\n",
       "      <th>totalRent</th>\n",
       "      <th>yearConstructed</th>\n",
       "      <th>hasKitchen</th>\n",
       "      <th>cellar</th>\n",
       "      <th>baseRent</th>\n",
       "      <th>livingSpace</th>\n",
       "      <th>petsAllowed</th>\n",
       "      <th>lift</th>\n",
       "      <th>noRooms</th>\n",
       "      <th>garden</th>\n",
       "      <th>regio2</th>\n",
       "      <th>regio3</th>\n",
       "    </tr>\n",
       "  </thead>\n",
       "  <tbody>\n",
       "    <tr>\n",
       "      <th>0</th>\n",
       "      <td>Nordrhein_Westfalen</td>\n",
       "      <td>245.00</td>\n",
       "      <td>False</td>\n",
       "      <td>10.0</td>\n",
       "      <td>840.0</td>\n",
       "      <td>1965.0</td>\n",
       "      <td>False</td>\n",
       "      <td>True</td>\n",
       "      <td>595.0</td>\n",
       "      <td>86.00</td>\n",
       "      <td>NaN</td>\n",
       "      <td>False</td>\n",
       "      <td>4.0</td>\n",
       "      <td>True</td>\n",
       "      <td>Dortmund</td>\n",
       "      <td>Schüren</td>\n",
       "    </tr>\n",
       "    <tr>\n",
       "      <th>1</th>\n",
       "      <td>Rheinland_Pfalz</td>\n",
       "      <td>134.00</td>\n",
       "      <td>True</td>\n",
       "      <td>10.0</td>\n",
       "      <td>NaN</td>\n",
       "      <td>1871.0</td>\n",
       "      <td>False</td>\n",
       "      <td>False</td>\n",
       "      <td>800.0</td>\n",
       "      <td>89.00</td>\n",
       "      <td>no</td>\n",
       "      <td>False</td>\n",
       "      <td>3.0</td>\n",
       "      <td>False</td>\n",
       "      <td>Rhein_Pfalz_Kreis</td>\n",
       "      <td>Böhl_Iggelheim</td>\n",
       "    </tr>\n",
       "    <tr>\n",
       "      <th>2</th>\n",
       "      <td>Sachsen</td>\n",
       "      <td>255.00</td>\n",
       "      <td>True</td>\n",
       "      <td>2.4</td>\n",
       "      <td>1300.0</td>\n",
       "      <td>2019.0</td>\n",
       "      <td>False</td>\n",
       "      <td>True</td>\n",
       "      <td>965.0</td>\n",
       "      <td>83.80</td>\n",
       "      <td>NaN</td>\n",
       "      <td>True</td>\n",
       "      <td>3.0</td>\n",
       "      <td>False</td>\n",
       "      <td>Dresden</td>\n",
       "      <td>Äußere_Neustadt_Antonstadt</td>\n",
       "    </tr>\n",
       "    <tr>\n",
       "      <th>3</th>\n",
       "      <td>Sachsen</td>\n",
       "      <td>58.15</td>\n",
       "      <td>True</td>\n",
       "      <td>40.0</td>\n",
       "      <td>NaN</td>\n",
       "      <td>1964.0</td>\n",
       "      <td>False</td>\n",
       "      <td>False</td>\n",
       "      <td>343.0</td>\n",
       "      <td>58.15</td>\n",
       "      <td>NaN</td>\n",
       "      <td>False</td>\n",
       "      <td>3.0</td>\n",
       "      <td>False</td>\n",
       "      <td>Mittelsachsen_Kreis</td>\n",
       "      <td>Freiberg</td>\n",
       "    </tr>\n",
       "    <tr>\n",
       "      <th>4</th>\n",
       "      <td>Bremen</td>\n",
       "      <td>138.00</td>\n",
       "      <td>True</td>\n",
       "      <td>NaN</td>\n",
       "      <td>903.0</td>\n",
       "      <td>1950.0</td>\n",
       "      <td>False</td>\n",
       "      <td>False</td>\n",
       "      <td>765.0</td>\n",
       "      <td>84.97</td>\n",
       "      <td>NaN</td>\n",
       "      <td>False</td>\n",
       "      <td>3.0</td>\n",
       "      <td>False</td>\n",
       "      <td>Bremen</td>\n",
       "      <td>Neu_Schwachhausen</td>\n",
       "    </tr>\n",
       "    <tr>\n",
       "      <th>...</th>\n",
       "      <td>...</td>\n",
       "      <td>...</td>\n",
       "      <td>...</td>\n",
       "      <td>...</td>\n",
       "      <td>...</td>\n",
       "      <td>...</td>\n",
       "      <td>...</td>\n",
       "      <td>...</td>\n",
       "      <td>...</td>\n",
       "      <td>...</td>\n",
       "      <td>...</td>\n",
       "      <td>...</td>\n",
       "      <td>...</td>\n",
       "      <td>...</td>\n",
       "      <td>...</td>\n",
       "      <td>...</td>\n",
       "    </tr>\n",
       "    <tr>\n",
       "      <th>268845</th>\n",
       "      <td>Bayern</td>\n",
       "      <td>90.00</td>\n",
       "      <td>True</td>\n",
       "      <td>10.0</td>\n",
       "      <td>910.0</td>\n",
       "      <td>2016.0</td>\n",
       "      <td>False</td>\n",
       "      <td>True</td>\n",
       "      <td>820.0</td>\n",
       "      <td>90.00</td>\n",
       "      <td>no</td>\n",
       "      <td>False</td>\n",
       "      <td>3.0</td>\n",
       "      <td>False</td>\n",
       "      <td>Weilheim_Schongau_Kreis</td>\n",
       "      <td>Eberfing</td>\n",
       "    </tr>\n",
       "    <tr>\n",
       "      <th>268846</th>\n",
       "      <td>Hessen</td>\n",
       "      <td>220.00</td>\n",
       "      <td>True</td>\n",
       "      <td>NaN</td>\n",
       "      <td>1150.0</td>\n",
       "      <td>1983.0</td>\n",
       "      <td>True</td>\n",
       "      <td>False</td>\n",
       "      <td>930.0</td>\n",
       "      <td>115.00</td>\n",
       "      <td>negotiable</td>\n",
       "      <td>False</td>\n",
       "      <td>3.5</td>\n",
       "      <td>False</td>\n",
       "      <td>Bergstraße_Kreis</td>\n",
       "      <td>Viernheim</td>\n",
       "    </tr>\n",
       "    <tr>\n",
       "      <th>268847</th>\n",
       "      <td>Hessen</td>\n",
       "      <td>220.00</td>\n",
       "      <td>True</td>\n",
       "      <td>40.0</td>\n",
       "      <td>930.0</td>\n",
       "      <td>1965.0</td>\n",
       "      <td>False</td>\n",
       "      <td>True</td>\n",
       "      <td>650.0</td>\n",
       "      <td>95.00</td>\n",
       "      <td>negotiable</td>\n",
       "      <td>False</td>\n",
       "      <td>4.0</td>\n",
       "      <td>True</td>\n",
       "      <td>Limburg_Weilburg_Kreis</td>\n",
       "      <td>Limburg_an_der_Lahn</td>\n",
       "    </tr>\n",
       "    <tr>\n",
       "      <th>268848</th>\n",
       "      <td>Nordrhein_Westfalen</td>\n",
       "      <td>175.00</td>\n",
       "      <td>True</td>\n",
       "      <td>NaN</td>\n",
       "      <td>1015.0</td>\n",
       "      <td>2019.0</td>\n",
       "      <td>False</td>\n",
       "      <td>True</td>\n",
       "      <td>840.0</td>\n",
       "      <td>70.00</td>\n",
       "      <td>no</td>\n",
       "      <td>True</td>\n",
       "      <td>2.0</td>\n",
       "      <td>False</td>\n",
       "      <td>Köln</td>\n",
       "      <td>Dellbrück</td>\n",
       "    </tr>\n",
       "    <tr>\n",
       "      <th>268849</th>\n",
       "      <td>Hessen</td>\n",
       "      <td>315.00</td>\n",
       "      <td>True</td>\n",
       "      <td>NaN</td>\n",
       "      <td>NaN</td>\n",
       "      <td>1972.0</td>\n",
       "      <td>True</td>\n",
       "      <td>True</td>\n",
       "      <td>935.0</td>\n",
       "      <td>77.00</td>\n",
       "      <td>NaN</td>\n",
       "      <td>True</td>\n",
       "      <td>3.0</td>\n",
       "      <td>False</td>\n",
       "      <td>Frankfurt_am_Main</td>\n",
       "      <td>Sossenheim</td>\n",
       "    </tr>\n",
       "  </tbody>\n",
       "</table>\n",
       "<p>268850 rows × 16 columns</p>\n",
       "</div>"
      ],
      "text/plain": [
       "                     regio1  serviceCharge  balcony  telekomUploadSpeed  \\\n",
       "0       Nordrhein_Westfalen         245.00    False                10.0   \n",
       "1           Rheinland_Pfalz         134.00     True                10.0   \n",
       "2                   Sachsen         255.00     True                 2.4   \n",
       "3                   Sachsen          58.15     True                40.0   \n",
       "4                    Bremen         138.00     True                 NaN   \n",
       "...                     ...            ...      ...                 ...   \n",
       "268845               Bayern          90.00     True                10.0   \n",
       "268846               Hessen         220.00     True                 NaN   \n",
       "268847               Hessen         220.00     True                40.0   \n",
       "268848  Nordrhein_Westfalen         175.00     True                 NaN   \n",
       "268849               Hessen         315.00     True                 NaN   \n",
       "\n",
       "        totalRent  yearConstructed  hasKitchen  cellar  baseRent  livingSpace  \\\n",
       "0           840.0           1965.0       False    True     595.0        86.00   \n",
       "1             NaN           1871.0       False   False     800.0        89.00   \n",
       "2          1300.0           2019.0       False    True     965.0        83.80   \n",
       "3             NaN           1964.0       False   False     343.0        58.15   \n",
       "4           903.0           1950.0       False   False     765.0        84.97   \n",
       "...           ...              ...         ...     ...       ...          ...   \n",
       "268845      910.0           2016.0       False    True     820.0        90.00   \n",
       "268846     1150.0           1983.0        True   False     930.0       115.00   \n",
       "268847      930.0           1965.0       False    True     650.0        95.00   \n",
       "268848     1015.0           2019.0       False    True     840.0        70.00   \n",
       "268849        NaN           1972.0        True    True     935.0        77.00   \n",
       "\n",
       "       petsAllowed   lift  noRooms  garden                   regio2  \\\n",
       "0              NaN  False      4.0    True                 Dortmund   \n",
       "1               no  False      3.0   False        Rhein_Pfalz_Kreis   \n",
       "2              NaN   True      3.0   False                  Dresden   \n",
       "3              NaN  False      3.0   False      Mittelsachsen_Kreis   \n",
       "4              NaN  False      3.0   False                   Bremen   \n",
       "...            ...    ...      ...     ...                      ...   \n",
       "268845          no  False      3.0   False  Weilheim_Schongau_Kreis   \n",
       "268846  negotiable  False      3.5   False         Bergstraße_Kreis   \n",
       "268847  negotiable  False      4.0    True   Limburg_Weilburg_Kreis   \n",
       "268848          no   True      2.0   False                     Köln   \n",
       "268849         NaN   True      3.0   False        Frankfurt_am_Main   \n",
       "\n",
       "                            regio3  \n",
       "0                          Schüren  \n",
       "1                   Böhl_Iggelheim  \n",
       "2       Äußere_Neustadt_Antonstadt  \n",
       "3                         Freiberg  \n",
       "4                Neu_Schwachhausen  \n",
       "...                            ...  \n",
       "268845                    Eberfing  \n",
       "268846                   Viernheim  \n",
       "268847         Limburg_an_der_Lahn  \n",
       "268848                   Dellbrück  \n",
       "268849                  Sossenheim  \n",
       "\n",
       "[268850 rows x 16 columns]"
      ]
     },
     "execution_count": 16,
     "metadata": {},
     "output_type": "execute_result"
    }
   ],
   "source": [
    "appartments"
   ]
  },
  {
   "cell_type": "markdown",
   "metadata": {},
   "source": [
    "To combine the Appartment Data with the University Data we need to adjust the City column (regio2)"
   ]
  },
  {
   "cell_type": "code",
   "execution_count": 17,
   "metadata": {},
   "outputs": [],
   "source": [
    "#First problem is that in regio2 words are seperated via \"_\" and not with an space\n",
    "appartments[\"regio2\"]=appartments[\"regio2\"].str.replace(\"_\", \" \")\n"
   ]
  },
  {
   "cell_type": "code",
   "execution_count": 18,
   "metadata": {},
   "outputs": [],
   "source": [
    "#Next problem is that in regio2 words are seperated via \"_\" and not with an space\n",
    "appartments[\"regio2\"]=appartments[\"regio2\"].str.replace(\"ß\", \"ss\")"
   ]
  },
  {
   "cell_type": "code",
   "execution_count": 19,
   "metadata": {},
   "outputs": [],
   "source": [
    "#Next problem is that in regio2 \"Halle\" is called \"Halle Saale\"\n",
    "appartments[\"regio2\"]=appartments[\"regio2\"].str.replace(\"Halle Saale\", \"Halle\")\n"
   ]
  },
  {
   "cell_type": "code",
   "execution_count": 20,
   "metadata": {},
   "outputs": [],
   "source": [
    "#Next problem is that in regio2 \"Freiburg\" is called \"Freiburg im Breisgau\"\n",
    "appartments[\"regio2\"]=appartments[\"regio2\"].str.replace(\"Freiburg im Breisgau\", \"Freiburg\")"
   ]
  },
  {
   "cell_type": "code",
   "execution_count": 21,
   "metadata": {},
   "outputs": [],
   "source": [
    "#Next problem is that in regio2 some Citys are split into regions so we delete \"Kreis\" \n",
    "appartments[\"regio2\"]=appartments[\"regio2\"].str.replace(\" Kreis\", \"\")"
   ]
  },
  {
   "cell_type": "code",
   "execution_count": 22,
   "metadata": {},
   "outputs": [],
   "source": [
    "#Next problem is that in regio2 the city Saarbrücken is called \"Stadtverband Saarbrücken\" \n",
    "appartments[\"regio2\"]=appartments[\"regio2\"].str.replace(\"Stadtverband \", \"\")"
   ]
  },
  {
   "cell_type": "code",
   "execution_count": 23,
   "metadata": {},
   "outputs": [
    {
     "data": {
      "text/plain": [
       "array(['Dortmund', 'Rhein Pfalz', 'Dresden', 'Mittelsachsen', 'Bremen',\n",
       "       'Schleswig Flensburg', 'Emmendingen', 'Gelsenkirchen', 'Chemnitz',\n",
       "       'Südliche Weinstrasse', 'Hamm', 'Weimar', 'Main Kinzig',\n",
       "       'Duisburg', 'Göttingen', 'Neumünster', 'Stuttgart', 'Leipzig',\n",
       "       'München', 'Hamburg', 'Braunschweig', 'Esslingen', 'Magdeburg',\n",
       "       'Schwerin', 'Passau', 'Mettmann', 'Vogtlandkreis', 'Gross Gerau',\n",
       "       'Sächsische Schweiz Osterzgebirge', 'Görlitz',\n",
       "       'Rheinisch Bergischer', 'Essen', 'Meissen', 'Mannheim',\n",
       "       'Wesermarsch', 'Hochsauerlandkreis', 'Unna', 'Bautzen', 'Berlin',\n",
       "       'Frankfurt am Main', 'Halle', 'Steinburg', 'Aschaffenburg',\n",
       "       'Oder Spree', 'Bremerhaven', 'Zwickau', 'Nordsachsen',\n",
       "       'Mansfeld Südharz', 'Alzey Worms', 'Giessen', 'Main Taunus',\n",
       "       'Wuppertal', 'Viersen', 'Düsseldorf', 'Gera', 'Böblingen',\n",
       "       'Würzburg', 'Kitzingen', 'Stendal', 'Nordvorpommern', 'Rhein Erft',\n",
       "       'Mülheim an der Ruhr', 'Heilbronn', 'Hersfeld Rotenburg', 'Aachen',\n",
       "       'Erzgebirgskreis', 'Baden Baden', 'Tuttlingen', 'Nürnberg',\n",
       "       'Heinsberg', 'Remscheid', 'Märkisch Oderland', 'Wiesbaden',\n",
       "       'Wetteraukreis', 'Kassel', 'Bielefeld', 'Salzlandkreis', 'Harburg',\n",
       "       'Höxter', 'Germersheim', 'Brandenburg an der Havel', 'Aurich',\n",
       "       'Herzogtum Lauenburg', 'Karlsruhe', 'Frankenthal Pfalz',\n",
       "       'Rheingau Taunus', 'Nordwestmecklenburg', 'Ostvorpommern', 'Emden',\n",
       "       'Rems Murr', 'Altmarkkreis Salzwedel', 'Straubing', 'Peine',\n",
       "       'Paderborn', 'Düren', 'Fürstenfeldbruck', 'Kiel',\n",
       "       'Unstrut Hainich', 'Ludwigslust', 'Flensburg', 'Borken', 'Krefeld',\n",
       "       'Lörrach', 'Saalekreis', 'Wesel', 'Recklinghausen', 'Hagen',\n",
       "       'Grafschaft Bentheim', 'Goslar', 'Bergstrasse', 'Börde', 'Potsdam',\n",
       "       'Kusel', 'Burgenlandkreis', 'Holzminden', 'Bad Doberan',\n",
       "       'Biberach', 'Coburg', 'Köln', 'Dessau Rosslau', 'Harz',\n",
       "       'Ludwigsburg', 'Herne', 'Bad Dürkheim', 'Wittenberg', 'Fürth',\n",
       "       'Eichstätt', 'Bochum', 'Pfaffenhofen an der Ilm', 'Märkischer',\n",
       "       'Trier', 'Rhein Sieg', 'Hannover', 'Limburg Weilburg',\n",
       "       'Mönchengladbach', 'Bonn', 'Anhalt Bitterfeld', 'Herford',\n",
       "       'Neuss Rhein', 'Plauen', 'Soest', 'Erding', 'Dahme Spreewald',\n",
       "       'Mainz', 'Kleve', 'Reutlingen', 'Offenbach', 'Segeberg', 'Emsland',\n",
       "       'Hochtaunuskreis', 'Schwarzwald Baar', 'Oberbergischer',\n",
       "       'Wunsiedel im Fichtelgebirge', 'Hildburghausen', 'Wismar',\n",
       "       'Pirmasens', 'Schmalkalden Meiningen', 'Ostalbkreis',\n",
       "       'Oldenburg Oldenburg', 'Mayen Koblenz', 'Ennepe Ruhr', 'Uckermark',\n",
       "       'Mainz Bingen', 'Erfurt', 'Helmstedt', 'Pinneberg', 'Gütersloh',\n",
       "       'Starnberg', 'Siegen Wittgenstein', 'Fulda',\n",
       "       'Oberspreewald Lausitz', 'Göppingen', 'Werra Meissner', 'Lüneburg',\n",
       "       'Wilhelmshaven', 'Wolfsburg', 'Northeim', 'Rhein Lahn', 'Freising',\n",
       "       'Lübeck', 'Minden Lübbecke', 'Rastatt', 'Unterallgäu', 'Eisenach',\n",
       "       'Spree Neisse', 'Bad Tölz Wolfratshausen', 'Rendsburg Eckernförde',\n",
       "       'Augsburg', 'Neustadt a.d. Aisch Bad Windsheim', 'Oberhavel',\n",
       "       'Schwalm Eder', 'Stralsund', 'Prignitz', 'Hoyerswerda',\n",
       "       'Straubing Bogen', 'Darmstadt Dieburg', 'Landshut', 'Cochem Zell',\n",
       "       'Bad Kreuznach', 'Solingen', 'Heidelberg', 'Hof', 'Neubrandenburg',\n",
       "       'Osnabrück', 'Donau Ries', 'Güstrow', 'Plön', 'Koblenz',\n",
       "       'Alb Donau', 'Heidenheim', 'Bodenseekreis', 'Teltow Fläming',\n",
       "       'Westerwaldkreis', 'Celle', 'Potsdam Mittelmark', 'Hildesheim',\n",
       "       'Verden', 'Rhein Neckar', 'Havelland', 'Dachau', 'Rotenburg Wümme',\n",
       "       'Ostholstein', 'Pforzheim', 'Suhl', 'Stormarn', 'Eichsfeld',\n",
       "       'Darmstadt', 'Regensburg', 'Nordhausen', 'Sonneberg', 'Cottbus',\n",
       "       'Forchheim', 'Erlangen', 'Nienburg Weser', 'Waldeck Frankenberg',\n",
       "       'Dithmarschen', 'Diepholz', 'Deggendorf', 'Oberhausen',\n",
       "       'Neustadt an der Weinstrasse', 'Münster', 'Osterode am Harz',\n",
       "       'Freudenstadt', 'Marburg Biedenkopf', 'Stade', 'Birkenfeld',\n",
       "       'Cuxhaven', 'Rottal Inn', 'Rügen', 'Gotha', 'Offenbach am Main',\n",
       "       'Saarbrücken', 'Kyffhäuserkreis', 'Freiburg', 'Ravensburg',\n",
       "       'Hameln Pyrmont', 'Saalfeld Rudolstadt', 'Rostock', 'Saarlouis',\n",
       "       'Parchim', 'Schwäbisch Hall', 'Bamberg', 'Weilheim Schongau',\n",
       "       'Lippe', 'Müritz', 'Steinfurt', 'Traunstein', 'Ebersberg',\n",
       "       'Neuwied', 'Kelheim', 'Weimarer Land', 'Saarpfalz', 'Vechta',\n",
       "       'Bitburg Prüm', 'Ahrweiler', 'Greifswald', 'Calw', 'Gifhorn',\n",
       "       'Uelzen', 'Altenburger Land', 'Ilm', 'Trier Saarburg', 'Lahn Dill',\n",
       "       'Worms', 'Berchtesgadener Land', 'Breisgau Hochschwarzwald',\n",
       "       'Oldenburg', 'Barnim', 'Erlangen Höchstadt', 'Main Spessart',\n",
       "       'Rosenheim', 'Bottrop', 'Ludwigshafen am Rhein', 'Elbe Elster',\n",
       "       'Warendorf', 'Mecklenburg Strelitz', 'Jerichower Land',\n",
       "       'Lüchow Dannenberg', 'Greiz', 'Euskirchen', 'Kaiserslautern',\n",
       "       'Salzgitter', 'Weissenburg Gunzenhausen', 'Ulm', 'Altötting',\n",
       "       'Landsberg am Lech', 'Günzburg', 'Amberg Sulzbach',\n",
       "       'Wartburgkreis', 'Neu Ulm', 'Lichtenfels', 'Friesland', 'Tübingen',\n",
       "       'Zollernalbkreis', 'Enzkreis', 'Miltenberg', 'Schaumburg',\n",
       "       'Waldshut', 'Delmenhorst', 'Bayreuth', 'Jena', 'Sömmerda',\n",
       "       'Nordfriesland', 'Leer', 'Dillingen an der Donau',\n",
       "       'Nürnberger Land', 'Ostprignitz Ruppin', 'Ingolstadt',\n",
       "       'Bad Kissingen', 'Saale Holzland', 'Kaufbeuren', 'Speyer',\n",
       "       'Ansbach', 'Ammerland', 'Rottweil', 'Mühldorf am Inn',\n",
       "       'Weiden in der Oberpfalz', 'Frankfurt Oder',\n",
       "       'Garmisch Partenkirchen', 'Main Tauber', 'Ostallgäu', 'Leverkusen',\n",
       "       'Neumarkt in der Oberpfalz', 'Aichach Friedberg', 'Neunkirchen',\n",
       "       'Coesfeld', 'Lindau Bodensee', 'Ortenaukreis', 'Rhein Hunsrück',\n",
       "       'Osterholz', 'Merzig Wadern', 'Heidekreis', 'Wolfenbüttel',\n",
       "       'Dingolfing Landau', 'Südwestpfalz', 'Bernkastel Wittlich',\n",
       "       'Schweinfurt', 'Demmin', 'Miesbach', 'Konstanz', 'Tirschenreuth',\n",
       "       'Neckar Odenwald', 'Altenkirchen Westerwald',\n",
       "       'Soltau Fallingbostel', 'Landau in der Pfalz', 'Uecker Randow',\n",
       "       'Zweibrücken', 'Neuburg Schrobenhausen', 'Amberg',\n",
       "       'Donnersbergkreis', 'Cloppenburg', 'Hohenlohekreis', 'Roth',\n",
       "       'Vulkaneifel', 'Vogelsbergkreis', 'Schwandorf', 'Cham',\n",
       "       'Sigmaringen', 'Oberallgäu', 'Regen', 'Memmingen',\n",
       "       'Kempten Allgäu', 'Freyung Grafenau', 'Odenwaldkreis', 'Olpe',\n",
       "       'Saale Orla', 'Sankt Wendel', 'Kulmbach', 'Schwabach', 'Wittmund',\n",
       "       'Hassberge', 'Rhön Grabfeld', 'Kronach', 'Neustadt a.d. Waldnaab'],\n",
       "      dtype=object)"
      ]
     },
     "execution_count": 23,
     "metadata": {},
     "output_type": "execute_result"
    }
   ],
   "source": [
    "#The changes have worked\n",
    "appartments[\"regio2\"].unique()"
   ]
  },
  {
   "cell_type": "code",
   "execution_count": 24,
   "metadata": {},
   "outputs": [],
   "source": [
    "#The Appartments Data is grouped by the city so we can aggregate the rent and so on per City\n",
    "app_city=appartments.groupby([\"regio2\"])"
   ]
  },
  {
   "cell_type": "markdown",
   "metadata": {},
   "source": [
    "The mean total Rent per City"
   ]
  },
  {
   "cell_type": "code",
   "execution_count": 25,
   "metadata": {},
   "outputs": [
    {
     "data": {
      "text/plain": [
       "regio2\n",
       "Aachen                808.837117\n",
       "Ahrweiler             811.195740\n",
       "Aichach Friedberg    1037.368621\n",
       "Alb Donau             894.634437\n",
       "Altenburger Land      454.977522\n",
       "                        ...     \n",
       "Wuppertal             654.873826\n",
       "Würzburg              906.299109\n",
       "Zollernalbkreis       823.415200\n",
       "Zweibrücken           605.617021\n",
       "Zwickau               482.296626\n",
       "Name: totalRent, Length: 394, dtype: float64"
      ]
     },
     "execution_count": 25,
     "metadata": {},
     "output_type": "execute_result"
    }
   ],
   "source": [
    "#Here we save the grouping of the total Rent by city as \"meanofcityRent\" and take the mean\n",
    "meanofcityRent=app_city[\"totalRent\"].mean()\n",
    "meanofcityRent"
   ]
  },
  {
   "cell_type": "code",
   "execution_count": 26,
   "metadata": {},
   "outputs": [
    {
     "ename": "NameError",
     "evalue": "name 'uni_cities' is not defined",
     "output_type": "error",
     "traceback": [
      "\u001b[1;31m---------------------------------------------------------------------------\u001b[0m",
      "\u001b[1;31mNameError\u001b[0m                                 Traceback (most recent call last)",
      "\u001b[1;32m<ipython-input-26-0caf9bf4aca3>\u001b[0m in \u001b[0;36m<module>\u001b[1;34m\u001b[0m\n\u001b[0;32m      1\u001b[0m \u001b[1;31m#We merge the menofcityRent to the uni_cities DataFrame as new column\u001b[0m\u001b[1;33m\u001b[0m\u001b[1;33m\u001b[0m\u001b[1;33m\u001b[0m\u001b[0m\n\u001b[1;32m----> 2\u001b[1;33m \u001b[0muni_cities\u001b[0m\u001b[1;33m=\u001b[0m\u001b[0muni_cities\u001b[0m\u001b[1;33m.\u001b[0m\u001b[0mmerge\u001b[0m\u001b[1;33m(\u001b[0m\u001b[0mmeanofcityRent\u001b[0m\u001b[1;33m,\u001b[0m \u001b[0mright_index\u001b[0m\u001b[1;33m=\u001b[0m\u001b[1;32mTrue\u001b[0m\u001b[1;33m,\u001b[0m \u001b[0mleft_on\u001b[0m\u001b[1;33m=\u001b[0m\u001b[1;34m\"city\"\u001b[0m\u001b[1;33m,\u001b[0m \u001b[0mhow\u001b[0m\u001b[1;33m=\u001b[0m\u001b[1;34m\"left\"\u001b[0m\u001b[1;33m)\u001b[0m\u001b[1;33m\u001b[0m\u001b[1;33m\u001b[0m\u001b[0m\n\u001b[0m",
      "\u001b[1;31mNameError\u001b[0m: name 'uni_cities' is not defined"
     ]
    }
   ],
   "source": [
    "#We merge the menofcityRent to the uni_cities DataFrame as new column\n",
    "uni_cities=uni_cities.merge(meanofcityRent, right_index=True, left_on=\"city\", how=\"left\")"
   ]
  },
  {
   "cell_type": "code",
   "execution_count": 104,
   "metadata": {},
   "outputs": [
    {
     "data": {
      "text/html": [
       "<div>\n",
       "<style scoped>\n",
       "    .dataframe tbody tr th:only-of-type {\n",
       "        vertical-align: middle;\n",
       "    }\n",
       "\n",
       "    .dataframe tbody tr th {\n",
       "        vertical-align: top;\n",
       "    }\n",
       "\n",
       "    .dataframe thead th {\n",
       "        text-align: right;\n",
       "    }\n",
       "</style>\n",
       "<table border=\"1\" class=\"dataframe\">\n",
       "  <thead>\n",
       "    <tr style=\"text-align: right;\">\n",
       "      <th></th>\n",
       "      <th>old_index</th>\n",
       "      <th>world_rank</th>\n",
       "      <th>institution</th>\n",
       "      <th>country</th>\n",
       "      <th>national_rank</th>\n",
       "      <th>quality_of_education</th>\n",
       "      <th>quality_of_faculty</th>\n",
       "      <th>year</th>\n",
       "      <th>city</th>\n",
       "      <th>totalRent_x</th>\n",
       "      <th>totalRent_y</th>\n",
       "      <th>totalRent</th>\n",
       "    </tr>\n",
       "  </thead>\n",
       "  <tbody>\n",
       "    <tr>\n",
       "      <th>0</th>\n",
       "      <td>81</td>\n",
       "      <td>82</td>\n",
       "      <td>Ruprecht Karl University of Heidelberg</td>\n",
       "      <td>Germany</td>\n",
       "      <td>1</td>\n",
       "      <td>87</td>\n",
       "      <td>52</td>\n",
       "      <td>2012</td>\n",
       "      <td>Heidelberg</td>\n",
       "      <td>1348.422541</td>\n",
       "      <td>1348.422541</td>\n",
       "      <td>1290.0</td>\n",
       "    </tr>\n",
       "    <tr>\n",
       "      <th>1</th>\n",
       "      <td>82</td>\n",
       "      <td>83</td>\n",
       "      <td>Ludwig Maximilian University of Munich</td>\n",
       "      <td>Germany</td>\n",
       "      <td>2</td>\n",
       "      <td>90</td>\n",
       "      <td>90</td>\n",
       "      <td>2012</td>\n",
       "      <td>München</td>\n",
       "      <td>1904.166454</td>\n",
       "      <td>1904.166454</td>\n",
       "      <td>1650.0</td>\n",
       "    </tr>\n",
       "    <tr>\n",
       "      <th>2</th>\n",
       "      <td>89</td>\n",
       "      <td>90</td>\n",
       "      <td>Technical University of Munich</td>\n",
       "      <td>Germany</td>\n",
       "      <td>3</td>\n",
       "      <td>52</td>\n",
       "      <td>101</td>\n",
       "      <td>2012</td>\n",
       "      <td>München</td>\n",
       "      <td>1904.166454</td>\n",
       "      <td>1904.166454</td>\n",
       "      <td>1650.0</td>\n",
       "    </tr>\n",
       "    <tr>\n",
       "      <th>3</th>\n",
       "      <td>166</td>\n",
       "      <td>67</td>\n",
       "      <td>Ludwig Maximilian University of Munich</td>\n",
       "      <td>Germany</td>\n",
       "      <td>1</td>\n",
       "      <td>62</td>\n",
       "      <td>92</td>\n",
       "      <td>2013</td>\n",
       "      <td>München</td>\n",
       "      <td>1904.166454</td>\n",
       "      <td>1904.166454</td>\n",
       "      <td>1650.0</td>\n",
       "    </tr>\n",
       "    <tr>\n",
       "      <th>4</th>\n",
       "      <td>178</td>\n",
       "      <td>79</td>\n",
       "      <td>Ruprecht Karl University of Heidelberg</td>\n",
       "      <td>Germany</td>\n",
       "      <td>2</td>\n",
       "      <td>73</td>\n",
       "      <td>55</td>\n",
       "      <td>2013</td>\n",
       "      <td>Heidelberg</td>\n",
       "      <td>1348.422541</td>\n",
       "      <td>1348.422541</td>\n",
       "      <td>1290.0</td>\n",
       "    </tr>\n",
       "    <tr>\n",
       "      <th>...</th>\n",
       "      <td>...</td>\n",
       "      <td>...</td>\n",
       "      <td>...</td>\n",
       "      <td>...</td>\n",
       "      <td>...</td>\n",
       "      <td>...</td>\n",
       "      <td>...</td>\n",
       "      <td>...</td>\n",
       "      <td>...</td>\n",
       "      <td>...</td>\n",
       "      <td>...</td>\n",
       "      <td>...</td>\n",
       "    </tr>\n",
       "    <tr>\n",
       "      <th>110</th>\n",
       "      <td>1992</td>\n",
       "      <td>793</td>\n",
       "      <td>University of Hohenheim</td>\n",
       "      <td>Germany</td>\n",
       "      <td>51</td>\n",
       "      <td>367</td>\n",
       "      <td>218</td>\n",
       "      <td>2015</td>\n",
       "      <td>Stuttgart</td>\n",
       "      <td>1487.458776</td>\n",
       "      <td>1487.458776</td>\n",
       "      <td>1400.0</td>\n",
       "    </tr>\n",
       "    <tr>\n",
       "      <th>111</th>\n",
       "      <td>2000</td>\n",
       "      <td>801</td>\n",
       "      <td>University of Oldenburg</td>\n",
       "      <td>Germany</td>\n",
       "      <td>52</td>\n",
       "      <td>367</td>\n",
       "      <td>218</td>\n",
       "      <td>2015</td>\n",
       "      <td>Oldenburg</td>\n",
       "      <td>759.706757</td>\n",
       "      <td>759.706757</td>\n",
       "      <td>790.0</td>\n",
       "    </tr>\n",
       "    <tr>\n",
       "      <th>112</th>\n",
       "      <td>2056</td>\n",
       "      <td>857</td>\n",
       "      <td>University of Siegen</td>\n",
       "      <td>Germany</td>\n",
       "      <td>53</td>\n",
       "      <td>367</td>\n",
       "      <td>218</td>\n",
       "      <td>2015</td>\n",
       "      <td>Siegen Wittgenstein</td>\n",
       "      <td>702.158013</td>\n",
       "      <td>702.158013</td>\n",
       "      <td>665.0</td>\n",
       "    </tr>\n",
       "    <tr>\n",
       "      <th>113</th>\n",
       "      <td>2075</td>\n",
       "      <td>876</td>\n",
       "      <td>University of Osnabrück</td>\n",
       "      <td>Germany</td>\n",
       "      <td>54</td>\n",
       "      <td>367</td>\n",
       "      <td>218</td>\n",
       "      <td>2015</td>\n",
       "      <td>Osnabrück</td>\n",
       "      <td>796.577535</td>\n",
       "      <td>796.577535</td>\n",
       "      <td>760.0</td>\n",
       "    </tr>\n",
       "    <tr>\n",
       "      <th>114</th>\n",
       "      <td>2101</td>\n",
       "      <td>902</td>\n",
       "      <td>University of Mannheim</td>\n",
       "      <td>Germany</td>\n",
       "      <td>55</td>\n",
       "      <td>367</td>\n",
       "      <td>218</td>\n",
       "      <td>2015</td>\n",
       "      <td>Mannheim</td>\n",
       "      <td>1065.804221</td>\n",
       "      <td>1065.804221</td>\n",
       "      <td>969.0</td>\n",
       "    </tr>\n",
       "  </tbody>\n",
       "</table>\n",
       "<p>115 rows × 12 columns</p>\n",
       "</div>"
      ],
      "text/plain": [
       "     old_index  world_rank                             institution  country  \\\n",
       "0           81          82  Ruprecht Karl University of Heidelberg  Germany   \n",
       "1           82          83  Ludwig Maximilian University of Munich  Germany   \n",
       "2           89          90          Technical University of Munich  Germany   \n",
       "3          166          67  Ludwig Maximilian University of Munich  Germany   \n",
       "4          178          79  Ruprecht Karl University of Heidelberg  Germany   \n",
       "..         ...         ...                                     ...      ...   \n",
       "110       1992         793                 University of Hohenheim  Germany   \n",
       "111       2000         801                 University of Oldenburg  Germany   \n",
       "112       2056         857                    University of Siegen  Germany   \n",
       "113       2075         876                 University of Osnabrück  Germany   \n",
       "114       2101         902                  University of Mannheim  Germany   \n",
       "\n",
       "     national_rank  quality_of_education  quality_of_faculty  year  \\\n",
       "0                1                    87                  52  2012   \n",
       "1                2                    90                  90  2012   \n",
       "2                3                    52                 101  2012   \n",
       "3                1                    62                  92  2013   \n",
       "4                2                    73                  55  2013   \n",
       "..             ...                   ...                 ...   ...   \n",
       "110             51                   367                 218  2015   \n",
       "111             52                   367                 218  2015   \n",
       "112             53                   367                 218  2015   \n",
       "113             54                   367                 218  2015   \n",
       "114             55                   367                 218  2015   \n",
       "\n",
       "                    city  totalRent_x  totalRent_y  totalRent  \n",
       "0             Heidelberg  1348.422541  1348.422541     1290.0  \n",
       "1                München  1904.166454  1904.166454     1650.0  \n",
       "2                München  1904.166454  1904.166454     1650.0  \n",
       "3                München  1904.166454  1904.166454     1650.0  \n",
       "4             Heidelberg  1348.422541  1348.422541     1290.0  \n",
       "..                   ...          ...          ...        ...  \n",
       "110            Stuttgart  1487.458776  1487.458776     1400.0  \n",
       "111            Oldenburg   759.706757   759.706757      790.0  \n",
       "112  Siegen Wittgenstein   702.158013   702.158013      665.0  \n",
       "113            Osnabrück   796.577535   796.577535      760.0  \n",
       "114             Mannheim  1065.804221  1065.804221      969.0  \n",
       "\n",
       "[115 rows x 12 columns]"
      ]
     },
     "execution_count": 104,
     "metadata": {},
     "output_type": "execute_result"
    }
   ],
   "source": [
    "uni_cities"
   ]
  },
  {
   "cell_type": "markdown",
   "metadata": {},
   "source": [
    "The median of totalRent per city\n",
    "\n",
    "\n"
   ]
  },
  {
   "cell_type": "code",
   "execution_count": 36,
   "metadata": {},
   "outputs": [
    {
     "data": {
      "text/plain": [
       "regio2\n",
       "Aachen               735.0\n",
       "Ahrweiler            760.0\n",
       "Aichach Friedberg    985.0\n",
       "Alb Donau            895.0\n",
       "Altenburger Land     430.0\n",
       "                     ...  \n",
       "Wuppertal            585.0\n",
       "Würzburg             870.0\n",
       "Zollernalbkreis      800.0\n",
       "Zweibrücken          550.0\n",
       "Zwickau              440.0\n",
       "Name: totalRent, Length: 394, dtype: float64"
      ]
     },
     "execution_count": 36,
     "metadata": {},
     "output_type": "execute_result"
    }
   ],
   "source": [
    "#Here we save the grouping of the total Rent by city as \"medianoftotalRent\" and take the median\n",
    "medianoftotalRent=app_city[\"totalRent\"].median()\n",
    "medianoftotalRent"
   ]
  },
  {
   "cell_type": "code",
   "execution_count": 102,
   "metadata": {},
   "outputs": [],
   "source": [
    "#We merge the medianoftotalRent to the uni_cities DataFrame as new column\n",
    "uni_cities=uni_cities.merge(medianoftotalRent, right_index=True, left_on=\"city\", how=\"left\")"
   ]
  },
  {
   "cell_type": "markdown",
   "metadata": {},
   "source": [
    "Mean of serviceCharge per city\n"
   ]
  },
  {
   "cell_type": "code",
   "execution_count": 52,
   "metadata": {},
   "outputs": [
    {
     "data": {
      "text/plain": [
       "regio2\n",
       "Aachen               159.659296\n",
       "Ahrweiler            164.033762\n",
       "Aichach Friedberg    163.269231\n",
       "Alb Donau            160.179000\n",
       "Altenburger Land     113.986117\n",
       "                        ...    \n",
       "Wuppertal            141.145691\n",
       "Würzburg             128.759734\n",
       "Zollernalbkreis      171.581560\n",
       "Zweibrücken          141.250000\n",
       "Zwickau              130.361212\n",
       "Name: serviceCharge, Length: 394, dtype: float64"
      ]
     },
     "execution_count": 52,
     "metadata": {},
     "output_type": "execute_result"
    }
   ],
   "source": [
    "meanofserviceCharge=app_city[\"serviceCharge\"].mean()\n",
    "meanofserviceCharge"
   ]
  },
  {
   "cell_type": "code",
   "execution_count": 105,
   "metadata": {},
   "outputs": [],
   "source": [
    "uni_cities=uni_cities.merge(meanofserviceCharge, right_index=True, left_on=\"city\", how=\"left\")"
   ]
  },
  {
   "cell_type": "markdown",
   "metadata": {},
   "source": [
    "Median of *serviceCharge* per city\n"
   ]
  },
  {
   "cell_type": "code",
   "execution_count": 53,
   "metadata": {},
   "outputs": [
    {
     "data": {
      "text/plain": [
       "regio2\n",
       "Aachen               150.0\n",
       "Ahrweiler            150.0\n",
       "Aichach Friedberg    150.0\n",
       "Alb Donau            150.0\n",
       "Altenburger Land     110.0\n",
       "                     ...  \n",
       "Wuppertal            125.0\n",
       "Würzburg             130.0\n",
       "Zollernalbkreis      150.0\n",
       "Zweibrücken          135.0\n",
       "Zwickau              125.0\n",
       "Name: serviceCharge, Length: 394, dtype: float64"
      ]
     },
     "execution_count": 53,
     "metadata": {},
     "output_type": "execute_result"
    }
   ],
   "source": [
    "medianofserviceCharge=app_city[\"serviceCharge\"].median()\n",
    "medianofserviceCharge"
   ]
  },
  {
   "cell_type": "code",
   "execution_count": 106,
   "metadata": {},
   "outputs": [],
   "source": [
    "uni_cities=uni_cities.merge(medianofserviceCharge, right_index=True, left_on=\"city\", how=\"left\")"
   ]
  },
  {
   "cell_type": "markdown",
   "metadata": {},
   "source": [
    "Percentage of *balcony*"
   ]
  },
  {
   "cell_type": "code",
   "execution_count": 176,
   "metadata": {},
   "outputs": [
    {
     "data": {
      "text/plain": [
       "regio2             balcony\n",
       "Aachen             True       0.617223\n",
       "                   False      0.382777\n",
       "Ahrweiler          True       0.753943\n",
       "                   False      0.246057\n",
       "Aichach Friedberg  True       0.824427\n",
       "                                ...   \n",
       "Zollernalbkreis    False      0.385135\n",
       "Zweibrücken        False      0.630952\n",
       "                   True       0.369048\n",
       "Zwickau            False      0.527280\n",
       "                   True       0.472720\n",
       "Name: balcony, Length: 788, dtype: float64"
      ]
     },
     "execution_count": 176,
     "metadata": {},
     "output_type": "execute_result"
    }
   ],
   "source": [
    "#Here we calcuate the percentage of appartments containing a balcony\n",
    "percentageofbalcony = app_city['balcony'].value_counts(normalize=True) #.to_frame()\n",
    "percentageofbalcony\n",
    "percentageofbalcony.rename[\"balcony\"]"
   ]
  },
  {
   "cell_type": "code",
   "execution_count": 181,
   "metadata": {},
   "outputs": [
    {
     "ename": "ValueError",
     "evalue": "cannot insert balcony, already exists",
     "output_type": "error",
     "traceback": [
      "\u001b[1;31m---------------------------------------------------------------------------\u001b[0m",
      "\u001b[1;31mValueError\u001b[0m                                Traceback (most recent call last)",
      "\u001b[1;32m~\\AppData\\Local\\Temp/ipykernel_10292/1729010258.py\u001b[0m in \u001b[0;36m<module>\u001b[1;34m\u001b[0m\n\u001b[1;32m----> 1\u001b[1;33m \u001b[0mapp_city\u001b[0m\u001b[1;33m[\u001b[0m\u001b[1;34m'balcony'\u001b[0m\u001b[1;33m]\u001b[0m\u001b[1;33m.\u001b[0m\u001b[0mvalue_counts\u001b[0m\u001b[1;33m(\u001b[0m\u001b[0mnormalize\u001b[0m\u001b[1;33m=\u001b[0m\u001b[1;32mTrue\u001b[0m\u001b[1;33m)\u001b[0m\u001b[1;33m.\u001b[0m\u001b[0mreset_index\u001b[0m\u001b[1;33m(\u001b[0m\u001b[1;33m)\u001b[0m\u001b[1;33m\u001b[0m\u001b[1;33m\u001b[0m\u001b[0m\n\u001b[0m",
      "\u001b[1;32m~\\anaconda3\\lib\\site-packages\\pandas\\util\\_decorators.py\u001b[0m in \u001b[0;36mwrapper\u001b[1;34m(*args, **kwargs)\u001b[0m\n\u001b[0;32m    309\u001b[0m                     \u001b[0mstacklevel\u001b[0m\u001b[1;33m=\u001b[0m\u001b[0mstacklevel\u001b[0m\u001b[1;33m,\u001b[0m\u001b[1;33m\u001b[0m\u001b[1;33m\u001b[0m\u001b[0m\n\u001b[0;32m    310\u001b[0m                 )\n\u001b[1;32m--> 311\u001b[1;33m             \u001b[1;32mreturn\u001b[0m \u001b[0mfunc\u001b[0m\u001b[1;33m(\u001b[0m\u001b[1;33m*\u001b[0m\u001b[0margs\u001b[0m\u001b[1;33m,\u001b[0m \u001b[1;33m**\u001b[0m\u001b[0mkwargs\u001b[0m\u001b[1;33m)\u001b[0m\u001b[1;33m\u001b[0m\u001b[1;33m\u001b[0m\u001b[0m\n\u001b[0m\u001b[0;32m    312\u001b[0m \u001b[1;33m\u001b[0m\u001b[0m\n\u001b[0;32m    313\u001b[0m         \u001b[1;32mreturn\u001b[0m \u001b[0mwrapper\u001b[0m\u001b[1;33m\u001b[0m\u001b[1;33m\u001b[0m\u001b[0m\n",
      "\u001b[1;32m~\\anaconda3\\lib\\site-packages\\pandas\\core\\series.py\u001b[0m in \u001b[0;36mreset_index\u001b[1;34m(self, level, drop, name, inplace)\u001b[0m\n\u001b[0;32m   1440\u001b[0m         \u001b[1;32melse\u001b[0m\u001b[1;33m:\u001b[0m\u001b[1;33m\u001b[0m\u001b[1;33m\u001b[0m\u001b[0m\n\u001b[0;32m   1441\u001b[0m             \u001b[0mdf\u001b[0m \u001b[1;33m=\u001b[0m \u001b[0mself\u001b[0m\u001b[1;33m.\u001b[0m\u001b[0mto_frame\u001b[0m\u001b[1;33m(\u001b[0m\u001b[0mname\u001b[0m\u001b[1;33m)\u001b[0m\u001b[1;33m\u001b[0m\u001b[1;33m\u001b[0m\u001b[0m\n\u001b[1;32m-> 1442\u001b[1;33m             \u001b[1;32mreturn\u001b[0m \u001b[0mdf\u001b[0m\u001b[1;33m.\u001b[0m\u001b[0mreset_index\u001b[0m\u001b[1;33m(\u001b[0m\u001b[0mlevel\u001b[0m\u001b[1;33m=\u001b[0m\u001b[0mlevel\u001b[0m\u001b[1;33m,\u001b[0m \u001b[0mdrop\u001b[0m\u001b[1;33m=\u001b[0m\u001b[0mdrop\u001b[0m\u001b[1;33m)\u001b[0m\u001b[1;33m\u001b[0m\u001b[1;33m\u001b[0m\u001b[0m\n\u001b[0m\u001b[0;32m   1443\u001b[0m \u001b[1;33m\u001b[0m\u001b[0m\n\u001b[0;32m   1444\u001b[0m     \u001b[1;31m# ----------------------------------------------------------------------\u001b[0m\u001b[1;33m\u001b[0m\u001b[1;33m\u001b[0m\u001b[0m\n",
      "\u001b[1;32m~\\anaconda3\\lib\\site-packages\\pandas\\util\\_decorators.py\u001b[0m in \u001b[0;36mwrapper\u001b[1;34m(*args, **kwargs)\u001b[0m\n\u001b[0;32m    309\u001b[0m                     \u001b[0mstacklevel\u001b[0m\u001b[1;33m=\u001b[0m\u001b[0mstacklevel\u001b[0m\u001b[1;33m,\u001b[0m\u001b[1;33m\u001b[0m\u001b[1;33m\u001b[0m\u001b[0m\n\u001b[0;32m    310\u001b[0m                 )\n\u001b[1;32m--> 311\u001b[1;33m             \u001b[1;32mreturn\u001b[0m \u001b[0mfunc\u001b[0m\u001b[1;33m(\u001b[0m\u001b[1;33m*\u001b[0m\u001b[0margs\u001b[0m\u001b[1;33m,\u001b[0m \u001b[1;33m**\u001b[0m\u001b[0mkwargs\u001b[0m\u001b[1;33m)\u001b[0m\u001b[1;33m\u001b[0m\u001b[1;33m\u001b[0m\u001b[0m\n\u001b[0m\u001b[0;32m    312\u001b[0m \u001b[1;33m\u001b[0m\u001b[0m\n\u001b[0;32m    313\u001b[0m         \u001b[1;32mreturn\u001b[0m \u001b[0mwrapper\u001b[0m\u001b[1;33m\u001b[0m\u001b[1;33m\u001b[0m\u001b[0m\n",
      "\u001b[1;32m~\\anaconda3\\lib\\site-packages\\pandas\\core\\frame.py\u001b[0m in \u001b[0;36mreset_index\u001b[1;34m(self, level, drop, inplace, col_level, col_fill)\u001b[0m\n\u001b[0;32m   5797\u001b[0m                     )\n\u001b[0;32m   5798\u001b[0m \u001b[1;33m\u001b[0m\u001b[0m\n\u001b[1;32m-> 5799\u001b[1;33m                 \u001b[0mnew_obj\u001b[0m\u001b[1;33m.\u001b[0m\u001b[0minsert\u001b[0m\u001b[1;33m(\u001b[0m\u001b[1;36m0\u001b[0m\u001b[1;33m,\u001b[0m \u001b[0mname\u001b[0m\u001b[1;33m,\u001b[0m \u001b[0mlevel_values\u001b[0m\u001b[1;33m)\u001b[0m\u001b[1;33m\u001b[0m\u001b[1;33m\u001b[0m\u001b[0m\n\u001b[0m\u001b[0;32m   5800\u001b[0m \u001b[1;33m\u001b[0m\u001b[0m\n\u001b[0;32m   5801\u001b[0m         \u001b[0mnew_obj\u001b[0m\u001b[1;33m.\u001b[0m\u001b[0mindex\u001b[0m \u001b[1;33m=\u001b[0m \u001b[0mnew_index\u001b[0m\u001b[1;33m\u001b[0m\u001b[1;33m\u001b[0m\u001b[0m\n",
      "\u001b[1;32m~\\anaconda3\\lib\\site-packages\\pandas\\core\\frame.py\u001b[0m in \u001b[0;36minsert\u001b[1;34m(self, loc, column, value, allow_duplicates)\u001b[0m\n\u001b[0;32m   4412\u001b[0m         \u001b[1;32mif\u001b[0m \u001b[1;32mnot\u001b[0m \u001b[0mallow_duplicates\u001b[0m \u001b[1;32mand\u001b[0m \u001b[0mcolumn\u001b[0m \u001b[1;32min\u001b[0m \u001b[0mself\u001b[0m\u001b[1;33m.\u001b[0m\u001b[0mcolumns\u001b[0m\u001b[1;33m:\u001b[0m\u001b[1;33m\u001b[0m\u001b[1;33m\u001b[0m\u001b[0m\n\u001b[0;32m   4413\u001b[0m             \u001b[1;31m# Should this be a different kind of error??\u001b[0m\u001b[1;33m\u001b[0m\u001b[1;33m\u001b[0m\u001b[0m\n\u001b[1;32m-> 4414\u001b[1;33m             \u001b[1;32mraise\u001b[0m \u001b[0mValueError\u001b[0m\u001b[1;33m(\u001b[0m\u001b[1;34mf\"cannot insert {column}, already exists\"\u001b[0m\u001b[1;33m)\u001b[0m\u001b[1;33m\u001b[0m\u001b[1;33m\u001b[0m\u001b[0m\n\u001b[0m\u001b[0;32m   4415\u001b[0m         \u001b[1;32mif\u001b[0m \u001b[1;32mnot\u001b[0m \u001b[0misinstance\u001b[0m\u001b[1;33m(\u001b[0m\u001b[0mloc\u001b[0m\u001b[1;33m,\u001b[0m \u001b[0mint\u001b[0m\u001b[1;33m)\u001b[0m\u001b[1;33m:\u001b[0m\u001b[1;33m\u001b[0m\u001b[1;33m\u001b[0m\u001b[0m\n\u001b[0;32m   4416\u001b[0m             \u001b[1;32mraise\u001b[0m \u001b[0mTypeError\u001b[0m\u001b[1;33m(\u001b[0m\u001b[1;34m\"loc must be int\"\u001b[0m\u001b[1;33m)\u001b[0m\u001b[1;33m\u001b[0m\u001b[1;33m\u001b[0m\u001b[0m\n",
      "\u001b[1;31mValueError\u001b[0m: cannot insert balcony, already exists"
     ]
    }
   ],
   "source": [
    "app_city['balcony'].value_counts(normalize=True).reset_index()"
   ]
  },
  {
   "cell_type": "code",
   "execution_count": 179,
   "metadata": {},
   "outputs": [
    {
     "ename": "ValueError",
     "evalue": "cannot insert balcony, already exists",
     "output_type": "error",
     "traceback": [
      "\u001b[1;31m---------------------------------------------------------------------------\u001b[0m",
      "\u001b[1;31mValueError\u001b[0m                                Traceback (most recent call last)",
      "\u001b[1;32m~\\AppData\\Local\\Temp/ipykernel_10292/4162995900.py\u001b[0m in \u001b[0;36m<module>\u001b[1;34m\u001b[0m\n\u001b[1;32m----> 1\u001b[1;33m \u001b[0mpercentageofbalcony\u001b[0m\u001b[1;33m.\u001b[0m\u001b[0mreset_index\u001b[0m\u001b[1;33m(\u001b[0m\u001b[0mdrop\u001b[0m\u001b[1;33m=\u001b[0m\u001b[1;32mFalse\u001b[0m\u001b[1;33m,\u001b[0m \u001b[0minplace\u001b[0m\u001b[1;33m=\u001b[0m\u001b[1;32mFalse\u001b[0m\u001b[1;33m)\u001b[0m\u001b[1;33m\u001b[0m\u001b[1;33m\u001b[0m\u001b[0m\n\u001b[0m",
      "\u001b[1;32m~\\anaconda3\\lib\\site-packages\\pandas\\util\\_decorators.py\u001b[0m in \u001b[0;36mwrapper\u001b[1;34m(*args, **kwargs)\u001b[0m\n\u001b[0;32m    309\u001b[0m                     \u001b[0mstacklevel\u001b[0m\u001b[1;33m=\u001b[0m\u001b[0mstacklevel\u001b[0m\u001b[1;33m,\u001b[0m\u001b[1;33m\u001b[0m\u001b[1;33m\u001b[0m\u001b[0m\n\u001b[0;32m    310\u001b[0m                 )\n\u001b[1;32m--> 311\u001b[1;33m             \u001b[1;32mreturn\u001b[0m \u001b[0mfunc\u001b[0m\u001b[1;33m(\u001b[0m\u001b[1;33m*\u001b[0m\u001b[0margs\u001b[0m\u001b[1;33m,\u001b[0m \u001b[1;33m**\u001b[0m\u001b[0mkwargs\u001b[0m\u001b[1;33m)\u001b[0m\u001b[1;33m\u001b[0m\u001b[1;33m\u001b[0m\u001b[0m\n\u001b[0m\u001b[0;32m    312\u001b[0m \u001b[1;33m\u001b[0m\u001b[0m\n\u001b[0;32m    313\u001b[0m         \u001b[1;32mreturn\u001b[0m \u001b[0mwrapper\u001b[0m\u001b[1;33m\u001b[0m\u001b[1;33m\u001b[0m\u001b[0m\n",
      "\u001b[1;32m~\\anaconda3\\lib\\site-packages\\pandas\\core\\series.py\u001b[0m in \u001b[0;36mreset_index\u001b[1;34m(self, level, drop, name, inplace)\u001b[0m\n\u001b[0;32m   1440\u001b[0m         \u001b[1;32melse\u001b[0m\u001b[1;33m:\u001b[0m\u001b[1;33m\u001b[0m\u001b[1;33m\u001b[0m\u001b[0m\n\u001b[0;32m   1441\u001b[0m             \u001b[0mdf\u001b[0m \u001b[1;33m=\u001b[0m \u001b[0mself\u001b[0m\u001b[1;33m.\u001b[0m\u001b[0mto_frame\u001b[0m\u001b[1;33m(\u001b[0m\u001b[0mname\u001b[0m\u001b[1;33m)\u001b[0m\u001b[1;33m\u001b[0m\u001b[1;33m\u001b[0m\u001b[0m\n\u001b[1;32m-> 1442\u001b[1;33m             \u001b[1;32mreturn\u001b[0m \u001b[0mdf\u001b[0m\u001b[1;33m.\u001b[0m\u001b[0mreset_index\u001b[0m\u001b[1;33m(\u001b[0m\u001b[0mlevel\u001b[0m\u001b[1;33m=\u001b[0m\u001b[0mlevel\u001b[0m\u001b[1;33m,\u001b[0m \u001b[0mdrop\u001b[0m\u001b[1;33m=\u001b[0m\u001b[0mdrop\u001b[0m\u001b[1;33m)\u001b[0m\u001b[1;33m\u001b[0m\u001b[1;33m\u001b[0m\u001b[0m\n\u001b[0m\u001b[0;32m   1443\u001b[0m \u001b[1;33m\u001b[0m\u001b[0m\n\u001b[0;32m   1444\u001b[0m     \u001b[1;31m# ----------------------------------------------------------------------\u001b[0m\u001b[1;33m\u001b[0m\u001b[1;33m\u001b[0m\u001b[0m\n",
      "\u001b[1;32m~\\anaconda3\\lib\\site-packages\\pandas\\util\\_decorators.py\u001b[0m in \u001b[0;36mwrapper\u001b[1;34m(*args, **kwargs)\u001b[0m\n\u001b[0;32m    309\u001b[0m                     \u001b[0mstacklevel\u001b[0m\u001b[1;33m=\u001b[0m\u001b[0mstacklevel\u001b[0m\u001b[1;33m,\u001b[0m\u001b[1;33m\u001b[0m\u001b[1;33m\u001b[0m\u001b[0m\n\u001b[0;32m    310\u001b[0m                 )\n\u001b[1;32m--> 311\u001b[1;33m             \u001b[1;32mreturn\u001b[0m \u001b[0mfunc\u001b[0m\u001b[1;33m(\u001b[0m\u001b[1;33m*\u001b[0m\u001b[0margs\u001b[0m\u001b[1;33m,\u001b[0m \u001b[1;33m**\u001b[0m\u001b[0mkwargs\u001b[0m\u001b[1;33m)\u001b[0m\u001b[1;33m\u001b[0m\u001b[1;33m\u001b[0m\u001b[0m\n\u001b[0m\u001b[0;32m    312\u001b[0m \u001b[1;33m\u001b[0m\u001b[0m\n\u001b[0;32m    313\u001b[0m         \u001b[1;32mreturn\u001b[0m \u001b[0mwrapper\u001b[0m\u001b[1;33m\u001b[0m\u001b[1;33m\u001b[0m\u001b[0m\n",
      "\u001b[1;32m~\\anaconda3\\lib\\site-packages\\pandas\\core\\frame.py\u001b[0m in \u001b[0;36mreset_index\u001b[1;34m(self, level, drop, inplace, col_level, col_fill)\u001b[0m\n\u001b[0;32m   5797\u001b[0m                     )\n\u001b[0;32m   5798\u001b[0m \u001b[1;33m\u001b[0m\u001b[0m\n\u001b[1;32m-> 5799\u001b[1;33m                 \u001b[0mnew_obj\u001b[0m\u001b[1;33m.\u001b[0m\u001b[0minsert\u001b[0m\u001b[1;33m(\u001b[0m\u001b[1;36m0\u001b[0m\u001b[1;33m,\u001b[0m \u001b[0mname\u001b[0m\u001b[1;33m,\u001b[0m \u001b[0mlevel_values\u001b[0m\u001b[1;33m)\u001b[0m\u001b[1;33m\u001b[0m\u001b[1;33m\u001b[0m\u001b[0m\n\u001b[0m\u001b[0;32m   5800\u001b[0m \u001b[1;33m\u001b[0m\u001b[0m\n\u001b[0;32m   5801\u001b[0m         \u001b[0mnew_obj\u001b[0m\u001b[1;33m.\u001b[0m\u001b[0mindex\u001b[0m \u001b[1;33m=\u001b[0m \u001b[0mnew_index\u001b[0m\u001b[1;33m\u001b[0m\u001b[1;33m\u001b[0m\u001b[0m\n",
      "\u001b[1;32m~\\anaconda3\\lib\\site-packages\\pandas\\core\\frame.py\u001b[0m in \u001b[0;36minsert\u001b[1;34m(self, loc, column, value, allow_duplicates)\u001b[0m\n\u001b[0;32m   4412\u001b[0m         \u001b[1;32mif\u001b[0m \u001b[1;32mnot\u001b[0m \u001b[0mallow_duplicates\u001b[0m \u001b[1;32mand\u001b[0m \u001b[0mcolumn\u001b[0m \u001b[1;32min\u001b[0m \u001b[0mself\u001b[0m\u001b[1;33m.\u001b[0m\u001b[0mcolumns\u001b[0m\u001b[1;33m:\u001b[0m\u001b[1;33m\u001b[0m\u001b[1;33m\u001b[0m\u001b[0m\n\u001b[0;32m   4413\u001b[0m             \u001b[1;31m# Should this be a different kind of error??\u001b[0m\u001b[1;33m\u001b[0m\u001b[1;33m\u001b[0m\u001b[0m\n\u001b[1;32m-> 4414\u001b[1;33m             \u001b[1;32mraise\u001b[0m \u001b[0mValueError\u001b[0m\u001b[1;33m(\u001b[0m\u001b[1;34mf\"cannot insert {column}, already exists\"\u001b[0m\u001b[1;33m)\u001b[0m\u001b[1;33m\u001b[0m\u001b[1;33m\u001b[0m\u001b[0m\n\u001b[0m\u001b[0;32m   4415\u001b[0m         \u001b[1;32mif\u001b[0m \u001b[1;32mnot\u001b[0m \u001b[0misinstance\u001b[0m\u001b[1;33m(\u001b[0m\u001b[0mloc\u001b[0m\u001b[1;33m,\u001b[0m \u001b[0mint\u001b[0m\u001b[1;33m)\u001b[0m\u001b[1;33m:\u001b[0m\u001b[1;33m\u001b[0m\u001b[1;33m\u001b[0m\u001b[0m\n\u001b[0;32m   4416\u001b[0m             \u001b[1;32mraise\u001b[0m \u001b[0mTypeError\u001b[0m\u001b[1;33m(\u001b[0m\u001b[1;34m\"loc must be int\"\u001b[0m\u001b[1;33m)\u001b[0m\u001b[1;33m\u001b[0m\u001b[1;33m\u001b[0m\u001b[0m\n",
      "\u001b[1;31mValueError\u001b[0m: cannot insert balcony, already exists"
     ]
    }
   ],
   "source": [
    "percentagebalcony.reset_index(drop=False, inplace=False)"
   ]
  },
  {
   "cell_type": "code",
   "execution_count": 175,
   "metadata": {},
   "outputs": [
    {
     "data": {
      "text/html": [
       "<div>\n",
       "<style scoped>\n",
       "    .dataframe tbody tr th:only-of-type {\n",
       "        vertical-align: middle;\n",
       "    }\n",
       "\n",
       "    .dataframe tbody tr th {\n",
       "        vertical-align: top;\n",
       "    }\n",
       "\n",
       "    .dataframe thead th {\n",
       "        text-align: right;\n",
       "    }\n",
       "</style>\n",
       "<table border=\"1\" class=\"dataframe\">\n",
       "  <thead>\n",
       "    <tr style=\"text-align: right;\">\n",
       "      <th></th>\n",
       "      <th></th>\n",
       "      <th>balcony</th>\n",
       "    </tr>\n",
       "    <tr>\n",
       "      <th>regio2</th>\n",
       "      <th>balcony</th>\n",
       "      <th></th>\n",
       "    </tr>\n",
       "  </thead>\n",
       "  <tbody>\n",
       "    <tr>\n",
       "      <th rowspan=\"2\" valign=\"top\">Aachen</th>\n",
       "      <th>True</th>\n",
       "      <td>0.617223</td>\n",
       "    </tr>\n",
       "    <tr>\n",
       "      <th>False</th>\n",
       "      <td>0.382777</td>\n",
       "    </tr>\n",
       "    <tr>\n",
       "      <th rowspan=\"2\" valign=\"top\">Ahrweiler</th>\n",
       "      <th>True</th>\n",
       "      <td>0.753943</td>\n",
       "    </tr>\n",
       "    <tr>\n",
       "      <th>False</th>\n",
       "      <td>0.246057</td>\n",
       "    </tr>\n",
       "    <tr>\n",
       "      <th>Aichach Friedberg</th>\n",
       "      <th>True</th>\n",
       "      <td>0.824427</td>\n",
       "    </tr>\n",
       "    <tr>\n",
       "      <th>...</th>\n",
       "      <th>...</th>\n",
       "      <td>...</td>\n",
       "    </tr>\n",
       "    <tr>\n",
       "      <th>Zollernalbkreis</th>\n",
       "      <th>False</th>\n",
       "      <td>0.385135</td>\n",
       "    </tr>\n",
       "    <tr>\n",
       "      <th rowspan=\"2\" valign=\"top\">Zweibrücken</th>\n",
       "      <th>False</th>\n",
       "      <td>0.630952</td>\n",
       "    </tr>\n",
       "    <tr>\n",
       "      <th>True</th>\n",
       "      <td>0.369048</td>\n",
       "    </tr>\n",
       "    <tr>\n",
       "      <th rowspan=\"2\" valign=\"top\">Zwickau</th>\n",
       "      <th>False</th>\n",
       "      <td>0.527280</td>\n",
       "    </tr>\n",
       "    <tr>\n",
       "      <th>True</th>\n",
       "      <td>0.472720</td>\n",
       "    </tr>\n",
       "  </tbody>\n",
       "</table>\n",
       "<p>788 rows × 1 columns</p>\n",
       "</div>"
      ],
      "text/plain": [
       "                            balcony\n",
       "regio2            balcony          \n",
       "Aachen            True     0.617223\n",
       "                  False    0.382777\n",
       "Ahrweiler         True     0.753943\n",
       "                  False    0.246057\n",
       "Aichach Friedberg True     0.824427\n",
       "...                             ...\n",
       "Zollernalbkreis   False    0.385135\n",
       "Zweibrücken       False    0.630952\n",
       "                  True     0.369048\n",
       "Zwickau           False    0.527280\n",
       "                  True     0.472720\n",
       "\n",
       "[788 rows x 1 columns]"
      ]
     },
     "execution_count": 175,
     "metadata": {},
     "output_type": "execute_result"
    }
   ],
   "source": [
    "filt_test=percentageofbalcony[\"balcony\"]==False\n",
    "\n",
    "percentageofbalcony.drop(index=percentageofbalcony[filt_test].index, inplace=True)\n",
    "percentageofbalcony"
   ]
  },
  {
   "cell_type": "code",
   "execution_count": 150,
   "metadata": {},
   "outputs": [
    {
     "ename": "KeyError",
     "evalue": "False",
     "output_type": "error",
     "traceback": [
      "\u001b[1;31m---------------------------------------------------------------------------\u001b[0m",
      "\u001b[1;31mKeyError\u001b[0m                                  Traceback (most recent call last)",
      "\u001b[1;32m~\\anaconda3\\lib\\site-packages\\pandas\\core\\indexes\\base.py\u001b[0m in \u001b[0;36mget_loc\u001b[1;34m(self, key, method, tolerance)\u001b[0m\n\u001b[0;32m   3360\u001b[0m             \u001b[1;32mtry\u001b[0m\u001b[1;33m:\u001b[0m\u001b[1;33m\u001b[0m\u001b[1;33m\u001b[0m\u001b[0m\n\u001b[1;32m-> 3361\u001b[1;33m                 \u001b[1;32mreturn\u001b[0m \u001b[0mself\u001b[0m\u001b[1;33m.\u001b[0m\u001b[0m_engine\u001b[0m\u001b[1;33m.\u001b[0m\u001b[0mget_loc\u001b[0m\u001b[1;33m(\u001b[0m\u001b[0mcasted_key\u001b[0m\u001b[1;33m)\u001b[0m\u001b[1;33m\u001b[0m\u001b[1;33m\u001b[0m\u001b[0m\n\u001b[0m\u001b[0;32m   3362\u001b[0m             \u001b[1;32mexcept\u001b[0m \u001b[0mKeyError\u001b[0m \u001b[1;32mas\u001b[0m \u001b[0merr\u001b[0m\u001b[1;33m:\u001b[0m\u001b[1;33m\u001b[0m\u001b[1;33m\u001b[0m\u001b[0m\n",
      "\u001b[1;32m~\\anaconda3\\lib\\site-packages\\pandas\\_libs\\index.pyx\u001b[0m in \u001b[0;36mpandas._libs.index.IndexEngine.get_loc\u001b[1;34m()\u001b[0m\n",
      "\u001b[1;32m~\\anaconda3\\lib\\site-packages\\pandas\\_libs\\index.pyx\u001b[0m in \u001b[0;36mpandas._libs.index.IndexEngine.get_loc\u001b[1;34m()\u001b[0m\n",
      "\u001b[1;32mpandas\\_libs\\hashtable_class_helper.pxi\u001b[0m in \u001b[0;36mpandas._libs.hashtable.PyObjectHashTable.get_item\u001b[1;34m()\u001b[0m\n",
      "\u001b[1;32mpandas\\_libs\\hashtable_class_helper.pxi\u001b[0m in \u001b[0;36mpandas._libs.hashtable.PyObjectHashTable.get_item\u001b[1;34m()\u001b[0m\n",
      "\u001b[1;31mKeyError\u001b[0m: False",
      "\nThe above exception was the direct cause of the following exception:\n",
      "\u001b[1;31mKeyError\u001b[0m                                  Traceback (most recent call last)",
      "\u001b[1;32m~\\AppData\\Local\\Temp/ipykernel_10292/2088369279.py\u001b[0m in \u001b[0;36m<module>\u001b[1;34m\u001b[0m\n\u001b[1;32m----> 1\u001b[1;33m \u001b[0mpercentageofbalcony\u001b[0m \u001b[1;33m=\u001b[0m \u001b[0mpercentageofbalcony\u001b[0m\u001b[1;33m.\u001b[0m\u001b[0mdrop\u001b[0m\u001b[1;33m(\u001b[0m\u001b[0mpercentageofbalcony\u001b[0m\u001b[1;33m[\u001b[0m\u001b[1;34m\"balcony\"\u001b[0m\u001b[1;33m==\u001b[0m\u001b[1;32mTrue\u001b[0m\u001b[1;33m]\u001b[0m\u001b[1;33m.\u001b[0m\u001b[0mindex\u001b[0m\u001b[1;33m)\u001b[0m\u001b[1;33m\u001b[0m\u001b[1;33m\u001b[0m\u001b[0m\n\u001b[0m",
      "\u001b[1;32m~\\anaconda3\\lib\\site-packages\\pandas\\core\\series.py\u001b[0m in \u001b[0;36m__getitem__\u001b[1;34m(self, key)\u001b[0m\n\u001b[0;32m    940\u001b[0m \u001b[1;33m\u001b[0m\u001b[0m\n\u001b[0;32m    941\u001b[0m         \u001b[1;32melif\u001b[0m \u001b[0mkey_is_scalar\u001b[0m\u001b[1;33m:\u001b[0m\u001b[1;33m\u001b[0m\u001b[1;33m\u001b[0m\u001b[0m\n\u001b[1;32m--> 942\u001b[1;33m             \u001b[1;32mreturn\u001b[0m \u001b[0mself\u001b[0m\u001b[1;33m.\u001b[0m\u001b[0m_get_value\u001b[0m\u001b[1;33m(\u001b[0m\u001b[0mkey\u001b[0m\u001b[1;33m)\u001b[0m\u001b[1;33m\u001b[0m\u001b[1;33m\u001b[0m\u001b[0m\n\u001b[0m\u001b[0;32m    943\u001b[0m \u001b[1;33m\u001b[0m\u001b[0m\n\u001b[0;32m    944\u001b[0m         \u001b[1;32mif\u001b[0m \u001b[0mis_hashable\u001b[0m\u001b[1;33m(\u001b[0m\u001b[0mkey\u001b[0m\u001b[1;33m)\u001b[0m\u001b[1;33m:\u001b[0m\u001b[1;33m\u001b[0m\u001b[1;33m\u001b[0m\u001b[0m\n",
      "\u001b[1;32m~\\anaconda3\\lib\\site-packages\\pandas\\core\\series.py\u001b[0m in \u001b[0;36m_get_value\u001b[1;34m(self, label, takeable)\u001b[0m\n\u001b[0;32m   1049\u001b[0m \u001b[1;33m\u001b[0m\u001b[0m\n\u001b[0;32m   1050\u001b[0m         \u001b[1;31m# Similar to Index.get_value, but we do not fall back to positional\u001b[0m\u001b[1;33m\u001b[0m\u001b[1;33m\u001b[0m\u001b[0m\n\u001b[1;32m-> 1051\u001b[1;33m         \u001b[0mloc\u001b[0m \u001b[1;33m=\u001b[0m \u001b[0mself\u001b[0m\u001b[1;33m.\u001b[0m\u001b[0mindex\u001b[0m\u001b[1;33m.\u001b[0m\u001b[0mget_loc\u001b[0m\u001b[1;33m(\u001b[0m\u001b[0mlabel\u001b[0m\u001b[1;33m)\u001b[0m\u001b[1;33m\u001b[0m\u001b[1;33m\u001b[0m\u001b[0m\n\u001b[0m\u001b[0;32m   1052\u001b[0m         \u001b[1;32mreturn\u001b[0m \u001b[0mself\u001b[0m\u001b[1;33m.\u001b[0m\u001b[0mindex\u001b[0m\u001b[1;33m.\u001b[0m\u001b[0m_get_values_for_loc\u001b[0m\u001b[1;33m(\u001b[0m\u001b[0mself\u001b[0m\u001b[1;33m,\u001b[0m \u001b[0mloc\u001b[0m\u001b[1;33m,\u001b[0m \u001b[0mlabel\u001b[0m\u001b[1;33m)\u001b[0m\u001b[1;33m\u001b[0m\u001b[1;33m\u001b[0m\u001b[0m\n\u001b[0;32m   1053\u001b[0m \u001b[1;33m\u001b[0m\u001b[0m\n",
      "\u001b[1;32m~\\anaconda3\\lib\\site-packages\\pandas\\core\\indexes\\multi.py\u001b[0m in \u001b[0;36mget_loc\u001b[1;34m(self, key, method)\u001b[0m\n\u001b[0;32m   2920\u001b[0m \u001b[1;33m\u001b[0m\u001b[0m\n\u001b[0;32m   2921\u001b[0m         \u001b[1;32mif\u001b[0m \u001b[1;32mnot\u001b[0m \u001b[0misinstance\u001b[0m\u001b[1;33m(\u001b[0m\u001b[0mkey\u001b[0m\u001b[1;33m,\u001b[0m \u001b[0mtuple\u001b[0m\u001b[1;33m)\u001b[0m\u001b[1;33m:\u001b[0m\u001b[1;33m\u001b[0m\u001b[1;33m\u001b[0m\u001b[0m\n\u001b[1;32m-> 2922\u001b[1;33m             \u001b[0mloc\u001b[0m \u001b[1;33m=\u001b[0m \u001b[0mself\u001b[0m\u001b[1;33m.\u001b[0m\u001b[0m_get_level_indexer\u001b[0m\u001b[1;33m(\u001b[0m\u001b[0mkey\u001b[0m\u001b[1;33m,\u001b[0m \u001b[0mlevel\u001b[0m\u001b[1;33m=\u001b[0m\u001b[1;36m0\u001b[0m\u001b[1;33m)\u001b[0m\u001b[1;33m\u001b[0m\u001b[1;33m\u001b[0m\u001b[0m\n\u001b[0m\u001b[0;32m   2923\u001b[0m             \u001b[1;32mreturn\u001b[0m \u001b[0m_maybe_to_slice\u001b[0m\u001b[1;33m(\u001b[0m\u001b[0mloc\u001b[0m\u001b[1;33m)\u001b[0m\u001b[1;33m\u001b[0m\u001b[1;33m\u001b[0m\u001b[0m\n\u001b[0;32m   2924\u001b[0m \u001b[1;33m\u001b[0m\u001b[0m\n",
      "\u001b[1;32m~\\anaconda3\\lib\\site-packages\\pandas\\core\\indexes\\multi.py\u001b[0m in \u001b[0;36m_get_level_indexer\u001b[1;34m(self, key, level, indexer)\u001b[0m\n\u001b[0;32m   3202\u001b[0m         \u001b[1;32melse\u001b[0m\u001b[1;33m:\u001b[0m\u001b[1;33m\u001b[0m\u001b[1;33m\u001b[0m\u001b[0m\n\u001b[0;32m   3203\u001b[0m \u001b[1;33m\u001b[0m\u001b[0m\n\u001b[1;32m-> 3204\u001b[1;33m             \u001b[0midx\u001b[0m \u001b[1;33m=\u001b[0m \u001b[0mself\u001b[0m\u001b[1;33m.\u001b[0m\u001b[0m_get_loc_single_level_index\u001b[0m\u001b[1;33m(\u001b[0m\u001b[0mlevel_index\u001b[0m\u001b[1;33m,\u001b[0m \u001b[0mkey\u001b[0m\u001b[1;33m)\u001b[0m\u001b[1;33m\u001b[0m\u001b[1;33m\u001b[0m\u001b[0m\n\u001b[0m\u001b[0;32m   3205\u001b[0m \u001b[1;33m\u001b[0m\u001b[0m\n\u001b[0;32m   3206\u001b[0m             \u001b[1;32mif\u001b[0m \u001b[0mlevel\u001b[0m \u001b[1;33m>\u001b[0m \u001b[1;36m0\u001b[0m \u001b[1;32mor\u001b[0m \u001b[0mself\u001b[0m\u001b[1;33m.\u001b[0m\u001b[0m_lexsort_depth\u001b[0m \u001b[1;33m==\u001b[0m \u001b[1;36m0\u001b[0m\u001b[1;33m:\u001b[0m\u001b[1;33m\u001b[0m\u001b[1;33m\u001b[0m\u001b[0m\n",
      "\u001b[1;32m~\\anaconda3\\lib\\site-packages\\pandas\\core\\indexes\\multi.py\u001b[0m in \u001b[0;36m_get_loc_single_level_index\u001b[1;34m(self, level_index, key)\u001b[0m\n\u001b[0;32m   2853\u001b[0m             \u001b[1;32mreturn\u001b[0m \u001b[1;33m-\u001b[0m\u001b[1;36m1\u001b[0m\u001b[1;33m\u001b[0m\u001b[1;33m\u001b[0m\u001b[0m\n\u001b[0;32m   2854\u001b[0m         \u001b[1;32melse\u001b[0m\u001b[1;33m:\u001b[0m\u001b[1;33m\u001b[0m\u001b[1;33m\u001b[0m\u001b[0m\n\u001b[1;32m-> 2855\u001b[1;33m             \u001b[1;32mreturn\u001b[0m \u001b[0mlevel_index\u001b[0m\u001b[1;33m.\u001b[0m\u001b[0mget_loc\u001b[0m\u001b[1;33m(\u001b[0m\u001b[0mkey\u001b[0m\u001b[1;33m)\u001b[0m\u001b[1;33m\u001b[0m\u001b[1;33m\u001b[0m\u001b[0m\n\u001b[0m\u001b[0;32m   2856\u001b[0m \u001b[1;33m\u001b[0m\u001b[0m\n\u001b[0;32m   2857\u001b[0m     \u001b[1;32mdef\u001b[0m \u001b[0mget_loc\u001b[0m\u001b[1;33m(\u001b[0m\u001b[0mself\u001b[0m\u001b[1;33m,\u001b[0m \u001b[0mkey\u001b[0m\u001b[1;33m,\u001b[0m \u001b[0mmethod\u001b[0m\u001b[1;33m=\u001b[0m\u001b[1;32mNone\u001b[0m\u001b[1;33m)\u001b[0m\u001b[1;33m:\u001b[0m\u001b[1;33m\u001b[0m\u001b[1;33m\u001b[0m\u001b[0m\n",
      "\u001b[1;32m~\\anaconda3\\lib\\site-packages\\pandas\\core\\indexes\\base.py\u001b[0m in \u001b[0;36mget_loc\u001b[1;34m(self, key, method, tolerance)\u001b[0m\n\u001b[0;32m   3361\u001b[0m                 \u001b[1;32mreturn\u001b[0m \u001b[0mself\u001b[0m\u001b[1;33m.\u001b[0m\u001b[0m_engine\u001b[0m\u001b[1;33m.\u001b[0m\u001b[0mget_loc\u001b[0m\u001b[1;33m(\u001b[0m\u001b[0mcasted_key\u001b[0m\u001b[1;33m)\u001b[0m\u001b[1;33m\u001b[0m\u001b[1;33m\u001b[0m\u001b[0m\n\u001b[0;32m   3362\u001b[0m             \u001b[1;32mexcept\u001b[0m \u001b[0mKeyError\u001b[0m \u001b[1;32mas\u001b[0m \u001b[0merr\u001b[0m\u001b[1;33m:\u001b[0m\u001b[1;33m\u001b[0m\u001b[1;33m\u001b[0m\u001b[0m\n\u001b[1;32m-> 3363\u001b[1;33m                 \u001b[1;32mraise\u001b[0m \u001b[0mKeyError\u001b[0m\u001b[1;33m(\u001b[0m\u001b[0mkey\u001b[0m\u001b[1;33m)\u001b[0m \u001b[1;32mfrom\u001b[0m \u001b[0merr\u001b[0m\u001b[1;33m\u001b[0m\u001b[1;33m\u001b[0m\u001b[0m\n\u001b[0m\u001b[0;32m   3364\u001b[0m \u001b[1;33m\u001b[0m\u001b[0m\n\u001b[0;32m   3365\u001b[0m         \u001b[1;32mif\u001b[0m \u001b[0mis_scalar\u001b[0m\u001b[1;33m(\u001b[0m\u001b[0mkey\u001b[0m\u001b[1;33m)\u001b[0m \u001b[1;32mand\u001b[0m \u001b[0misna\u001b[0m\u001b[1;33m(\u001b[0m\u001b[0mkey\u001b[0m\u001b[1;33m)\u001b[0m \u001b[1;32mand\u001b[0m \u001b[1;32mnot\u001b[0m \u001b[0mself\u001b[0m\u001b[1;33m.\u001b[0m\u001b[0mhasnans\u001b[0m\u001b[1;33m:\u001b[0m\u001b[1;33m\u001b[0m\u001b[1;33m\u001b[0m\u001b[0m\n",
      "\u001b[1;31mKeyError\u001b[0m: False"
     ]
    }
   ],
   "source": [
    "percentageofbalcony = percentageofbalcony.drop(percentageofbalcony[\"balcony\"==True].index)"
   ]
  },
  {
   "cell_type": "code",
   "execution_count": 144,
   "metadata": {},
   "outputs": [
    {
     "data": {
      "text/plain": [
       "Series([], Name: balcony, dtype: float64)"
      ]
     },
     "execution_count": 144,
     "metadata": {},
     "output_type": "execute_result"
    }
   ],
   "source": [
    "percentageoftruebalcony= percentageofbalcony.filter(items=[\"balcony\"==True])\n",
    "percentageoftruebalcony"
   ]
  },
  {
   "cell_type": "code",
   "execution_count": 134,
   "metadata": {},
   "outputs": [
    {
     "ename": "KeyError",
     "evalue": "False",
     "output_type": "error",
     "traceback": [
      "\u001b[1;31m---------------------------------------------------------------------------\u001b[0m",
      "\u001b[1;31mKeyError\u001b[0m                                  Traceback (most recent call last)",
      "\u001b[1;32m~\\anaconda3\\lib\\site-packages\\pandas\\core\\indexes\\base.py\u001b[0m in \u001b[0;36mget_loc\u001b[1;34m(self, key, method, tolerance)\u001b[0m\n\u001b[0;32m   3360\u001b[0m             \u001b[1;32mtry\u001b[0m\u001b[1;33m:\u001b[0m\u001b[1;33m\u001b[0m\u001b[1;33m\u001b[0m\u001b[0m\n\u001b[1;32m-> 3361\u001b[1;33m                 \u001b[1;32mreturn\u001b[0m \u001b[0mself\u001b[0m\u001b[1;33m.\u001b[0m\u001b[0m_engine\u001b[0m\u001b[1;33m.\u001b[0m\u001b[0mget_loc\u001b[0m\u001b[1;33m(\u001b[0m\u001b[0mcasted_key\u001b[0m\u001b[1;33m)\u001b[0m\u001b[1;33m\u001b[0m\u001b[1;33m\u001b[0m\u001b[0m\n\u001b[0m\u001b[0;32m   3362\u001b[0m             \u001b[1;32mexcept\u001b[0m \u001b[0mKeyError\u001b[0m \u001b[1;32mas\u001b[0m \u001b[0merr\u001b[0m\u001b[1;33m:\u001b[0m\u001b[1;33m\u001b[0m\u001b[1;33m\u001b[0m\u001b[0m\n",
      "\u001b[1;32m~\\anaconda3\\lib\\site-packages\\pandas\\_libs\\index.pyx\u001b[0m in \u001b[0;36mpandas._libs.index.IndexEngine.get_loc\u001b[1;34m()\u001b[0m\n",
      "\u001b[1;32m~\\anaconda3\\lib\\site-packages\\pandas\\_libs\\index.pyx\u001b[0m in \u001b[0;36mpandas._libs.index.IndexEngine.get_loc\u001b[1;34m()\u001b[0m\n",
      "\u001b[1;32mpandas\\_libs\\hashtable_class_helper.pxi\u001b[0m in \u001b[0;36mpandas._libs.hashtable.PyObjectHashTable.get_item\u001b[1;34m()\u001b[0m\n",
      "\u001b[1;32mpandas\\_libs\\hashtable_class_helper.pxi\u001b[0m in \u001b[0;36mpandas._libs.hashtable.PyObjectHashTable.get_item\u001b[1;34m()\u001b[0m\n",
      "\u001b[1;31mKeyError\u001b[0m: False",
      "\nThe above exception was the direct cause of the following exception:\n",
      "\u001b[1;31mKeyError\u001b[0m                                  Traceback (most recent call last)",
      "\u001b[1;32m~\\AppData\\Local\\Temp/ipykernel_10292/3487971524.py\u001b[0m in \u001b[0;36m<module>\u001b[1;34m\u001b[0m\n\u001b[0;32m      1\u001b[0m \u001b[0mfilt_balcony\u001b[0m\u001b[1;33m=\u001b[0m\u001b[1;33m(\u001b[0m\u001b[0mapp_city\u001b[0m\u001b[1;33m[\u001b[0m\u001b[1;34m\"balcony\"\u001b[0m\u001b[1;33m]\u001b[0m\u001b[1;33m==\u001b[0m\u001b[1;32mTrue\u001b[0m\u001b[1;33m)\u001b[0m\u001b[1;33m\u001b[0m\u001b[1;33m\u001b[0m\u001b[0m\n\u001b[0;32m      2\u001b[0m \u001b[1;33m\u001b[0m\u001b[0m\n\u001b[1;32m----> 3\u001b[1;33m \u001b[0mpercentageofbalcony\u001b[0m\u001b[1;33m[\u001b[0m\u001b[0mfilt_balcony\u001b[0m\u001b[1;33m]\u001b[0m\u001b[1;33m\u001b[0m\u001b[1;33m\u001b[0m\u001b[0m\n\u001b[0m",
      "\u001b[1;32m~\\anaconda3\\lib\\site-packages\\pandas\\core\\series.py\u001b[0m in \u001b[0;36m__getitem__\u001b[1;34m(self, key)\u001b[0m\n\u001b[0;32m    940\u001b[0m \u001b[1;33m\u001b[0m\u001b[0m\n\u001b[0;32m    941\u001b[0m         \u001b[1;32melif\u001b[0m \u001b[0mkey_is_scalar\u001b[0m\u001b[1;33m:\u001b[0m\u001b[1;33m\u001b[0m\u001b[1;33m\u001b[0m\u001b[0m\n\u001b[1;32m--> 942\u001b[1;33m             \u001b[1;32mreturn\u001b[0m \u001b[0mself\u001b[0m\u001b[1;33m.\u001b[0m\u001b[0m_get_value\u001b[0m\u001b[1;33m(\u001b[0m\u001b[0mkey\u001b[0m\u001b[1;33m)\u001b[0m\u001b[1;33m\u001b[0m\u001b[1;33m\u001b[0m\u001b[0m\n\u001b[0m\u001b[0;32m    943\u001b[0m \u001b[1;33m\u001b[0m\u001b[0m\n\u001b[0;32m    944\u001b[0m         \u001b[1;32mif\u001b[0m \u001b[0mis_hashable\u001b[0m\u001b[1;33m(\u001b[0m\u001b[0mkey\u001b[0m\u001b[1;33m)\u001b[0m\u001b[1;33m:\u001b[0m\u001b[1;33m\u001b[0m\u001b[1;33m\u001b[0m\u001b[0m\n",
      "\u001b[1;32m~\\anaconda3\\lib\\site-packages\\pandas\\core\\series.py\u001b[0m in \u001b[0;36m_get_value\u001b[1;34m(self, label, takeable)\u001b[0m\n\u001b[0;32m   1049\u001b[0m \u001b[1;33m\u001b[0m\u001b[0m\n\u001b[0;32m   1050\u001b[0m         \u001b[1;31m# Similar to Index.get_value, but we do not fall back to positional\u001b[0m\u001b[1;33m\u001b[0m\u001b[1;33m\u001b[0m\u001b[0m\n\u001b[1;32m-> 1051\u001b[1;33m         \u001b[0mloc\u001b[0m \u001b[1;33m=\u001b[0m \u001b[0mself\u001b[0m\u001b[1;33m.\u001b[0m\u001b[0mindex\u001b[0m\u001b[1;33m.\u001b[0m\u001b[0mget_loc\u001b[0m\u001b[1;33m(\u001b[0m\u001b[0mlabel\u001b[0m\u001b[1;33m)\u001b[0m\u001b[1;33m\u001b[0m\u001b[1;33m\u001b[0m\u001b[0m\n\u001b[0m\u001b[0;32m   1052\u001b[0m         \u001b[1;32mreturn\u001b[0m \u001b[0mself\u001b[0m\u001b[1;33m.\u001b[0m\u001b[0mindex\u001b[0m\u001b[1;33m.\u001b[0m\u001b[0m_get_values_for_loc\u001b[0m\u001b[1;33m(\u001b[0m\u001b[0mself\u001b[0m\u001b[1;33m,\u001b[0m \u001b[0mloc\u001b[0m\u001b[1;33m,\u001b[0m \u001b[0mlabel\u001b[0m\u001b[1;33m)\u001b[0m\u001b[1;33m\u001b[0m\u001b[1;33m\u001b[0m\u001b[0m\n\u001b[0;32m   1053\u001b[0m \u001b[1;33m\u001b[0m\u001b[0m\n",
      "\u001b[1;32m~\\anaconda3\\lib\\site-packages\\pandas\\core\\indexes\\multi.py\u001b[0m in \u001b[0;36mget_loc\u001b[1;34m(self, key, method)\u001b[0m\n\u001b[0;32m   2920\u001b[0m \u001b[1;33m\u001b[0m\u001b[0m\n\u001b[0;32m   2921\u001b[0m         \u001b[1;32mif\u001b[0m \u001b[1;32mnot\u001b[0m \u001b[0misinstance\u001b[0m\u001b[1;33m(\u001b[0m\u001b[0mkey\u001b[0m\u001b[1;33m,\u001b[0m \u001b[0mtuple\u001b[0m\u001b[1;33m)\u001b[0m\u001b[1;33m:\u001b[0m\u001b[1;33m\u001b[0m\u001b[1;33m\u001b[0m\u001b[0m\n\u001b[1;32m-> 2922\u001b[1;33m             \u001b[0mloc\u001b[0m \u001b[1;33m=\u001b[0m \u001b[0mself\u001b[0m\u001b[1;33m.\u001b[0m\u001b[0m_get_level_indexer\u001b[0m\u001b[1;33m(\u001b[0m\u001b[0mkey\u001b[0m\u001b[1;33m,\u001b[0m \u001b[0mlevel\u001b[0m\u001b[1;33m=\u001b[0m\u001b[1;36m0\u001b[0m\u001b[1;33m)\u001b[0m\u001b[1;33m\u001b[0m\u001b[1;33m\u001b[0m\u001b[0m\n\u001b[0m\u001b[0;32m   2923\u001b[0m             \u001b[1;32mreturn\u001b[0m \u001b[0m_maybe_to_slice\u001b[0m\u001b[1;33m(\u001b[0m\u001b[0mloc\u001b[0m\u001b[1;33m)\u001b[0m\u001b[1;33m\u001b[0m\u001b[1;33m\u001b[0m\u001b[0m\n\u001b[0;32m   2924\u001b[0m \u001b[1;33m\u001b[0m\u001b[0m\n",
      "\u001b[1;32m~\\anaconda3\\lib\\site-packages\\pandas\\core\\indexes\\multi.py\u001b[0m in \u001b[0;36m_get_level_indexer\u001b[1;34m(self, key, level, indexer)\u001b[0m\n\u001b[0;32m   3202\u001b[0m         \u001b[1;32melse\u001b[0m\u001b[1;33m:\u001b[0m\u001b[1;33m\u001b[0m\u001b[1;33m\u001b[0m\u001b[0m\n\u001b[0;32m   3203\u001b[0m \u001b[1;33m\u001b[0m\u001b[0m\n\u001b[1;32m-> 3204\u001b[1;33m             \u001b[0midx\u001b[0m \u001b[1;33m=\u001b[0m \u001b[0mself\u001b[0m\u001b[1;33m.\u001b[0m\u001b[0m_get_loc_single_level_index\u001b[0m\u001b[1;33m(\u001b[0m\u001b[0mlevel_index\u001b[0m\u001b[1;33m,\u001b[0m \u001b[0mkey\u001b[0m\u001b[1;33m)\u001b[0m\u001b[1;33m\u001b[0m\u001b[1;33m\u001b[0m\u001b[0m\n\u001b[0m\u001b[0;32m   3205\u001b[0m \u001b[1;33m\u001b[0m\u001b[0m\n\u001b[0;32m   3206\u001b[0m             \u001b[1;32mif\u001b[0m \u001b[0mlevel\u001b[0m \u001b[1;33m>\u001b[0m \u001b[1;36m0\u001b[0m \u001b[1;32mor\u001b[0m \u001b[0mself\u001b[0m\u001b[1;33m.\u001b[0m\u001b[0m_lexsort_depth\u001b[0m \u001b[1;33m==\u001b[0m \u001b[1;36m0\u001b[0m\u001b[1;33m:\u001b[0m\u001b[1;33m\u001b[0m\u001b[1;33m\u001b[0m\u001b[0m\n",
      "\u001b[1;32m~\\anaconda3\\lib\\site-packages\\pandas\\core\\indexes\\multi.py\u001b[0m in \u001b[0;36m_get_loc_single_level_index\u001b[1;34m(self, level_index, key)\u001b[0m\n\u001b[0;32m   2853\u001b[0m             \u001b[1;32mreturn\u001b[0m \u001b[1;33m-\u001b[0m\u001b[1;36m1\u001b[0m\u001b[1;33m\u001b[0m\u001b[1;33m\u001b[0m\u001b[0m\n\u001b[0;32m   2854\u001b[0m         \u001b[1;32melse\u001b[0m\u001b[1;33m:\u001b[0m\u001b[1;33m\u001b[0m\u001b[1;33m\u001b[0m\u001b[0m\n\u001b[1;32m-> 2855\u001b[1;33m             \u001b[1;32mreturn\u001b[0m \u001b[0mlevel_index\u001b[0m\u001b[1;33m.\u001b[0m\u001b[0mget_loc\u001b[0m\u001b[1;33m(\u001b[0m\u001b[0mkey\u001b[0m\u001b[1;33m)\u001b[0m\u001b[1;33m\u001b[0m\u001b[1;33m\u001b[0m\u001b[0m\n\u001b[0m\u001b[0;32m   2856\u001b[0m \u001b[1;33m\u001b[0m\u001b[0m\n\u001b[0;32m   2857\u001b[0m     \u001b[1;32mdef\u001b[0m \u001b[0mget_loc\u001b[0m\u001b[1;33m(\u001b[0m\u001b[0mself\u001b[0m\u001b[1;33m,\u001b[0m \u001b[0mkey\u001b[0m\u001b[1;33m,\u001b[0m \u001b[0mmethod\u001b[0m\u001b[1;33m=\u001b[0m\u001b[1;32mNone\u001b[0m\u001b[1;33m)\u001b[0m\u001b[1;33m:\u001b[0m\u001b[1;33m\u001b[0m\u001b[1;33m\u001b[0m\u001b[0m\n",
      "\u001b[1;32m~\\anaconda3\\lib\\site-packages\\pandas\\core\\indexes\\base.py\u001b[0m in \u001b[0;36mget_loc\u001b[1;34m(self, key, method, tolerance)\u001b[0m\n\u001b[0;32m   3361\u001b[0m                 \u001b[1;32mreturn\u001b[0m \u001b[0mself\u001b[0m\u001b[1;33m.\u001b[0m\u001b[0m_engine\u001b[0m\u001b[1;33m.\u001b[0m\u001b[0mget_loc\u001b[0m\u001b[1;33m(\u001b[0m\u001b[0mcasted_key\u001b[0m\u001b[1;33m)\u001b[0m\u001b[1;33m\u001b[0m\u001b[1;33m\u001b[0m\u001b[0m\n\u001b[0;32m   3362\u001b[0m             \u001b[1;32mexcept\u001b[0m \u001b[0mKeyError\u001b[0m \u001b[1;32mas\u001b[0m \u001b[0merr\u001b[0m\u001b[1;33m:\u001b[0m\u001b[1;33m\u001b[0m\u001b[1;33m\u001b[0m\u001b[0m\n\u001b[1;32m-> 3363\u001b[1;33m                 \u001b[1;32mraise\u001b[0m \u001b[0mKeyError\u001b[0m\u001b[1;33m(\u001b[0m\u001b[0mkey\u001b[0m\u001b[1;33m)\u001b[0m \u001b[1;32mfrom\u001b[0m \u001b[0merr\u001b[0m\u001b[1;33m\u001b[0m\u001b[1;33m\u001b[0m\u001b[0m\n\u001b[0m\u001b[0;32m   3364\u001b[0m \u001b[1;33m\u001b[0m\u001b[0m\n\u001b[0;32m   3365\u001b[0m         \u001b[1;32mif\u001b[0m \u001b[0mis_scalar\u001b[0m\u001b[1;33m(\u001b[0m\u001b[0mkey\u001b[0m\u001b[1;33m)\u001b[0m \u001b[1;32mand\u001b[0m \u001b[0misna\u001b[0m\u001b[1;33m(\u001b[0m\u001b[0mkey\u001b[0m\u001b[1;33m)\u001b[0m \u001b[1;32mand\u001b[0m \u001b[1;32mnot\u001b[0m \u001b[0mself\u001b[0m\u001b[1;33m.\u001b[0m\u001b[0mhasnans\u001b[0m\u001b[1;33m:\u001b[0m\u001b[1;33m\u001b[0m\u001b[1;33m\u001b[0m\u001b[0m\n",
      "\u001b[1;31mKeyError\u001b[0m: False"
     ]
    }
   ],
   "source": [
    "filt_balcony=(app_city[\"balcony\"]==True)\n",
    "\n",
    "percentageofbalcony[filt_balcony]"
   ]
  },
  {
   "cell_type": "code",
   "execution_count": 162,
   "metadata": {},
   "outputs": [
    {
     "ename": "ValueError",
     "evalue": "len(left_on) must equal the number of levels in the index of \"right\"",
     "output_type": "error",
     "traceback": [
      "\u001b[1;31m---------------------------------------------------------------------------\u001b[0m",
      "\u001b[1;31mValueError\u001b[0m                                Traceback (most recent call last)",
      "\u001b[1;32m~\\AppData\\Local\\Temp/ipykernel_10292/1556367660.py\u001b[0m in \u001b[0;36m<module>\u001b[1;34m\u001b[0m\n\u001b[0;32m      1\u001b[0m \u001b[1;31m#We merge the percentageofbalcony to the uni_cities DataFrame as new column\u001b[0m\u001b[1;33m\u001b[0m\u001b[1;33m\u001b[0m\u001b[0m\n\u001b[1;32m----> 2\u001b[1;33m \u001b[0muni_cities\u001b[0m\u001b[1;33m.\u001b[0m\u001b[0mmerge\u001b[0m\u001b[1;33m(\u001b[0m\u001b[0mpercentageofbalcony\u001b[0m\u001b[1;33m,\u001b[0m \u001b[0mright_index\u001b[0m\u001b[1;33m=\u001b[0m\u001b[1;32mTrue\u001b[0m\u001b[1;33m,\u001b[0m \u001b[0mleft_on\u001b[0m\u001b[1;33m=\u001b[0m\u001b[1;34m\"city\"\u001b[0m\u001b[1;33m,\u001b[0m \u001b[0mhow\u001b[0m\u001b[1;33m=\u001b[0m\u001b[1;34m\"left\"\u001b[0m\u001b[1;33m)\u001b[0m\u001b[1;33m\u001b[0m\u001b[1;33m\u001b[0m\u001b[0m\n\u001b[0m",
      "\u001b[1;32m~\\anaconda3\\lib\\site-packages\\pandas\\core\\frame.py\u001b[0m in \u001b[0;36mmerge\u001b[1;34m(self, right, how, on, left_on, right_on, left_index, right_index, sort, suffixes, copy, indicator, validate)\u001b[0m\n\u001b[0;32m   9188\u001b[0m         \u001b[1;32mfrom\u001b[0m \u001b[0mpandas\u001b[0m\u001b[1;33m.\u001b[0m\u001b[0mcore\u001b[0m\u001b[1;33m.\u001b[0m\u001b[0mreshape\u001b[0m\u001b[1;33m.\u001b[0m\u001b[0mmerge\u001b[0m \u001b[1;32mimport\u001b[0m \u001b[0mmerge\u001b[0m\u001b[1;33m\u001b[0m\u001b[1;33m\u001b[0m\u001b[0m\n\u001b[0;32m   9189\u001b[0m \u001b[1;33m\u001b[0m\u001b[0m\n\u001b[1;32m-> 9190\u001b[1;33m         return merge(\n\u001b[0m\u001b[0;32m   9191\u001b[0m             \u001b[0mself\u001b[0m\u001b[1;33m,\u001b[0m\u001b[1;33m\u001b[0m\u001b[1;33m\u001b[0m\u001b[0m\n\u001b[0;32m   9192\u001b[0m             \u001b[0mright\u001b[0m\u001b[1;33m,\u001b[0m\u001b[1;33m\u001b[0m\u001b[1;33m\u001b[0m\u001b[0m\n",
      "\u001b[1;32m~\\anaconda3\\lib\\site-packages\\pandas\\core\\reshape\\merge.py\u001b[0m in \u001b[0;36mmerge\u001b[1;34m(left, right, how, on, left_on, right_on, left_index, right_index, sort, suffixes, copy, indicator, validate)\u001b[0m\n\u001b[0;32m    104\u001b[0m     \u001b[0mvalidate\u001b[0m\u001b[1;33m:\u001b[0m \u001b[0mstr\u001b[0m \u001b[1;33m|\u001b[0m \u001b[1;32mNone\u001b[0m \u001b[1;33m=\u001b[0m \u001b[1;32mNone\u001b[0m\u001b[1;33m,\u001b[0m\u001b[1;33m\u001b[0m\u001b[1;33m\u001b[0m\u001b[0m\n\u001b[0;32m    105\u001b[0m ) -> DataFrame:\n\u001b[1;32m--> 106\u001b[1;33m     op = _MergeOperation(\n\u001b[0m\u001b[0;32m    107\u001b[0m         \u001b[0mleft\u001b[0m\u001b[1;33m,\u001b[0m\u001b[1;33m\u001b[0m\u001b[1;33m\u001b[0m\u001b[0m\n\u001b[0;32m    108\u001b[0m         \u001b[0mright\u001b[0m\u001b[1;33m,\u001b[0m\u001b[1;33m\u001b[0m\u001b[1;33m\u001b[0m\u001b[0m\n",
      "\u001b[1;32m~\\anaconda3\\lib\\site-packages\\pandas\\core\\reshape\\merge.py\u001b[0m in \u001b[0;36m__init__\u001b[1;34m(self, left, right, how, on, left_on, right_on, axis, left_index, right_index, sort, suffixes, copy, indicator, validate)\u001b[0m\n\u001b[0;32m    679\u001b[0m             \u001b[0mwarnings\u001b[0m\u001b[1;33m.\u001b[0m\u001b[0mwarn\u001b[0m\u001b[1;33m(\u001b[0m\u001b[0mmsg\u001b[0m\u001b[1;33m,\u001b[0m \u001b[0mFutureWarning\u001b[0m\u001b[1;33m,\u001b[0m \u001b[0mstacklevel\u001b[0m\u001b[1;33m=\u001b[0m\u001b[1;36m3\u001b[0m\u001b[1;33m)\u001b[0m\u001b[1;33m\u001b[0m\u001b[1;33m\u001b[0m\u001b[0m\n\u001b[0;32m    680\u001b[0m \u001b[1;33m\u001b[0m\u001b[0m\n\u001b[1;32m--> 681\u001b[1;33m         \u001b[0mself\u001b[0m\u001b[1;33m.\u001b[0m\u001b[0m_validate_specification\u001b[0m\u001b[1;33m(\u001b[0m\u001b[1;33m)\u001b[0m\u001b[1;33m\u001b[0m\u001b[1;33m\u001b[0m\u001b[0m\n\u001b[0m\u001b[0;32m    682\u001b[0m \u001b[1;33m\u001b[0m\u001b[0m\n\u001b[0;32m    683\u001b[0m         \u001b[0mcross_col\u001b[0m \u001b[1;33m=\u001b[0m \u001b[1;32mNone\u001b[0m\u001b[1;33m\u001b[0m\u001b[1;33m\u001b[0m\u001b[0m\n",
      "\u001b[1;32m~\\anaconda3\\lib\\site-packages\\pandas\\core\\reshape\\merge.py\u001b[0m in \u001b[0;36m_validate_specification\u001b[1;34m(self)\u001b[0m\n\u001b[0;32m   1379\u001b[0m             \u001b[1;32mif\u001b[0m \u001b[0mself\u001b[0m\u001b[1;33m.\u001b[0m\u001b[0mright_index\u001b[0m\u001b[1;33m:\u001b[0m\u001b[1;33m\u001b[0m\u001b[1;33m\u001b[0m\u001b[0m\n\u001b[0;32m   1380\u001b[0m                 \u001b[1;32mif\u001b[0m \u001b[0mlen\u001b[0m\u001b[1;33m(\u001b[0m\u001b[0mself\u001b[0m\u001b[1;33m.\u001b[0m\u001b[0mleft_on\u001b[0m\u001b[1;33m)\u001b[0m \u001b[1;33m!=\u001b[0m \u001b[0mself\u001b[0m\u001b[1;33m.\u001b[0m\u001b[0mright\u001b[0m\u001b[1;33m.\u001b[0m\u001b[0mindex\u001b[0m\u001b[1;33m.\u001b[0m\u001b[0mnlevels\u001b[0m\u001b[1;33m:\u001b[0m\u001b[1;33m\u001b[0m\u001b[1;33m\u001b[0m\u001b[0m\n\u001b[1;32m-> 1381\u001b[1;33m                     raise ValueError(\n\u001b[0m\u001b[0;32m   1382\u001b[0m                         \u001b[1;34m\"len(left_on) must equal the number \"\u001b[0m\u001b[1;33m\u001b[0m\u001b[1;33m\u001b[0m\u001b[0m\n\u001b[0;32m   1383\u001b[0m                         \u001b[1;34m'of levels in the index of \"right\"'\u001b[0m\u001b[1;33m\u001b[0m\u001b[1;33m\u001b[0m\u001b[0m\n",
      "\u001b[1;31mValueError\u001b[0m: len(left_on) must equal the number of levels in the index of \"right\""
     ]
    }
   ],
   "source": [
    "#We merge the percentageofbalcony to the uni_cities DataFrame as new column\n",
    "uni_cities.merge(percentageofbalcony, right_index=True, left_on=\"city\", how=\"left\")"
   ]
  },
  {
   "cell_type": "markdown",
   "metadata": {},
   "source": [
    "The mean base rent"
   ]
  },
  {
   "cell_type": "code",
   "execution_count": 38,
   "metadata": {},
   "outputs": [
    {
     "data": {
      "text/plain": [
       "regio2\n",
       "Aachen               632.835178\n",
       "Ahrweiler            649.028864\n",
       "Aichach Friedberg    874.308092\n",
       "Alb Donau            766.675130\n",
       "Altenburger Land     325.581940\n",
       "                        ...    \n",
       "Wuppertal            484.485008\n",
       "Würzburg             762.524601\n",
       "Zollernalbkreis      655.661486\n",
       "Zweibrücken          446.357143\n",
       "Zwickau              338.527671\n",
       "Name: baseRent, Length: 394, dtype: float64"
      ]
     },
     "execution_count": 38,
     "metadata": {},
     "output_type": "execute_result"
    }
   ],
   "source": [
    "#Here we save the grouping of the base rent by city as \"meanofbaseRent\"\n",
    "meanofbaseRent=app_city[\"baseRent\"].mean()\n",
    "meanofbaseRent"
   ]
  },
  {
   "cell_type": "code",
   "execution_count": 109,
   "metadata": {},
   "outputs": [],
   "source": [
    "#We merge the meanofbaseRent to the uni_cities DataFrame as new column\n",
    "uni_cities=uni_cities.merge(meanofbaseRent, right_index=True, left_on=\"city\", how=\"left\")"
   ]
  },
  {
   "cell_type": "markdown",
   "metadata": {},
   "source": [
    "The median base rent"
   ]
  },
  {
   "cell_type": "code",
   "execution_count": 40,
   "metadata": {},
   "outputs": [
    {
     "data": {
      "text/plain": [
       "regio2\n",
       "Aachen               570.0\n",
       "Ahrweiler            570.0\n",
       "Aichach Friedberg    795.0\n",
       "Alb Donau            750.0\n",
       "Altenburger Land     300.0\n",
       "                     ...  \n",
       "Wuppertal            420.0\n",
       "Würzburg             737.5\n",
       "Zollernalbkreis      650.0\n",
       "Zweibrücken          412.5\n",
       "Zwickau              301.0\n",
       "Name: baseRent, Length: 394, dtype: float64"
      ]
     },
     "execution_count": 40,
     "metadata": {},
     "output_type": "execute_result"
    }
   ],
   "source": [
    "#Here we save the grouping of the base Rent by city as \"medianofbaseRent\"\n",
    "medianofbaseRent=app_city[\"baseRent\"].median()\n",
    "medianofbaseRent"
   ]
  },
  {
   "cell_type": "code",
   "execution_count": 110,
   "metadata": {},
   "outputs": [],
   "source": [
    "#We merge the medianofbaseRent to the uni_cities DataFrame as new column\n",
    "uni_cities=uni_cities.merge(medianofbaseRent, right_index=True, left_on=\"city\", how=\"left\")"
   ]
  },
  {
   "cell_type": "markdown",
   "metadata": {},
   "source": [
    "The mean living space"
   ]
  },
  {
   "cell_type": "code",
   "execution_count": 42,
   "metadata": {},
   "outputs": [
    {
     "data": {
      "text/plain": [
       "regio2\n",
       "Aachen               72.709100\n",
       "Ahrweiler            83.978013\n",
       "Aichach Friedberg    88.872290\n",
       "Alb Donau            85.743368\n",
       "Altenburger Land     63.751907\n",
       "                       ...    \n",
       "Wuppertal            70.879882\n",
       "Würzburg             72.218859\n",
       "Zollernalbkreis      84.952432\n",
       "Zweibrücken          76.940000\n",
       "Zwickau              63.899057\n",
       "Name: livingSpace, Length: 394, dtype: float64"
      ]
     },
     "execution_count": 42,
     "metadata": {},
     "output_type": "execute_result"
    }
   ],
   "source": [
    "#Here we save the grouping of the living space by city as \"meanoflivingSpace\"\n",
    "meanoflivingSpace=app_city[\"livingSpace\"].mean()\n",
    "meanoflivingSpace"
   ]
  },
  {
   "cell_type": "code",
   "execution_count": 111,
   "metadata": {},
   "outputs": [],
   "source": [
    "#We merge the meanoflivingSpace to the uni_cities DataFrame as new column\n",
    "uni_cities=uni_cities.merge(meanoflivingSpace, right_index=True, left_on=\"city\", how=\"left\")"
   ]
  },
  {
   "cell_type": "markdown",
   "metadata": {},
   "source": [
    "The median living space"
   ]
  },
  {
   "cell_type": "code",
   "execution_count": 44,
   "metadata": {},
   "outputs": [
    {
     "data": {
      "text/plain": [
       "regio2\n",
       "Aachen               70.00\n",
       "Ahrweiler            78.00\n",
       "Aichach Friedberg    85.00\n",
       "Alb Donau            84.00\n",
       "Altenburger Land     60.60\n",
       "                     ...  \n",
       "Wuppertal            67.32\n",
       "Würzburg             70.00\n",
       "Zollernalbkreis      82.50\n",
       "Zweibrücken          77.50\n",
       "Zwickau              60.00\n",
       "Name: livingSpace, Length: 394, dtype: float64"
      ]
     },
     "execution_count": 44,
     "metadata": {},
     "output_type": "execute_result"
    }
   ],
   "source": [
    "#Here we save the grouping of living space by city as \"medianoflivingSpace\"\n",
    "medianoflivingSpace=app_city[\"livingSpace\"].median()\n",
    "medianoflivingSpace"
   ]
  },
  {
   "cell_type": "code",
   "execution_count": 112,
   "metadata": {},
   "outputs": [],
   "source": [
    "#We merge the medianoflivingSpace to the uni_cities DataFrame as new column\n",
    "uni_cities=uni_cities.merge(medianoflivingSpace, right_index=True, left_on=\"city\", how=\"left\")"
   ]
  },
  {
   "cell_type": "markdown",
   "metadata": {},
   "source": [
    "The mean no. of rooms"
   ]
  },
  {
   "cell_type": "code",
   "execution_count": 46,
   "metadata": {},
   "outputs": [
    {
     "data": {
      "text/plain": [
       "regio2\n",
       "Aachen               2.516520\n",
       "Ahrweiler            2.679811\n",
       "Aichach Friedberg    3.015267\n",
       "Alb Donau            3.023316\n",
       "Altenburger Land     2.506633\n",
       "                       ...   \n",
       "Wuppertal            2.493708\n",
       "Würzburg             2.463225\n",
       "Zollernalbkreis      2.979730\n",
       "Zweibrücken          2.690476\n",
       "Zwickau              2.457381\n",
       "Name: noRooms, Length: 394, dtype: float64"
      ]
     },
     "execution_count": 46,
     "metadata": {},
     "output_type": "execute_result"
    }
   ],
   "source": [
    "#Here we save the grouping of the no of rooms by city as \"noRooms\"\n",
    "meanofnoRooms=app_city[\"noRooms\"].mean()\n",
    "meanofnoRooms"
   ]
  },
  {
   "cell_type": "code",
   "execution_count": 113,
   "metadata": {},
   "outputs": [],
   "source": [
    "#We merge the meanofnoRooms to the uni_cities DataFrame as new column\n",
    "uni_cities=uni_cities.merge(meanofnoRooms, right_index=True, left_on=\"city\", how=\"left\")"
   ]
  },
  {
   "cell_type": "markdown",
   "metadata": {},
   "source": [
    "The median no. of rooms"
   ]
  },
  {
   "cell_type": "code",
   "execution_count": 48,
   "metadata": {},
   "outputs": [
    {
     "data": {
      "text/plain": [
       "regio2\n",
       "Aachen               2.5\n",
       "Ahrweiler            3.0\n",
       "Aichach Friedberg    3.0\n",
       "Alb Donau            3.0\n",
       "Altenburger Land     2.0\n",
       "                    ... \n",
       "Wuppertal            2.0\n",
       "Würzburg             2.5\n",
       "Zollernalbkreis      3.0\n",
       "Zweibrücken          3.0\n",
       "Zwickau              2.0\n",
       "Name: noRooms, Length: 394, dtype: float64"
      ]
     },
     "execution_count": 48,
     "metadata": {},
     "output_type": "execute_result"
    }
   ],
   "source": [
    "#Here we save the grouping of no of rooms by city as \"medianofnoRooms\"\n",
    "medianofnoRooms=app_city[\"noRooms\"].median()\n",
    "medianofnoRooms"
   ]
  },
  {
   "cell_type": "code",
   "execution_count": 114,
   "metadata": {},
   "outputs": [],
   "source": [
    "#We merge the medianofnoRooms to the uni_cities DataFrame as new column\n",
    "uni_cities=uni_cities.merge(medianofnoRooms, right_index=True, left_on=\"city\", how=\"left\")"
   ]
  },
  {
   "cell_type": "code",
   "execution_count": 44,
   "metadata": {},
   "outputs": [],
   "source": [
    " ## Percentage of hasKitchen"
   ]
  },
  {
   "cell_type": "code",
   "execution_count": 47,
   "metadata": {},
   "outputs": [],
   "source": [
    "#Here we save the percentages for appartments containing a kitchen as \"percentageofhasKitchen\"\n",
    "percentageofhasKitchen = app_city['hasKitchen'].value_counts(normalize=True)"
   ]
  },
  {
   "cell_type": "code",
   "execution_count": 115,
   "metadata": {},
   "outputs": [
    {
     "ename": "NameError",
     "evalue": "name 'percentageofhasKitchen' is not defined",
     "output_type": "error",
     "traceback": [
      "\u001b[1;31m---------------------------------------------------------------------------\u001b[0m",
      "\u001b[1;31mNameError\u001b[0m                                 Traceback (most recent call last)",
      "\u001b[1;32m~\\AppData\\Local\\Temp/ipykernel_10292/1962983279.py\u001b[0m in \u001b[0;36m<module>\u001b[1;34m\u001b[0m\n\u001b[0;32m      1\u001b[0m \u001b[1;31m#We merge the percentageofhasKitchen to the uni_cities DataFrame as new column\u001b[0m\u001b[1;33m\u001b[0m\u001b[1;33m\u001b[0m\u001b[0m\n\u001b[1;32m----> 2\u001b[1;33m \u001b[0muni_cities\u001b[0m\u001b[1;33m=\u001b[0m\u001b[0muni_cities\u001b[0m\u001b[1;33m.\u001b[0m\u001b[0mmerge\u001b[0m\u001b[1;33m(\u001b[0m\u001b[0mpercentageofhasKitchen\u001b[0m\u001b[1;33m,\u001b[0m \u001b[0mright_index\u001b[0m\u001b[1;33m=\u001b[0m\u001b[1;32mTrue\u001b[0m\u001b[1;33m,\u001b[0m \u001b[0mleft_on\u001b[0m\u001b[1;33m=\u001b[0m\u001b[1;34m\"city\"\u001b[0m\u001b[1;33m,\u001b[0m \u001b[0mhow\u001b[0m\u001b[1;33m=\u001b[0m\u001b[1;34m\"left\"\u001b[0m\u001b[1;33m)\u001b[0m\u001b[1;33m\u001b[0m\u001b[1;33m\u001b[0m\u001b[0m\n\u001b[0m",
      "\u001b[1;31mNameError\u001b[0m: name 'percentageofhasKitchen' is not defined"
     ]
    }
   ],
   "source": [
    "#We merge the percentageofhasKitchen to the uni_cities DataFrame as new column\n",
    "uni_cities=uni_cities.merge(percentageofhasKitchen, right_index=True, left_on=\"city\", how=\"left\")"
   ]
  },
  {
   "cell_type": "code",
   "execution_count": null,
   "metadata": {},
   "outputs": [],
   "source": [
    "## Percentage of cellar"
   ]
  },
  {
   "cell_type": "code",
   "execution_count": 119,
   "metadata": {},
   "outputs": [
    {
     "data": {
      "text/plain": [
       "regio2             cellar\n",
       "Aachen             True      0.677680\n",
       "                   False     0.322320\n",
       "Ahrweiler          True      0.621451\n",
       "                   False     0.378549\n",
       "Aichach Friedberg  True      0.679389\n",
       "                               ...   \n",
       "Zollernalbkreis    False     0.405405\n",
       "Zweibrücken        False     0.547619\n",
       "                   True      0.452381\n",
       "Zwickau            True      0.687461\n",
       "                   False     0.312539\n",
       "Name: cellar, Length: 788, dtype: float64"
      ]
     },
     "execution_count": 119,
     "metadata": {},
     "output_type": "execute_result"
    }
   ],
   "source": [
    "#Here we save the percentages for appartments containing a cellar as \"percentageofcellar\"\n",
    "percentageofcellar = app_city['cellar'].value_counts(normalize=True)\n",
    "percentageofcellar"
   ]
  },
  {
   "cell_type": "code",
   "execution_count": 120,
   "metadata": {},
   "outputs": [
    {
     "ename": "ValueError",
     "evalue": "len(left_on) must equal the number of levels in the index of \"right\"",
     "output_type": "error",
     "traceback": [
      "\u001b[1;31m---------------------------------------------------------------------------\u001b[0m",
      "\u001b[1;31mValueError\u001b[0m                                Traceback (most recent call last)",
      "\u001b[1;32m~\\AppData\\Local\\Temp/ipykernel_10292/2659423806.py\u001b[0m in \u001b[0;36m<module>\u001b[1;34m\u001b[0m\n\u001b[0;32m      1\u001b[0m \u001b[1;31m#We merge the percentageofcellar to the uni_cities DataFrame as new column\u001b[0m\u001b[1;33m\u001b[0m\u001b[1;33m\u001b[0m\u001b[0m\n\u001b[1;32m----> 2\u001b[1;33m \u001b[0muni_cities\u001b[0m\u001b[1;33m=\u001b[0m\u001b[0muni_cities\u001b[0m\u001b[1;33m.\u001b[0m\u001b[0mmerge\u001b[0m\u001b[1;33m(\u001b[0m\u001b[0mpercentageofcellar\u001b[0m\u001b[1;33m,\u001b[0m \u001b[0mright_index\u001b[0m\u001b[1;33m=\u001b[0m\u001b[1;32mTrue\u001b[0m\u001b[1;33m,\u001b[0m \u001b[0mleft_on\u001b[0m\u001b[1;33m=\u001b[0m\u001b[1;34m\"city\"\u001b[0m\u001b[1;33m,\u001b[0m \u001b[0mhow\u001b[0m\u001b[1;33m=\u001b[0m\u001b[1;34m\"left\"\u001b[0m\u001b[1;33m)\u001b[0m\u001b[1;33m\u001b[0m\u001b[1;33m\u001b[0m\u001b[0m\n\u001b[0m",
      "\u001b[1;32m~\\anaconda3\\lib\\site-packages\\pandas\\core\\frame.py\u001b[0m in \u001b[0;36mmerge\u001b[1;34m(self, right, how, on, left_on, right_on, left_index, right_index, sort, suffixes, copy, indicator, validate)\u001b[0m\n\u001b[0;32m   9188\u001b[0m         \u001b[1;32mfrom\u001b[0m \u001b[0mpandas\u001b[0m\u001b[1;33m.\u001b[0m\u001b[0mcore\u001b[0m\u001b[1;33m.\u001b[0m\u001b[0mreshape\u001b[0m\u001b[1;33m.\u001b[0m\u001b[0mmerge\u001b[0m \u001b[1;32mimport\u001b[0m \u001b[0mmerge\u001b[0m\u001b[1;33m\u001b[0m\u001b[1;33m\u001b[0m\u001b[0m\n\u001b[0;32m   9189\u001b[0m \u001b[1;33m\u001b[0m\u001b[0m\n\u001b[1;32m-> 9190\u001b[1;33m         return merge(\n\u001b[0m\u001b[0;32m   9191\u001b[0m             \u001b[0mself\u001b[0m\u001b[1;33m,\u001b[0m\u001b[1;33m\u001b[0m\u001b[1;33m\u001b[0m\u001b[0m\n\u001b[0;32m   9192\u001b[0m             \u001b[0mright\u001b[0m\u001b[1;33m,\u001b[0m\u001b[1;33m\u001b[0m\u001b[1;33m\u001b[0m\u001b[0m\n",
      "\u001b[1;32m~\\anaconda3\\lib\\site-packages\\pandas\\core\\reshape\\merge.py\u001b[0m in \u001b[0;36mmerge\u001b[1;34m(left, right, how, on, left_on, right_on, left_index, right_index, sort, suffixes, copy, indicator, validate)\u001b[0m\n\u001b[0;32m    104\u001b[0m     \u001b[0mvalidate\u001b[0m\u001b[1;33m:\u001b[0m \u001b[0mstr\u001b[0m \u001b[1;33m|\u001b[0m \u001b[1;32mNone\u001b[0m \u001b[1;33m=\u001b[0m \u001b[1;32mNone\u001b[0m\u001b[1;33m,\u001b[0m\u001b[1;33m\u001b[0m\u001b[1;33m\u001b[0m\u001b[0m\n\u001b[0;32m    105\u001b[0m ) -> DataFrame:\n\u001b[1;32m--> 106\u001b[1;33m     op = _MergeOperation(\n\u001b[0m\u001b[0;32m    107\u001b[0m         \u001b[0mleft\u001b[0m\u001b[1;33m,\u001b[0m\u001b[1;33m\u001b[0m\u001b[1;33m\u001b[0m\u001b[0m\n\u001b[0;32m    108\u001b[0m         \u001b[0mright\u001b[0m\u001b[1;33m,\u001b[0m\u001b[1;33m\u001b[0m\u001b[1;33m\u001b[0m\u001b[0m\n",
      "\u001b[1;32m~\\anaconda3\\lib\\site-packages\\pandas\\core\\reshape\\merge.py\u001b[0m in \u001b[0;36m__init__\u001b[1;34m(self, left, right, how, on, left_on, right_on, axis, left_index, right_index, sort, suffixes, copy, indicator, validate)\u001b[0m\n\u001b[0;32m    679\u001b[0m             \u001b[0mwarnings\u001b[0m\u001b[1;33m.\u001b[0m\u001b[0mwarn\u001b[0m\u001b[1;33m(\u001b[0m\u001b[0mmsg\u001b[0m\u001b[1;33m,\u001b[0m \u001b[0mFutureWarning\u001b[0m\u001b[1;33m,\u001b[0m \u001b[0mstacklevel\u001b[0m\u001b[1;33m=\u001b[0m\u001b[1;36m3\u001b[0m\u001b[1;33m)\u001b[0m\u001b[1;33m\u001b[0m\u001b[1;33m\u001b[0m\u001b[0m\n\u001b[0;32m    680\u001b[0m \u001b[1;33m\u001b[0m\u001b[0m\n\u001b[1;32m--> 681\u001b[1;33m         \u001b[0mself\u001b[0m\u001b[1;33m.\u001b[0m\u001b[0m_validate_specification\u001b[0m\u001b[1;33m(\u001b[0m\u001b[1;33m)\u001b[0m\u001b[1;33m\u001b[0m\u001b[1;33m\u001b[0m\u001b[0m\n\u001b[0m\u001b[0;32m    682\u001b[0m \u001b[1;33m\u001b[0m\u001b[0m\n\u001b[0;32m    683\u001b[0m         \u001b[0mcross_col\u001b[0m \u001b[1;33m=\u001b[0m \u001b[1;32mNone\u001b[0m\u001b[1;33m\u001b[0m\u001b[1;33m\u001b[0m\u001b[0m\n",
      "\u001b[1;32m~\\anaconda3\\lib\\site-packages\\pandas\\core\\reshape\\merge.py\u001b[0m in \u001b[0;36m_validate_specification\u001b[1;34m(self)\u001b[0m\n\u001b[0;32m   1379\u001b[0m             \u001b[1;32mif\u001b[0m \u001b[0mself\u001b[0m\u001b[1;33m.\u001b[0m\u001b[0mright_index\u001b[0m\u001b[1;33m:\u001b[0m\u001b[1;33m\u001b[0m\u001b[1;33m\u001b[0m\u001b[0m\n\u001b[0;32m   1380\u001b[0m                 \u001b[1;32mif\u001b[0m \u001b[0mlen\u001b[0m\u001b[1;33m(\u001b[0m\u001b[0mself\u001b[0m\u001b[1;33m.\u001b[0m\u001b[0mleft_on\u001b[0m\u001b[1;33m)\u001b[0m \u001b[1;33m!=\u001b[0m \u001b[0mself\u001b[0m\u001b[1;33m.\u001b[0m\u001b[0mright\u001b[0m\u001b[1;33m.\u001b[0m\u001b[0mindex\u001b[0m\u001b[1;33m.\u001b[0m\u001b[0mnlevels\u001b[0m\u001b[1;33m:\u001b[0m\u001b[1;33m\u001b[0m\u001b[1;33m\u001b[0m\u001b[0m\n\u001b[1;32m-> 1381\u001b[1;33m                     raise ValueError(\n\u001b[0m\u001b[0;32m   1382\u001b[0m                         \u001b[1;34m\"len(left_on) must equal the number \"\u001b[0m\u001b[1;33m\u001b[0m\u001b[1;33m\u001b[0m\u001b[0m\n\u001b[0;32m   1383\u001b[0m                         \u001b[1;34m'of levels in the index of \"right\"'\u001b[0m\u001b[1;33m\u001b[0m\u001b[1;33m\u001b[0m\u001b[0m\n",
      "\u001b[1;31mValueError\u001b[0m: len(left_on) must equal the number of levels in the index of \"right\""
     ]
    }
   ],
   "source": [
    "#We merge the percentageofcellar to the uni_cities DataFrame as new column\n",
    "uni_cities=uni_cities.merge(percentageofcellar, right_index=True, left_on=\"city\", how=\"left\")"
   ]
  },
  {
   "cell_type": "code",
   "execution_count": null,
   "metadata": {},
   "outputs": [],
   "source": [
    "## Percentage of lift \n"
   ]
  },
  {
   "cell_type": "code",
   "execution_count": 51,
   "metadata": {},
   "outputs": [
    {
     "data": {
      "text/plain": [
       "regio2             lift \n",
       "Aachen             False    0.741652\n",
       "                   True     0.258348\n",
       "Ahrweiler          False    0.719243\n",
       "                   True     0.280757\n",
       "Aichach Friedberg  False    0.709924\n",
       "                              ...   \n",
       "Zollernalbkreis    True     0.243243\n",
       "Zweibrücken        False    0.928571\n",
       "                   True     0.071429\n",
       "Zwickau            False    0.905909\n",
       "                   True     0.094091\n",
       "Name: lift, Length: 784, dtype: float64"
      ]
     },
     "execution_count": 51,
     "metadata": {},
     "output_type": "execute_result"
    }
   ],
   "source": [
    "#Here we save the percentages for appartments containing a lift as \"percentageoflift\"\n",
    "percentageoflift = app_city['lift'].value_counts(normalize=True)\n",
    "percentageoflift"
   ]
  },
  {
   "cell_type": "code",
   "execution_count": 117,
   "metadata": {},
   "outputs": [
    {
     "ename": "NameError",
     "evalue": "name 'percentageoflift' is not defined",
     "output_type": "error",
     "traceback": [
      "\u001b[1;31m---------------------------------------------------------------------------\u001b[0m",
      "\u001b[1;31mNameError\u001b[0m                                 Traceback (most recent call last)",
      "\u001b[1;32m~\\AppData\\Local\\Temp/ipykernel_10292/3289032970.py\u001b[0m in \u001b[0;36m<module>\u001b[1;34m\u001b[0m\n\u001b[0;32m      1\u001b[0m \u001b[1;31m#We merge the percentageoflift to the uni_cities DataFrame as new column\u001b[0m\u001b[1;33m\u001b[0m\u001b[1;33m\u001b[0m\u001b[0m\n\u001b[1;32m----> 2\u001b[1;33m \u001b[0muni_cities\u001b[0m\u001b[1;33m=\u001b[0m\u001b[0muni_cities\u001b[0m\u001b[1;33m.\u001b[0m\u001b[0mmerge\u001b[0m\u001b[1;33m(\u001b[0m\u001b[0mpercentageoflift\u001b[0m\u001b[1;33m,\u001b[0m \u001b[0mright_index\u001b[0m\u001b[1;33m=\u001b[0m\u001b[1;32mTrue\u001b[0m\u001b[1;33m,\u001b[0m \u001b[0mleft_on\u001b[0m\u001b[1;33m=\u001b[0m\u001b[1;34m\"city\"\u001b[0m\u001b[1;33m,\u001b[0m \u001b[0mhow\u001b[0m\u001b[1;33m=\u001b[0m\u001b[1;34m\"left\"\u001b[0m\u001b[1;33m)\u001b[0m\u001b[1;33m\u001b[0m\u001b[1;33m\u001b[0m\u001b[0m\n\u001b[0m",
      "\u001b[1;31mNameError\u001b[0m: name 'percentageoflift' is not defined"
     ]
    }
   ],
   "source": [
    "#We merge the percentageoflift to the uni_cities DataFrame as new column\n",
    "uni_cities=uni_cities.merge(percentageoflift, right_index=True, left_on=\"city\", how=\"left\")"
   ]
  },
  {
   "cell_type": "code",
   "execution_count": null,
   "metadata": {},
   "outputs": [],
   "source": [
    "## Percentage of garden"
   ]
  },
  {
   "cell_type": "code",
   "execution_count": 52,
   "metadata": {},
   "outputs": [
    {
     "data": {
      "text/plain": [
       "regio2             garden\n",
       "Aachen             False     0.776450\n",
       "                   True      0.223550\n",
       "Ahrweiler          False     0.776025\n",
       "                   True      0.223975\n",
       "Aichach Friedberg  False     0.725191\n",
       "                               ...   \n",
       "Zollernalbkreis    True      0.290541\n",
       "Zweibrücken        False     0.928571\n",
       "                   True      0.071429\n",
       "Zwickau            False     0.762611\n",
       "                   True      0.237389\n",
       "Name: garden, Length: 788, dtype: float64"
      ]
     },
     "execution_count": 52,
     "metadata": {},
     "output_type": "execute_result"
    }
   ],
   "source": [
    "#Here we save the percentages for appartments containing a garden as \"percentageofgarden\"\n",
    "percentageofgarden = app_city['garden'].value_counts(normalize=True)\n",
    "percentageofgarden"
   ]
  },
  {
   "cell_type": "code",
   "execution_count": 118,
   "metadata": {},
   "outputs": [
    {
     "ename": "NameError",
     "evalue": "name 'percentageoflift' is not defined",
     "output_type": "error",
     "traceback": [
      "\u001b[1;31m---------------------------------------------------------------------------\u001b[0m",
      "\u001b[1;31mNameError\u001b[0m                                 Traceback (most recent call last)",
      "\u001b[1;32m~\\AppData\\Local\\Temp/ipykernel_10292/3289032970.py\u001b[0m in \u001b[0;36m<module>\u001b[1;34m\u001b[0m\n\u001b[0;32m      1\u001b[0m \u001b[1;31m#We merge the percentageoflift to the uni_cities DataFrame as new column\u001b[0m\u001b[1;33m\u001b[0m\u001b[1;33m\u001b[0m\u001b[0m\n\u001b[1;32m----> 2\u001b[1;33m \u001b[0muni_cities\u001b[0m\u001b[1;33m=\u001b[0m\u001b[0muni_cities\u001b[0m\u001b[1;33m.\u001b[0m\u001b[0mmerge\u001b[0m\u001b[1;33m(\u001b[0m\u001b[0mpercentageoflift\u001b[0m\u001b[1;33m,\u001b[0m \u001b[0mright_index\u001b[0m\u001b[1;33m=\u001b[0m\u001b[1;32mTrue\u001b[0m\u001b[1;33m,\u001b[0m \u001b[0mleft_on\u001b[0m\u001b[1;33m=\u001b[0m\u001b[1;34m\"city\"\u001b[0m\u001b[1;33m,\u001b[0m \u001b[0mhow\u001b[0m\u001b[1;33m=\u001b[0m\u001b[1;34m\"left\"\u001b[0m\u001b[1;33m)\u001b[0m\u001b[1;33m\u001b[0m\u001b[1;33m\u001b[0m\u001b[0m\n\u001b[0m",
      "\u001b[1;31mNameError\u001b[0m: name 'percentageoflift' is not defined"
     ]
    }
   ],
   "source": [
    "#We merge the percentageoflift to the uni_cities DataFrame as new column\n",
    "uni_cities=uni_cities.merge(percentageoflift, right_index=True, left_on=\"city\", how=\"left\")"
   ]
  },
  {
   "cell_type": "code",
   "execution_count": 10,
   "metadata": {},
   "outputs": [
    {
     "ename": "NameError",
     "evalue": "name 'uni_cities' is not defined",
     "output_type": "error",
     "traceback": [
      "\u001b[1;31m---------------------------------------------------------------------------\u001b[0m",
      "\u001b[1;31mNameError\u001b[0m                                 Traceback (most recent call last)",
      "\u001b[1;32m<ipython-input-10-d22bfb47025e>\u001b[0m in \u001b[0;36m<module>\u001b[1;34m\u001b[0m\n\u001b[1;32m----> 1\u001b[1;33m \u001b[0muni_cities\u001b[0m\u001b[1;33m\u001b[0m\u001b[1;33m\u001b[0m\u001b[0m\n\u001b[0m\u001b[0;32m      2\u001b[0m \u001b[1;31m#uni_cities.to_csv(\"data/final.csv\")\u001b[0m\u001b[1;33m\u001b[0m\u001b[1;33m\u001b[0m\u001b[1;33m\u001b[0m\u001b[0m\n\u001b[0;32m      3\u001b[0m \u001b[0muni_cities\u001b[0m\u001b[1;33m.\u001b[0m\u001b[0mto_excel\u001b[0m\u001b[1;33m(\u001b[0m\u001b[1;34m\"data/test.xlsx\"\u001b[0m\u001b[1;33m)\u001b[0m\u001b[1;33m\u001b[0m\u001b[1;33m\u001b[0m\u001b[0m\n",
      "\u001b[1;31mNameError\u001b[0m: name 'uni_cities' is not defined"
     ]
    }
   ],
   "source": [
    "uni_cities\n",
    "#uni_cities.to_csv(\"data/final.csv\")\n",
    "uni_cities.to_excel(\"data/test.xlsx\")"
   ]
  },
  {
   "cell_type": "markdown",
   "metadata": {},
   "source": [
    "Mean of Telekom Upload Speed"
   ]
  },
  {
   "cell_type": "code",
   "execution_count": 28,
   "metadata": {},
   "outputs": [
    {
     "data": {
      "text/plain": [
       "regio2\n",
       "Aachen               21.252454\n",
       "Ahrweiler            27.642705\n",
       "Aichach Friedberg    29.764706\n",
       "Alb Donau            24.396154\n",
       "Altenburger Land     31.368675\n",
       "                       ...    \n",
       "Wuppertal            32.548338\n",
       "Würzburg             24.245923\n",
       "Zollernalbkreis      28.824427\n",
       "Zweibrücken          32.368421\n",
       "Zwickau              30.053720\n",
       "Name: telekomUploadSpeed, Length: 394, dtype: float64"
      ]
     },
     "execution_count": 28,
     "metadata": {},
     "output_type": "execute_result"
    }
   ],
   "source": [
    "#Here we save the grouping of the living space by city as \"meanoflivingSpace\"\n",
    "meanofuploadspeed=app_city[\"telekomUploadSpeed\"].mean()\n",
    "meanofuploadspeed"
   ]
  },
  {
   "cell_type": "code",
   "execution_count": null,
   "metadata": {},
   "outputs": [],
   "source": [
    "#We merge the percentageoflift to the uni_cities DataFrame as new column\n",
    "uni_cities=uni_cities.merge(meanofuploadspeed, right_index=True, left_on=\"city\", how=\"left\")"
   ]
  },
  {
   "cell_type": "markdown",
   "metadata": {},
   "source": [
    "Median of upload speed"
   ]
  },
  {
   "cell_type": "code",
   "execution_count": 29,
   "metadata": {},
   "outputs": [
    {
     "data": {
      "text/plain": [
       "regio2\n",
       "Aachen               10.0\n",
       "Ahrweiler            40.0\n",
       "Aichach Friedberg    40.0\n",
       "Alb Donau            40.0\n",
       "Altenburger Land     40.0\n",
       "                     ... \n",
       "Wuppertal            40.0\n",
       "Würzburg             10.0\n",
       "Zollernalbkreis      40.0\n",
       "Zweibrücken          40.0\n",
       "Zwickau              40.0\n",
       "Name: telekomUploadSpeed, Length: 394, dtype: float64"
      ]
     },
     "execution_count": 29,
     "metadata": {},
     "output_type": "execute_result"
    }
   ],
   "source": [
    "medianofuploadspeed=app_city[\"telekomUploadSpeed\"].median()\n",
    "medianofuploadspeed"
   ]
  },
  {
   "cell_type": "code",
   "execution_count": null,
   "metadata": {},
   "outputs": [],
   "source": [
    "#We merge the percentageoflift to the uni_cities DataFrame as new column\n",
    "uni_cities=uni_cities.merge(medianofuploadspeed, right_index=True, left_on=\"city\", how=\"left\")"
   ]
  },
  {
   "cell_type": "markdown",
   "metadata": {},
   "source": [
    "Mean of Yearconstruted"
   ]
  },
  {
   "cell_type": "code",
   "execution_count": 34,
   "metadata": {},
   "outputs": [
    {
     "data": {
      "text/plain": [
       "regio2\n",
       "Aachen               1974.546673\n",
       "Ahrweiler            1985.214876\n",
       "Aichach Friedberg    1996.070175\n",
       "Alb Donau            1988.393103\n",
       "Altenburger Land     1938.467871\n",
       "                        ...     \n",
       "Wuppertal            1954.970539\n",
       "Würzburg             1982.393443\n",
       "Zollernalbkreis      1981.266055\n",
       "Zweibrücken          1961.978723\n",
       "Zwickau              1941.333061\n",
       "Name: yearConstructed, Length: 394, dtype: float64"
      ]
     },
     "execution_count": 34,
     "metadata": {},
     "output_type": "execute_result"
    }
   ],
   "source": [
    "#Here we save the grouping of the living space by city as \"meanofyearConstruted\"\n",
    "meanofyearConstruted=app_city[\"yearConstructed\"].mean()\n",
    "meanofyearConstruted"
   ]
  },
  {
   "cell_type": "markdown",
   "metadata": {},
   "source": [
    "Pets allowed"
   ]
  },
  {
   "cell_type": "code",
   "execution_count": 43,
   "metadata": {},
   "outputs": [
    {
     "ename": "SyntaxError",
     "evalue": "invalid syntax (<ipython-input-43-999163c7ffe5>, line 1)",
     "output_type": "error",
     "traceback": [
      "\u001b[1;36m  File \u001b[1;32m\"<ipython-input-43-999163c7ffe5>\"\u001b[1;36m, line \u001b[1;32m1\u001b[0m\n\u001b[1;33m    appartments.[\"petsAllowed\"].replace({\"negotiable\" : \"yes\", \"NaN\" : \"no\"})\u001b[0m\n\u001b[1;37m                ^\u001b[0m\n\u001b[1;31mSyntaxError\u001b[0m\u001b[1;31m:\u001b[0m invalid syntax\n"
     ]
    }
   ],
   "source": [
    "appartments.[\"petsAllowed\"].replace({\"negotiable\" : \"yes\", \"NaN\" : \"no\"})"
   ]
  },
  {
   "cell_type": "code",
   "execution_count": 44,
   "metadata": {},
   "outputs": [],
   "source": [
    "#end\n"
   ]
  }
 ],
 "metadata": {
  "interpreter": {
   "hash": "45429065500bda149a16f7a19db94ab43fc4cf018270aded57a9293b54a45b66"
  },
  "kernelspec": {
   "display_name": "Python 3.9.7 ('base')",
   "language": "python",
   "name": "python3"
  },
  "language_info": {
   "codemirror_mode": {
    "name": "ipython",
    "version": 3
   },
   "file_extension": ".py",
   "mimetype": "text/x-python",
   "name": "python",
   "nbconvert_exporter": "python",
   "pygments_lexer": "ipython3",
   "version": "3.8.8"
  },
  "orig_nbformat": 4
 },
 "nbformat": 4,
 "nbformat_minor": 2
}
